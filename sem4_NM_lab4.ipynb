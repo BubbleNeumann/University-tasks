{
 "cells": [
  {
   "cell_type": "markdown",
   "metadata": {},
   "source": [
    "#### Чернышова Дана, группа 6209\n",
    "##### Вариант 21 (21 mod 10 = 1)\n",
    "##### Лабораторная работа №4"
   ]
  },
  {
   "cell_type": "code",
   "execution_count": 3,
   "metadata": {},
   "outputs": [],
   "source": [
    "import sympy as sp\n",
    "import numpy as np"
   ]
  },
  {
   "cell_type": "markdown",
   "metadata": {},
   "source": [
    "Задание 1. Используя интерполяционную формулу Лагранжа для неравноотстоящих узлов (а)построить многочлен Лагранжа\n",
    "(вывести формулу), (б)вывести график, (в)вычислить значения функции при данных значениях аргумента."
   ]
  },
  {
   "cell_type": "code",
   "execution_count": 48,
   "metadata": {},
   "outputs": [
    {
     "name": "stdout",
     "output_type": "stream",
     "text": [
      "1.15248681985395*x**5 - 7.77221126726363*x**4 + 37.8172183535062*x**3 - 35.0439767725766*x**2 + 22.1249822163954*x - 9.31322574615479e-10\n"
     ]
    }
   ],
   "source": [
    "X = [0.43, 0.48, 0.55, 0.62, 0.70, 0.75]\n",
    "y = [1.6359, 1.73234, 1.87686, 2.03345, 2.22846, 2.35973]\n",
    "\n",
    "x = sp.Symbol('x')\n",
    "\n",
    "func = []\n",
    "\n",
    "for ind in range(len(X)):\n",
    "    numerator = np.dot(y[ind], np.prod([(x-i) for i in (y[:ind] + y[ind+1:])]))\n",
    "    denominator = np.prod([X[ind]-i for i in (X[:ind] + X[ind+1:])])\n",
    "    func.append(numerator/denominator)\n",
    "\n",
    "func = sp.expand(sum(func))\n",
    "\n",
    "print(func)"
   ]
  },
  {
   "cell_type": "code",
   "execution_count": 47,
   "metadata": {},
   "outputs": [
    {
     "data": {
      "image/png": "[encoded data removed]",
      "text/plain": [
       "<Figure size 432x288 with 1 Axes>"
      ]
     },
     "metadata": {
      "needs_background": "light"
     },
     "output_type": "display_data"
    }
   ],
   "source": [
    "A = sp.plot(func, (x, 0, 1))"
   ]
  },
  {
   "cell_type": "code",
   "execution_count": 46,
   "metadata": {},
   "outputs": [
    {
     "name": "stdout",
     "output_type": "stream",
     "text": [
      "[9.65368705954408, 6.72361100720955, 8.62263679501684, 10.3463504167344, 8.03079760157782]\n"
     ]
    }
   ],
   "source": [
    "val = [0.702, 0.512, 0.645, 0.736, 0.608]\n",
    "\n",
    "print([func.subs(x, i) for i in val])"
   ]
  },
  {
   "cell_type": "markdown",
   "metadata": {},
   "source": [
    "Задание 2. Используя первую или вторую интерполяционную формулу Ньютона вычислить указанные значения функции при данных\n",
    "значениях аргумента."
   ]
  },
  {
   "cell_type": "code",
   "execution_count": 74,
   "metadata": {},
   "outputs": [],
   "source": [
    "def get_closest(array, values):\n",
    "    idxs = np.searchsorted(array, values, side=\"right\")\n",
    "    prev_idx_is_less = ((idxs == len(array)) | (np.fabs(values - array[np.maximum(idxs-1, 0)]) < np.fabs(values - array[np.minimum(idxs, len(array)-1)])))\n",
    "    idxs[prev_idx_is_less] -= 1\n",
    "    return idxs"
   ]
  },
  {
   "cell_type": "code",
   "execution_count": 79,
   "metadata": {},
   "outputs": [],
   "source": [
    "def Newton_interpolation1(x, y, x8, n):\n",
    "    yd1 = np.array([y[i+1] - y[i] for i in range(n - 1)])\n",
    "    yd2 = np.array([yd1[i+1] - yd1[i] for i in range(n - 2)])\n",
    "    yd3 = np.array([yd2[i+1] - yd2[i] for i in range(n - 3)])\n",
    "    print(yd3)\n",
    "    y8 = np.zeros(len(x8), dtype=float)\n",
    "    h = x[1] - x[0]\n",
    "    indexes = get_closest(x, x8)\n",
    "    print(indexes)\n",
    "    for i in range(len(x8)):\n",
    "        if indexes[i] <= len(x)/2:       # forward interpolation\n",
    "            t = (x8[i] - x[indexes[i]])/h\n",
    "            y8[i] = y[indexes[i]] + t*yd1[indexes[i]] + t*(t-1)*yd2[indexes[i]]/2 + t*(t-1)*(t-2)*yd3[indexes[i]]/6\n",
    "        else:                            # back interpolation\n",
    "            t = (x8[i] - x[indexes[i]])/h\n",
    "            y8[i] = y[indexes[i]] + t*yd1[indexes[i]-1] + t*(t-1)*yd2[indexes[i]-2]/2 + t*(t-1)*(t-2)*yd3[indexes[i]-3]/6\n",
    "    return y8"
   ]
  },
  {
   "cell_type": "code",
   "execution_count": 104,
   "metadata": {},
   "outputs": [],
   "source": [
    "def Newton_interpolation(X, y, x, n):\n",
    "\n",
    "    yd = []\n",
    "\n",
    "    for i in range(3):\n",
    "        yd.append(np.array([y[j+1] - y[j] for j in range(n - 1 - i)]))\n",
    "\n",
    "\n",
    "    # yd1 = np.array([y[i+1] - y[i] for i in range(n - 1)])\n",
    "    # yd2 = np.array([yd1[i+1] - yd1[i] for i in range(n - 2)])\n",
    "    # yd3 = np.array([yd2[i+1] - yd2[i] for i in range(n - 3)])\n",
    "    y8 = np.zeros(len(x), dtype=float)\n",
    "    h = X[1] - X[0]\n",
    "    indexes = get_closest(X, x)\n",
    "    for i in range(len(x)):\n",
    "        t = (x[i] - X[indexes[i]])/h\n",
    "        if indexes[i] <= len(X)/2:       # forward interpolation\n",
    "            y8[i] = y[indexes[i]] + t*yd[0][indexes[i]] + t*(t-1)*yd[1][indexes[i]]/2 + t*(t-1)*(t-2)*yd[2][indexes[i]]/6\n",
    "        else:                            # back interpolation\n",
    "            y8[i] = y[indexes[i]] + t*yd[0][indexes[i]-1] + t*(t-1)*yd[1][indexes[i]-2]/2 + t*(t-1)*(t-2)*yd[2][indexes[i]-3]/6\n",
    "    \n",
    "    return y8"
   ]
  },
  {
   "cell_type": "code",
   "execution_count": 105,
   "metadata": {},
   "outputs": [
    {
     "name": "stdout",
     "output_type": "stream",
     "text": [
      "\n",
      "default x:\n",
      "[1.415 1.42  1.425 1.43  1.435 1.44  1.445 1.45  1.455 1.46  1.465]\n",
      "\n",
      "default y:\n",
      "[0.888551 0.889599 0.890637 0.891667 0.892687 0.893698 0.8947   0.895693\n",
      " 0.896677 0.897653 0.898619]\n",
      "\n",
      "interpolated:\n",
      "[0.888744993184     0.8980800625       0.8882842839999999\n",
      " 0.8995849999999999]\n"
     ]
    }
   ],
   "source": [
    "np.set_printoptions(precision=3, suppress=True) # set precision for linspace\n",
    "\n",
    "\n",
    "N = 11 # number of samples to generate\n",
    "X = np.linspace(1.415, 1.465, num=N)\n",
    "print(f'\\ndefault x:\\n{X}')\n",
    "\n",
    "np.set_printoptions(precision=18) # reset precision\n",
    "\n",
    "y = np.array([0.888551, 0.889599, 0.890637, 0.891667, 0.892687, 0.893698, 0.894700, 0.895693, 0.896677, 0.897653, 0.898619])\n",
    "print(f'\\ndefault y:\\n{y}')\n",
    "\n",
    "x = np.array([1.4161, 1.4625, 1.4135, 1.470])\n",
    "\n",
    "print(f'\\ninterpolated:\\n{Newton_interpolation(X, y, x, N)}')"
   ]
  }
 ],
 "metadata": {
  "interpreter": {
   "hash": "df122b9f9a9d9510327ccd2e8dadfceea3e9547195b79c25eecd2b3cd67ac7c3"
  },
  "kernelspec": {
   "display_name": "Python 3.9.12 64-bit (windows store)",
   "language": "python",
   "name": "python3"
  },
  "language_info": {
   "codemirror_mode": {
    "name": "ipython",
    "version": 3
   },
   "file_extension": ".py",
   "mimetype": "text/x-python",
   "name": "python",
   "nbconvert_exporter": "python",
   "pygments_lexer": "ipython3",
   "version": "3.9.13"
  },
  "orig_nbformat": 4
 },
 "nbformat": 4,
 "nbformat_minor": 2
}
