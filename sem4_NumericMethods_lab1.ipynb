{
 "cells": [
  {
   "cell_type": "markdown",
   "metadata": {},
   "source": [
    "#### Чернышова Дана, группа 6209\n",
    "##### Вариант 21\n",
    "##### Лабораторная работа №1"
   ]
  },
  {
   "cell_type": "code",
   "execution_count": 1,
   "metadata": {},
   "outputs": [],
   "source": [
    "import math\n",
    "from mpmath import *\n",
    "import numpy as np\n",
    "import matplotlib.pyplot as plt\n",
    "from scipy import integrate"
   ]
  },
  {
   "cell_type": "markdown",
   "metadata": {},
   "source": [
    "Задание 1. Создать матрицу 5х5 из единиц. Создать единичную матрицу 50х50."
   ]
  },
  {
   "cell_type": "code",
   "execution_count": 2,
   "metadata": {},
   "outputs": [
    {
     "name": "stdout",
     "output_type": "stream",
     "text": [
      "[[9 0 3 0 2]\n",
      " [5 2 9 1 7]\n",
      " [3 3 5 0 5]\n",
      " [5 7 7 5 2]\n",
      " [2 8 4 4 3]]\n",
      "[[1. 0. 0. ... 0. 0. 0.]\n",
      " [0. 1. 0. ... 0. 0. 0.]\n",
      " [0. 0. 1. ... 0. 0. 0.]\n",
      " ...\n",
      " [0. 0. 0. ... 1. 0. 0.]\n",
      " [0. 0. 0. ... 0. 1. 0.]\n",
      " [0. 0. 0. ... 0. 0. 1.]]\n"
     ]
    }
   ],
   "source": [
    "print(np.random.randint(0, 10, (5, 5)))\n",
    "print(np.identity(50))"
   ]
  },
  {
   "cell_type": "markdown",
   "metadata": {},
   "source": [
    "Задание 2. Вычислить определитель\n",
    "$ \\begin{vmatrix}\n",
    " 3 &-1 &2 &3 &2 \\\\ \n",
    " 1 &2 &-3 &3 &4 \\\\ \n",
    " 2 &-3 &4 &2 &1 \\\\ \n",
    " 3 &0 &0 &5 &0 \\\\ \n",
    " 2 &0 &0 &4 &0 \\\\ \n",
    "\\end{vmatrix} $"
   ]
  },
  {
   "cell_type": "code",
   "execution_count": 3,
   "metadata": {},
   "outputs": [
    {
     "name": "stdout",
     "output_type": "stream",
     "text": [
      "-22.000000000000036\n"
     ]
    }
   ],
   "source": [
    "A = [[3, -1, 2, 3, 2],\n",
    "      [1, 2, -3, 3, 4],\n",
    "      [2, -3, 4, 2, 1],\n",
    "      [3, 0, 0, 5, 0],\n",
    "      [2, 0, 0, 4, 0]]\n",
    "\n",
    "print(np.linalg.det(A))"
   ]
  },
  {
   "cell_type": "markdown",
   "metadata": {},
   "source": [
    "Задание 3. Создать случайную матрицу А из целых чисел из отрезка [0, 5] размера 4х4. Создать вектор-столбец В подходящего размера. Решить систему АХ = В. "
   ]
  },
  {
   "cell_type": "code",
   "execution_count": 4,
   "metadata": {},
   "outputs": [
    {
     "name": "stdout",
     "output_type": "stream",
     "text": [
      "[[ 0.46153846]\n",
      " [ 3.        ]\n",
      " [-1.61538462]\n",
      " [ 0.87179487]]\n"
     ]
    }
   ],
   "source": [
    "A = np.random.randint(0, 5, (4, 4)) \n",
    "B = np.random.randint(0, 5, (4, 1))\n",
    "print(np.linalg.solve(A, B))"
   ]
  },
  {
   "cell_type": "markdown",
   "metadata": {},
   "source": [
    "Задание 4. Вычислить интеграл: $ \\int_{0}^{1/3}ch^{2}(3x)dx $"
   ]
  },
  {
   "cell_type": "code",
   "execution_count": 5,
   "metadata": {},
   "outputs": [
    {
     "name": "stdout",
     "output_type": "stream",
     "text": [
      "0.4689050339872516\n"
     ]
    }
   ],
   "source": [
    "res, err =integrate.quad(lambda x: math.pow(cosh(x*3), 2), 0, 1/3)\n",
    "print(res)"
   ]
  },
  {
   "cell_type": "markdown",
   "metadata": {},
   "source": [
    "Задние 5. Вычислить интеграл: $ \\int_{0}^{1}dx\\int_{0}^{1-x}dy\\int_{0}^{1-x-y}(x+y+z)dz $"
   ]
  },
  {
   "cell_type": "code",
   "execution_count": 6,
   "metadata": {},
   "outputs": [
    {
     "name": "stdout",
     "output_type": "stream",
     "text": [
      "0.125\n"
     ]
    }
   ],
   "source": [
    "f = lambda x, y, z: x + y + z\n",
    "res, err = integrate.tplquad(f, 0, 1, lambda x: 0, lambda x: 1-x, lambda x, y: 0, lambda x, y: 1-x-y)\n",
    "print(res)"
   ]
  },
  {
   "cell_type": "markdown",
   "metadata": {},
   "source": [
    "Задание 6. Построить в одной системе координат графики функций:\n",
    "$ \\begin{cases} \n",
    " & y= 2cos(x-\\pi/4 )\\\\ \n",
    " & y= x+3\n",
    "\\end{cases} $"
   ]
  },
  {
   "cell_type": "code",
   "execution_count": 22,
   "metadata": {},
   "outputs": [
    {
     "data": {
      "image/png": "[encoded data removed]",
      "text/plain": [
       "<Figure size 504x504 with 1 Axes>"
      ]
     },
     "metadata": {
      "needs_background": "light"
     },
     "output_type": "display_data"
    }
   ],
   "source": [
    "fig, ax = plt.subplots(figsize=(7, 7))\n",
    "ax.set_xlabel('x axis')\n",
    "ax.set_ylabel('y axis')\n",
    "x = np.linspace(-2*np.pi, 2*np.pi)\n",
    "\n",
    "ax.plot(x, 2*np.cos(x - (np.pi/4)), color='red', linestyle='--', label='y = 2cos(x - pi/4)')\n",
    "ax.plot(x, x+3, label='y = x + 3')\n",
    "\n",
    "xmin, xmax = ax.get_xlim() \n",
    "ymin, ymax = ax.get_ylim()\n",
    "\n",
    "# get width and height of axes object to compute \n",
    "# matching arrowhead length and width\n",
    "bbox = ax.get_window_extent().transformed(fig.dpi_scale_trans.inverted())\n",
    "width, height = bbox.width, bbox.height\n",
    " \n",
    "\n",
    "# manual arrowhead width and length\n",
    "hw = 1./20.*(ymax-ymin) \n",
    "hl = 1./20.*(xmax-xmin)\n",
    "lw = 1. # axis line width\n",
    "ohg = 0.3 # arrow overhang\n",
    "\n",
    "# compute matching arrowhead length and width\n",
    "yhw = hw/(ymax-ymin)*(xmax-xmin)* height/width \n",
    "yhl = hl/(xmax-xmin)*(ymax-ymin)* width/height\n",
    " \n",
    "# draw x and y axis\n",
    "ax.arrow(xmin, 0, xmax-xmin, 0., fc='k', ec='k', lw = lw, \n",
    "         head_width=hw, head_length=hl, overhang = ohg, \n",
    "         length_includes_head= True, clip_on = False) \n",
    " \n",
    "ax.arrow(0, ymin, 0., ymax-ymin, fc='k', ec='k', lw = lw, \n",
    "         head_width=yhw, head_length=yhl, overhang = ohg, \n",
    "         length_includes_head= True, clip_on = False) \n",
    "\n",
    "\n",
    "ax.legend(loc='best')\n",
    "ax.grid(color='blue', linewidth=0.5, alpha= 0.2)\n"
   ]
  }
 ],
 "metadata": {
  "interpreter": {
   "hash": "f2d18c173e5ba5ab8ac6375975de63329d859dc163a077b683cc8c05d4d0149b"
  },
  "kernelspec": {
   "display_name": "Python 3.9.10 64-bit (windows store)",
   "language": "python",
   "name": "python3"
  },
  "language_info": {
   "codemirror_mode": {
    "name": "ipython",
    "version": 3
   },
   "file_extension": ".py",
   "mimetype": "text/x-python",
   "name": "python",
   "nbconvert_exporter": "python",
   "pygments_lexer": "ipython3",
   "version": "3.9.10"
  },
  "orig_nbformat": 4
 },
 "nbformat": 4,
 "nbformat_minor": 2
}
