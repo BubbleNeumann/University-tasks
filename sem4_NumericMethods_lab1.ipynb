{
 "cells": [
  {
   "cell_type": "markdown",
   "metadata": {},
   "source": [
    "#### Чернышова Дана, группа 6209\n",
    "##### Вариант 21\n",
    "##### Лабораторная работа №1"
   ]
  },
  {
   "cell_type": "code",
   "execution_count": 41,
   "metadata": {},
   "outputs": [],
   "source": [
    "import math\n",
    "from mpmath import *\n",
    "import numpy as np\n",
    "import matplotlib.pyplot as plt\n",
    "from scipy import integrate"
   ]
  },
  {
   "cell_type": "markdown",
   "metadata": {},
   "source": [
    "Задание 1. Создать матрицу 5х5 из единиц. Создать единичную матрицу 50х50."
   ]
  },
  {
   "cell_type": "code",
   "execution_count": 42,
   "metadata": {},
   "outputs": [
    {
     "name": "stdout",
     "output_type": "stream",
     "text": [
      "[[2 6 9 7 4]\n",
      " [6 1 5 4 2]\n",
      " [0 5 4 8 0]\n",
      " [2 5 7 0 6]\n",
      " [6 6 8 8 1]]\n",
      "[[1. 0. 0. ... 0. 0. 0.]\n",
      " [0. 1. 0. ... 0. 0. 0.]\n",
      " [0. 0. 1. ... 0. 0. 0.]\n",
      " ...\n",
      " [0. 0. 0. ... 1. 0. 0.]\n",
      " [0. 0. 0. ... 0. 1. 0.]\n",
      " [0. 0. 0. ... 0. 0. 1.]]\n"
     ]
    }
   ],
   "source": [
    "print(np.random.randint(0, 10, (5, 5)))\n",
    "print(np.identity(50))"
   ]
  },
  {
   "cell_type": "markdown",
   "metadata": {},
   "source": [
    "Задание 2. Вычислить определитель\n",
    "$ \\begin{vmatrix}\n",
    " 3 &-1 &2 &3 &2 \\\\ \n",
    " 1 &2 &-3 &3 &4 \\\\ \n",
    " 2 &-3 &4 &2 &1 \\\\ \n",
    " 3 &0 &0 &5 &0 \\\\ \n",
    " 2 &0 &0 &4 &0 \\\\ \n",
    "\\end{vmatrix} $"
   ]
  },
  {
   "cell_type": "code",
   "execution_count": 43,
   "metadata": {},
   "outputs": [
    {
     "name": "stdout",
     "output_type": "stream",
     "text": [
      "-22.000000000000036\n"
     ]
    }
   ],
   "source": [
    "A = [[3, -1, 2, 3, 2],\n",
    "      [1, 2, -3, 3, 4],\n",
    "      [2, -3, 4, 2, 1],\n",
    "      [3, 0, 0, 5, 0],\n",
    "      [2, 0, 0, 4, 0]]\n",
    "\n",
    "print(np.linalg.det(A))"
   ]
  },
  {
   "cell_type": "markdown",
   "metadata": {},
   "source": [
    "Задание 3. Создать случайную матрицу А из целых чисел из отрезка [0, 5] размера 4х4. Создать вектор-столбец В подходящего размера. Решить систему АХ = В. "
   ]
  },
  {
   "cell_type": "code",
   "execution_count": 44,
   "metadata": {},
   "outputs": [
    {
     "name": "stdout",
     "output_type": "stream",
     "text": [
      "[[ 1.58241758]\n",
      " [-0.3956044 ]\n",
      " [-0.05494505]\n",
      " [-0.28571429]]\n"
     ]
    }
   ],
   "source": [
    "A = np.random.randint(0, 5, (4, 4)) \n",
    "B = np.random.randint(0, 5, (4, 1))\n",
    "print(np.linalg.solve(A, B))"
   ]
  },
  {
   "cell_type": "markdown",
   "metadata": {},
   "source": [
    "Задание 4. Вычислить интеграл: $ \\int_{0}^{1/3}ch^{2}(3x)dx $"
   ]
  },
  {
   "cell_type": "code",
   "execution_count": 45,
   "metadata": {},
   "outputs": [
    {
     "data": {
      "text/plain": [
       "(0.4689050339872516, 5.205891650952883e-15)"
      ]
     },
     "execution_count": 45,
     "metadata": {},
     "output_type": "execute_result"
    }
   ],
   "source": [
    "res, err =integrate.quad(lambda x: math.pow(cosh(x*3), 2), 0, 1/3)\n",
    "print(res)"
   ]
  },
  {
   "cell_type": "markdown",
   "metadata": {},
   "source": [
    "Задние 5. Вычислить интеграл: $ \\int_{0}^{1}dx\\int_{0}^{1-x}dy\\int_{0}^{1-x-y}(x+y+z)dz $"
   ]
  },
  {
   "cell_type": "code",
   "execution_count": 46,
   "metadata": {},
   "outputs": [
    {
     "name": "stdout",
     "output_type": "stream",
     "text": [
      "0.125\n"
     ]
    }
   ],
   "source": [
    "f = lambda x, y, z: x + y + z\n",
    "res, err = integrate.tplquad(f, 0, 1, lambda x: 0, lambda x: 1-x, lambda x, y: 0, lambda x, y: 1-x-y)\n",
    "print(res)"
   ]
  },
  {
   "cell_type": "markdown",
   "metadata": {},
   "source": [
    "Задание 6. Построить в одной системе координат графики функций:\n",
    "$ \\begin{cases} \n",
    " & y= 2cos(x-\\pi/4 )\\\\ \n",
    " & y= x+3\n",
    "\\end{cases} $"
   ]
  },
  {
   "cell_type": "code",
   "execution_count": 47,
   "metadata": {},
   "outputs": [
    {
     "data": {
      "image/png": "[encoded data removed]",
      "text/plain": [
       "<Figure size 720x360 with 1 Axes>"
      ]
     },
     "metadata": {
      "needs_background": "light"
     },
     "output_type": "display_data"
    }
   ],
   "source": [
    "# task 6\n",
    "# build function graphs, label coordinate axes\n",
    "\n",
    "fig, ax = plt.subplots(figsize=(10, 5))\n",
    "ax.set_xlabel('x axis')\n",
    "ax.set_ylabel('y axis')\n",
    "x = np.linspace(-2*np.pi, 2*np.pi)\n",
    "\n",
    "ax.plot(x, 2*np.cos(x - (np.pi/4)), color='red', linestyle='--', label='y = 2cos(x - pi/4)')\n",
    "ax.plot(x, x+3, label='y = x + 3')\n",
    "\n",
    "ax.legend(loc='best')\n",
    "ax.grid(color='blue', linewidth=0.5, alpha= 0.2)\n"
   ]
  }
 ],
 "metadata": {
  "interpreter": {
   "hash": "f2d18c173e5ba5ab8ac6375975de63329d859dc163a077b683cc8c05d4d0149b"
  },
  "kernelspec": {
   "display_name": "Python 3.9.10 64-bit (windows store)",
   "language": "python",
   "name": "python3"
  },
  "language_info": {
   "codemirror_mode": {
    "name": "ipython",
    "version": 3
   },
   "file_extension": ".py",
   "mimetype": "text/x-python",
   "name": "python",
   "nbconvert_exporter": "python",
   "pygments_lexer": "ipython3",
   "version": "3.9.10"
  },
  "orig_nbformat": 4
 },
 "nbformat": 4,
 "nbformat_minor": 2
}
