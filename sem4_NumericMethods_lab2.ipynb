{
 "cells": [
  {
   "cell_type": "markdown",
   "metadata": {},
   "source": [
    "#### Чернышова Дана, группа 6209\n",
    "##### Вариант 21\n",
    "##### Лабораторная работа №2"
   ]
  },
  {
   "cell_type": "code",
   "execution_count": 57,
   "metadata": {},
   "outputs": [],
   "source": [
    "import numpy as np\n",
    "np.set_printoptions(precision=2)"
   ]
  },
  {
   "cell_type": "markdown",
   "metadata": {},
   "source": [
    "Задание 1. Создать квадратную матрицу из случайных целых чисел из [-3, 3] размера 10. Найти и вычислить минор 4 порядка, расположенный на пересечениии 2, 3, 4, 5 строк и 7, 8, 9, 10 столбцов. Использовать срезы матрицы."
   ]
  },
  {
   "cell_type": "code",
   "execution_count": 85,
   "metadata": {},
   "outputs": [
    {
     "name": "stdout",
     "output_type": "stream",
     "text": [
      "-78.0\n"
     ]
    }
   ],
   "source": [
    "A = np.random.randint(-3,4,(10, 10))\n",
    "print(np.linalg.det(A[1:5, 6:10]))"
   ]
  },
  {
   "cell_type": "markdown",
   "metadata": {},
   "source": [
    "Задание 2. Создать 2 матрицы из случайных вещественных чисел из интервала (2, 3) подходящего размера. Найти их произведение тремя способами: (1) использовать векторный алгоритм умножения матриц (2) используя матричный алгоритм, записав матрицу С по столбцам (3) проверив с помощью функции np.dot."
   ]
  },
  {
   "cell_type": "code",
   "execution_count": 86,
   "metadata": {},
   "outputs": [],
   "source": [
    "n = 3\n",
    "k = 4\n",
    "m = 5\n",
    "\n",
    "A =  np.random.uniform(2, 3, (n, k))\n",
    "B = np.random.uniform(2, 3, (k, m))"
   ]
  },
  {
   "cell_type": "code",
   "execution_count": 87,
   "metadata": {},
   "outputs": [
    {
     "name": "stdout",
     "output_type": "stream",
     "text": [
      "[[25.88 24.04 26.95 25.07 24.13]\n",
      " [25.7  24.37 26.64 25.26 24.5 ]\n",
      " [26.19 24.74 27.37 26.25 25.19]]\n"
     ]
    }
   ],
   "source": [
    "# (1) vector multiplication\n",
    "C = np.zeros((n, m), dtype = float)\n",
    "\n",
    "for i in range(n):\n",
    "    for j in range(m):\n",
    "        C[i,j] = np.dot(A[i, :], B[:, j])\n",
    "\n",
    "print(C)"
   ]
  },
  {
   "cell_type": "code",
   "execution_count": 88,
   "metadata": {},
   "outputs": [
    {
     "name": "stdout",
     "output_type": "stream",
     "text": [
      "[[25.88 24.04 26.95 25.07 24.13]\n",
      " [25.7  24.37 26.64 25.26 24.5 ]\n",
      " [26.19 24.74 27.37 26.25 25.19]]\n"
     ]
    }
   ],
   "source": [
    "# (2) matrix multiplication\n",
    "C = np.zeros((n, m), dtype = float)\n",
    "\n",
    "for i in range(n):\n",
    "    C[i,:] = np.dot(A[i,:], B)\n",
    "\n",
    "print(C)"
   ]
  },
  {
   "cell_type": "code",
   "execution_count": 89,
   "metadata": {},
   "outputs": [
    {
     "name": "stdout",
     "output_type": "stream",
     "text": [
      "A * B =\n",
      " [[25.88 24.04 26.95 25.07 24.13]\n",
      " [25.7  24.37 26.64 25.26 24.5 ]\n",
      " [26.19 24.74 27.37 26.25 25.19]]\n"
     ]
    }
   ],
   "source": [
    "#  (3) check with np.dot\n",
    "\n",
    "print('A * B =\\n', np.dot(A, B))"
   ]
  },
  {
   "cell_type": "markdown",
   "metadata": {},
   "source": [
    "Задание 3. Создать произвольную верхнетреугольную матрицу А пятого порядка (не унитреугольную), вектор В произвольный. Решить систему АХ = В."
   ]
  },
  {
   "cell_type": "code",
   "execution_count": 90,
   "metadata": {},
   "outputs": [
    {
     "name": "stdout",
     "output_type": "stream",
     "text": [
      "\n",
      "upper triangular matrix:\n",
      " [[ 6  9  3  2]\n",
      " [ 0  9  4  6]\n",
      " [ 0  0  2  5]\n",
      " [ 0  0  0 10]] \n",
      "\n",
      "vector:\n",
      " [ 2.64  3.46 10.87  5.13]\n",
      "\n",
      "automatic solution:\n",
      " [ 0.9  -1.8   4.16  0.51]\n",
      "\n",
      "function result:\n",
      " [ 0.9  -1.8   4.16  0.51]\n"
     ]
    }
   ],
   "source": [
    "A = np.triu(np.random.randint(1, 11, (4, 4)))\n",
    "B = np.random.uniform(0, 11, 4) # vector\n",
    "\n",
    "print('\\nupper triangular matrix:\\n', A, '\\n\\nvector:\\n', B)\n",
    "print('\\nautomatic solution:\\n', np.linalg.solve(A, B))\n",
    "\n",
    "B[-1] = B[-1] / A[-1, -1]\n",
    "for i in range(len(B) - 2, -1, -1):\n",
    "\tB[i] = (B[i] - np.dot(A[i, i + 1:], B[i + 1:])) / A[i, i]\n",
    "\n",
    "print('\\nfunction result:\\n', B)"
   ]
  },
  {
   "cell_type": "markdown",
   "metadata": {},
   "source": [
    "Задание 4. Решить систему, используя LU разложение\n",
    "$$ \n",
    "4.4x_1 - 2.5x_2 + 19.2x_3 - 10.8x_4 = 4.3\\\\\n",
    "5.5x_1 - 9.3x_2 - 14.2x_3 + 13.2x_4 = 6.8\\\\\n",
    "7.1x_1 - 11.5x_2 + 5.3x_3 - 6.7x_4 = -1.8\\\\\n",
    "14.2x_1 + 23.4x_2 - 8.8x_3 + 5.3x_4 = 7.2\n",
    "$$"
   ]
  },
  {
   "cell_type": "code",
   "execution_count": 91,
   "metadata": {},
   "outputs": [
    {
     "name": "stdout",
     "output_type": "stream",
     "text": [
      "\n",
      "L matrix:\n",
      " [[  1.     0.     0.     0.  ]\n",
      " [  1.25   1.     0.     0.  ]\n",
      " [  1.61   1.21   1.     0.  ]\n",
      " [  3.23  -5.1  -12.95   1.  ]]\n",
      "\n",
      "U martix:\n",
      " [[   4.4    -2.5    19.2   -10.8 ]\n",
      " [   0.     -6.18  -38.2    26.7 ]\n",
      " [   0.      0.     20.5   -21.55]\n",
      " [   0.      0.      0.   -102.81]]\n",
      "\n",
      "LU matrix:\n",
      " [[  4.4  -2.5  19.2 -10.8]\n",
      " [  5.5  -9.3 -14.2  13.2]\n",
      " [  7.1 -11.5   5.3  -6.7]\n",
      " [ 14.2  23.4  -8.8   5.3]]\n",
      "\n",
      "initial matrix\n",
      " [[  4.4  -2.5  19.2 -10.8]\n",
      " [  5.5  -9.3 -14.2  13.2]\n",
      " [  7.1 -11.5   5.3  -6.7]\n",
      " [ 14.2  23.4  -8.8   5.3]]\n"
     ]
    }
   ],
   "source": [
    "n = 4\n",
    "A = np.array([[4.4, -2.5, 19.2, -10.8],\n",
    "              [5.5, -9.3, -14.2, 13.2],\n",
    "              [7.1, -11.5, 5.3, -6.7],\n",
    "              [14.2, 23.4, -8.8, 5.3]])\n",
    "B = np.array([[4.3], [6.8], [-1.8], [7.2]])\n",
    "U = np.zeros((n, n), float)\n",
    "L = np.identity(n, float)\n",
    "\n",
    "for i in range(n):\n",
    "    for j in range(n):\n",
    "        if i <= j:\n",
    "            U[i, j] = A[i, j] - np.dot(L[i, :i], U[:i, j])\n",
    "        else:\n",
    "            L[i, j] = (A[i, j] - np.dot(L[i, :j], U[:j, j])) / U[j, j]\n",
    "\n",
    "print('\\nL matrix:\\n', L)\n",
    "print('\\nU martix:\\n', U)\n",
    "print('\\nLU matrix:\\n', np.dot(L, U))\n",
    "print('\\ninitial matrix\\n', A)"
   ]
  }
 ],
 "metadata": {
  "interpreter": {
   "hash": "f2d18c173e5ba5ab8ac6375975de63329d859dc163a077b683cc8c05d4d0149b"
  },
  "kernelspec": {
   "display_name": "Python 3.9.10 64-bit (windows store)",
   "language": "python",
   "name": "python3"
  },
  "language_info": {
   "codemirror_mode": {
    "name": "ipython",
    "version": 3
   },
   "file_extension": ".py",
   "mimetype": "text/x-python",
   "name": "python",
   "nbconvert_exporter": "python",
   "pygments_lexer": "ipython3",
   "version": "3.9.12"
  },
  "orig_nbformat": 4
 },
 "nbformat": 4,
 "nbformat_minor": 2
}
