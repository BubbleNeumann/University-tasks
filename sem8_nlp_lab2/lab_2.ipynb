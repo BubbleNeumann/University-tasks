{
 "cells": [
  {
   "cell_type": "code",
   "metadata": {
    "colab": {
     "base_uri": "https://localhost:8080/"
    },
    "id": "pz_U3f83Dnkd",
    "outputId": "312f6032-9b53-4623-9713-d48c93e7d2b7",
    "ExecuteTime": {
     "end_time": "2024-05-09T18:57:53.201005Z",
     "start_time": "2024-05-09T18:57:52.563486Z"
    }
   },
   "source": [
    "import pandas as pd\n",
    "import nltk\n",
    "from sklearn.feature_extraction.text import CountVectorizer, TfidfVectorizer\n",
    "import re\n",
    "from nltk.tokenize import word_tokenize\n",
    "import matplotlib.pyplot as plt\n",
    "from sklearn.svm import SVC\n",
    "from sklearn.ensemble import RandomForestClassifier\n",
    "from sklearn.model_selection import cross_val_score, GridSearchCV, train_test_split, KFold\n",
    "from nltk.corpus import stopwords\n",
    "import numpy as np\n",
    "import warnings\n",
    "\n",
    "\n",
    "warnings.filterwarnings('ignore')\n",
    "\n",
    "nltk.download('stopwords')\n",
    "imdb_data = pd.read_csv('dataset.csv')"
   ],
   "outputs": [
    {
     "name": "stderr",
     "output_type": "stream",
     "text": [
      "[nltk_data] Downloading package stopwords to\n",
      "[nltk_data]     /home/r_usttt/nltk_data...\n",
      "[nltk_data]   Package stopwords is already up-to-date!\n"
     ]
    }
   ],
   "execution_count": 26
  },
  {
   "cell_type": "markdown",
   "metadata": {
    "id": "T_156Y1NDnkj"
   },
   "source": "#### шаг 1. подготовка данных для обучения"
  },
  {
   "cell_type": "code",
   "metadata": {
    "id": "4HQ_a1xkDnko",
    "ExecuteTime": {
     "end_time": "2024-05-09T18:57:53.318014Z",
     "start_time": "2024-05-09T18:57:53.204494Z"
    }
   },
   "source": [
    "# разделяем записи на x и y\n",
    "x_data, y_data = imdb_data['review'][:10000], imdb_data['sentiment'][:10000]\n",
    "\n",
    "# заменить метки на их численные представления:\n",
    "# positive => 1\n",
    "# negative => 0\n",
    "y_train = y_data.apply(lambda x: 1 if x.startswith('positive') else 0)\n",
    "\n",
    "# cписок слов, которые необходимо убрать из текста т.к. они не влияют на классификацию\n",
    "english_stopwords = stopwords.words('english')\n",
    "\n",
    "x_data_prepped = [] \n",
    "\n",
    "# предобрабатывам обучающую выборку\n",
    "for elem in x_data:\n",
    "    elem = re.sub(r'\\d+', '', elem)  # с помощью регулярки убрать все цифры из строки, т.к. они тоже не влияют на классификацию\n",
    "    elem = re.sub(r'<br />', '', elem)  # убрать html тег br\n",
    "    elem = re.sub(r'[^\\w\\s]', '', elem) # убрать все знаки препинания\n",
    "\n",
    "    tokens = word_tokenize(elem.lower())  # разделяем текст на отдельные слова и приводим к нижнему регистру\n",
    "    filtered_tokens = [e for e in tokens if e not in english_stopwords]  # убираем слова принадлежащие english_stopwords\n",
    "    x_data_prepped.append(' '.join(filtered_tokens))\n",
    "\n",
    "x_data = x_data_prepped\n",
    "print(x_data[0]) # проверям, что все предобработалось корректно\n",
    "\n",
    "# разделяем выборку на обучающую (95%) и тестовую (5%)\n",
    "x_train, x_test, y_train, y_test = train_test_split(x_data, y_train, test_size=0.05)"
   ],
   "outputs": [
    {
     "name": "stdout",
     "output_type": "stream",
     "text": [
      "one reviewers mentioned watching oz episode youll hooked right exactly happened methe first thing struck oz brutality unflinching scenes violence set right word go trust show faint hearted timid show pulls punches regards drugs sex violence hardcore classic use wordit called oz nickname given oswald maximum security state penitentary focuses mainly emerald city experimental section prison cells glass fronts face inwards privacy high agenda em city home manyaryans muslims gangstas latinos christians italians irish moreso scuffles death stares dodgy dealings shady agreements never far awayi would say main appeal show due fact goes shows wouldnt dare forget pretty pictures painted mainstream audiences forget charm forget romanceoz doesnt mess around first episode ever saw struck nasty surreal couldnt say ready watched developed taste oz got accustomed high levels graphic violence violence injustice crooked guards wholl sold nickel inmates wholl kill order get away well mannered middle class inmates turned prison bitches due lack street skills prison experience watching oz may become comfortable uncomfortable viewingthats get touch darker side\n"
     ]
    }
   ],
   "execution_count": 27
  },
  {
   "cell_type": "markdown",
   "metadata": {
    "id": "oDnvY0b4Dnkq"
   },
   "source": [
    "В качестве исследуемых способов представления текстов необходимо рассмотреть:\n",
    "\n",
    "#### 1.Компоненты вектора: частоты ([CountVectorizer](https://scikit-learn.org/stable/modules/generated/sklearn.feature_extraction.text.CountVectorizer.html))."
   ]
  },
  {
   "cell_type": "code",
   "metadata": {
    "colab": {
     "base_uri": "https://localhost:8080/"
    },
    "id": "ndNjUwG9Dnkt",
    "outputId": "0d23ec25-1863-4dee-d337-93a974028b7f",
    "ExecuteTime": {
     "end_time": "2024-05-09T18:57:53.341545Z",
     "start_time": "2024-05-09T18:57:53.319756Z"
    }
   },
   "source": [
    "# векторизуем текст, основываясь на частотности слов и ограничиваем количество параметров (max_features), чтобы обучение проходило быстрее\n",
    "count_vectorizer = CountVectorizer(max_features=250)\n",
    "x_count_vect = count_vectorizer.fit_transform(x_train)"
   ],
   "outputs": [],
   "execution_count": 28
  },
  {
   "cell_type": "markdown",
   "metadata": {
    "id": "AJWrnfqFDnkv"
   },
   "source": [
    "#### 2. Компоненты вектора: оценки tf-idf для слова ([TfidfVectorizer](https://scikit-learn.org/stable/modules/generated/sklearn.feature_extraction.text.TfidfVectorizer.html))."
   ]
  },
  {
   "cell_type": "code",
   "metadata": {
    "colab": {
     "base_uri": "https://localhost:8080/"
    },
    "id": "yDMBKhESDnkx",
    "outputId": "ed61f2ab-67b6-439c-8d8d-96f4a30166aa",
    "ExecuteTime": {
     "end_time": "2024-05-09T18:57:53.374132Z",
     "start_time": "2024-05-09T18:57:53.344991Z"
    }
   },
   "source": [
    "tfidf_vectorizer = TfidfVectorizer(max_features=250)\n",
    "x_tfidf_vect = tfidf_vectorizer.fit_transform(x_train)"
   ],
   "outputs": [],
   "execution_count": 29
  },
  {
   "cell_type": "markdown",
   "metadata": {
    "id": "O7hR8zu2Dnkz"
   },
   "source": [
    "#### 3. Компоненты вектора: частоты N-грам."
   ]
  },
  {
   "cell_type": "code",
   "metadata": {
    "colab": {
     "base_uri": "https://localhost:8080/"
    },
    "id": "r47bdO-3Dnk3",
    "outputId": "a0e25e41-2e39-43cd-e0a4-c47b6586523e",
    "ExecuteTime": {
     "end_time": "2024-05-09T18:57:53.417760Z",
     "start_time": "2024-05-09T18:57:53.376089Z"
    }
   },
   "source": [
    "# векторизуем текст на основе биграм (пар слов)\n",
    "cv_bigram_cv = CountVectorizer(ngram_range=(2, 2), max_features=250)\n",
    "x_bigram = cv_bigram_cv.fit_transform(x_train)"
   ],
   "outputs": [],
   "execution_count": 30
  },
  {
   "cell_type": "markdown",
   "metadata": {
    "id": "YjLMT9j6Dnk5"
   },
   "source": [
    "### Шаг 2. Исследование моделей\n",
    "\n",
    "<table>\n",
    "\t\t<tr>\n",
    "\t\t\t<td></td>\n",
    "\t\t\t<td>$y = 1$</td>\n",
    "\t\t\t<td>$y = 0$</td>\n",
    "\t\t</tr>\n",
    "\t\t<tr>\n",
    "\t\t\t<td>$a(x) = 1$</td>\n",
    "\t\t\t<td>True Positive (TP)</td>\n",
    "\t\t\t<td>False Positive (FP)</td>\n",
    "\t\t</tr>\n",
    "    \t<tr>\n",
    "\t\t\t<td>$a(x) = 0$</td>\n",
    "\t\t\t<td>False Negative (FN)</td>\n",
    "\t\t\t<td>True Negative (TN)</td>\n",
    "\t\t</tr>\n",
    "</table>\n",
    "\n",
    "В зависимости от способа представления оценить качество классификации как долю правильных ответов на выборке ($\\operatorname{accuracy} = \\frac{\\operatorname{TP} + \\operatorname{TN}}{\\operatorname{TP} + \\operatorname{TN} + \\operatorname{FP} + \\operatorname{FN}}$). Используйте перекрестную проверку ([cross_val_score](https://scikit-learn.org/stable/modules/generated/sklearn.model_selection.cross_val_score.html), [KFold](https://scikit-learn.org/stable/modules/generated/sklearn.model_selection.KFold.html)).\n",
    "\n",
    "Для каждого из нижеперечисленных моделей необходимо определить оптимальные гиперпараметры ([GridSearchCV](https://scikit-learn.org/stable/modules/generated/sklearn.model_selection.GridSearchCV.html))\n",
    "\n",
    "Качество классификации оцениваем для следующих моделей:\n",
    "\n",
    "#### 1. Машина опорных векторов ([SVC](https://scikit-learn.org/stable/modules/generated/sklearn.svm.SVC.html))."
   ]
  },
  {
   "cell_type": "code",
   "metadata": {
    "colab": {
     "base_uri": "https://localhost:8080/"
    },
    "id": "eFFDPFMtDnk6",
    "outputId": "c35cdb9c-46b2-4495-a383-ae8f6ad7c4c7",
    "ExecuteTime": {
     "end_time": "2024-05-09T18:57:53.898541Z",
     "start_time": "2024-05-09T18:57:53.419504Z"
    }
   },
   "source": [
    "vectorized_data = [x_count_vect, x_tfidf_vect, x_bigram]\n",
    "statistics = []\n",
    "\n",
    "for X in vectorized_data:\n",
    "    # гридсерч позволяет выбрать лучшие параметры для моделей\n",
    "    clf = GridSearchCV(\n",
    "        SVC(), # задаем модель\n",
    "        {'kernel':('rbf', 'sigmoid'), 'C': [1, 10], }, # возможные параметры\n",
    "        verbose=1\n",
    "    )\n",
    "    clf.fit(X[:len(y_train//100)], y_train[:len(y_train//100)])  # обучаем на 1/100 тестовых данных\n",
    "    \n",
    "    # создаем модель с лучшими найденными параметрами\n",
    "    cl = SVC(kernel=clf.best_params_['kernel'], C=clf.best_params_['C'])\n",
    "    \n",
    "    # вычисляем точность обученной модели на тестовых данных\n",
    "    # KFold используется внутри cross_val_score по умолчанию\n",
    "    acc = cross_val_score(cl, X, y_train, scoring='accuracy')\n",
    "    statistics.append((clf.best_params_, np.average(acc))) # записываем параметры модели и среднее значение точности"
   ],
   "outputs": [
    {
     "name": "stdout",
     "output_type": "stream",
     "text": [
      "Fitting 5 folds for each of 4 candidates, totalling 20 fits\n",
      "Fitting 5 folds for each of 4 candidates, totalling 20 fits\n",
      "Fitting 5 folds for each of 4 candidates, totalling 20 fits\n"
     ]
    }
   ],
   "execution_count": 31
  },
  {
   "cell_type": "markdown",
   "metadata": {
    "id": "ZVwJoR2jDnk7"
   },
   "source": [
    "#### 2. Случайный лес ([RandomForestClassifier](https://scikit-learn.org/stable/modules/generated/sklearn.ensemble.RandomForestClassifier.html))."
   ]
  },
  {
   "cell_type": "code",
   "metadata": {
    "colab": {
     "base_uri": "https://localhost:8080/"
    },
    "id": "FmURAXtjDnk8",
    "outputId": "ede78686-198d-450f-ac14-4ccf5ffccfeb",
    "ExecuteTime": {
     "end_time": "2024-05-09T18:58:00.926728Z",
     "start_time": "2024-05-09T18:57:53.900272Z"
    }
   },
   "source": [
    "# все то же самое, что и для SVC модели\n",
    "\n",
    "for X in vectorized_data:\n",
    "    clf = GridSearchCV(\n",
    "        RandomForestClassifier(),\n",
    "        {'n_estimators': [10, 100], 'criterion': ('gini', 'entropy')},\n",
    "        verbose=1 \n",
    "    )    \n",
    "    clf.fit(X[:len(y_train//100)], y_train[:len(y_train//100)])  # обучаем на 1/100 тестовых данных\n",
    "    \n",
    "    cl = RandomForestClassifier(criterion=clf.best_params_['criterion'], n_estimators=clf.best_params_['n_estimators'])\n",
    "    acc = cross_val_score(cl, X, y_train, scoring='accuracy')\n",
    "    statistics.append((clf.best_params_, np.average(acc)))"
   ],
   "outputs": [
    {
     "name": "stdout",
     "output_type": "stream",
     "text": [
      "Fitting 5 folds for each of 4 candidates, totalling 20 fits\n",
      "Fitting 5 folds for each of 4 candidates, totalling 20 fits\n",
      "Fitting 5 folds for each of 4 candidates, totalling 20 fits\n"
     ]
    }
   ],
   "execution_count": 32
  },
  {
   "cell_type": "markdown",
   "metadata": {
    "id": "EmPvnQYRDnk9"
   },
   "source": [
    "### Шаг 3. Сравнение результатов\n",
    "\n",
    "Сравнить точность обученных моделей. Найти наиболее точную."
   ]
  },
  {
   "cell_type": "code",
   "metadata": {
    "id": "yLnSJQHyDnk9",
    "colab": {
     "base_uri": "https://localhost:8080/"
    },
    "outputId": "9699e6f3-72aa-4553-b680-c9529e434e37",
    "ExecuteTime": {
     "end_time": "2024-05-09T18:58:00.934212Z",
     "start_time": "2024-05-09T18:58:00.928531Z"
    }
   },
   "source": [
    "# для каждой обученной модели выводим ее параметры и среднюю точность:\n",
    "# первые 3 значения для SVC модели, последние 3 значения для RandomForestClassifier модели\n",
    "for e in statistics:\n",
    "    print(e)"
   ],
   "outputs": [
    {
     "name": "stdout",
     "output_type": "stream",
     "text": [
      "({'C': 1, 'kernel': 'sigmoid'}, 0.7157894736842105)\n",
      "({'C': 10, 'kernel': 'sigmoid'}, 0.736842105263158)\n",
      "({'C': 10, 'kernel': 'sigmoid'}, 0.631578947368421)\n",
      "({'criterion': 'gini', 'n_estimators': 100}, 0.7789473684210526)\n",
      "({'criterion': 'entropy', 'n_estimators': 100}, 0.7263157894736842)\n",
      "({'criterion': 'entropy', 'n_estimators': 10}, 0.5684210526315789)\n"
     ]
    }
   ],
   "execution_count": 33
  },
  {
   "cell_type": "code",
   "source": [
    "# рисуем графики\n",
    "\n",
    "methods = ['CountVectorizer', 'TfidfVectorizer', 'Bigrams']\n",
    "\n",
    "plt.figure(figsize=(10, 6))\n",
    "x = np.arange(len(methods))\n",
    "\n",
    "statistics = {\n",
    "    'SVC': {'CountVectorizer': statistics[0][1], 'TfidfVectorizer': statistics[1][1], 'Bigrams': statistics[2][1]},\n",
    "    'RFC': {'CountVectorizer': statistics[3][1], 'TfidfVectorizer': statistics[4][1], 'Bigrams': statistics[5][1]}\n",
    "}\n",
    "\n",
    "for i, model in enumerate(['SVC', 'RFC']):\n",
    "    plt.bar(x + i * 0.5, statistics[model].values(), width=0.5, label=model)\n",
    "    \n",
    "\n",
    "plt.xlabel('метод векторизации')\n",
    "plt.ylabel('средняя точность')\n",
    "plt.xticks(x + 0.4 / 2, methods)\n",
    "plt.grid(True)\n",
    "plt.legend()"
   ],
   "metadata": {
    "id": "G9C1_5vzJReN",
    "colab": {
     "base_uri": "https://localhost:8080/",
     "height": 607
    },
    "outputId": "778d5681-f8b3-4dc3-d198-f8e2438cb06d",
    "ExecuteTime": {
     "end_time": "2024-05-09T18:58:01.170468Z",
     "start_time": "2024-05-09T18:58:00.936122Z"
    }
   },
   "outputs": [
    {
     "data": {
      "text/plain": [
       "<matplotlib.legend.Legend at 0x7d3d58ad8fa0>"
      ]
     },
     "execution_count": 34,
     "metadata": {},
     "output_type": "execute_result"
    },
    {
     "data": {
      "text/plain": [
       "<Figure size 1000x600 with 1 Axes>"
      ],
      "image/png": "[encoded data removed]"
     },
     "metadata": {},
     "output_type": "display_data"
    }
   ],
   "execution_count": 34
  }
 ],
 "metadata": {
  "kernelspec": {
   "display_name": "Python 3 (ipykernel)",
   "name": "python3",
   "language": "python"
  },
  "language_info": {
   "codemirror_mode": {
    "name": "ipython",
    "version": 3
   },
   "file_extension": ".py",
   "mimetype": "text/x-python",
   "name": "python",
   "nbconvert_exporter": "python",
   "pygments_lexer": "ipython3",
   "version": "3.10.12"
  },
  "colab": {
   "provenance": [],
   "gpuType": "T4"
  },
  "accelerator": "GPU"
 },
 "nbformat": 4,
 "nbformat_minor": 0
}
