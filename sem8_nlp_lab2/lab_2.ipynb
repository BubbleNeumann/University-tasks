{
 "cells": [
  {
   "cell_type": "code",
   "metadata": {
    "colab": {
     "base_uri": "https://localhost:8080/"
    },
    "id": "pz_U3f83Dnkd",
    "outputId": "312f6032-9b53-4623-9713-d48c93e7d2b7",
    "ExecuteTime": {
     "end_time": "2024-05-06T19:47:50.539043Z",
     "start_time": "2024-05-06T19:47:49.931581Z"
    }
   },
   "source": [
    "import pandas as pd\n",
    "import nltk\n",
    "from sklearn.feature_extraction.text import CountVectorizer, TfidfVectorizer, TfidfTransformer\n",
    "import inflect\n",
    "import re\n",
    "from nltk.tokenize import word_tokenize\n",
    "import matplotlib.pyplot as plt\n",
    "from sklearn.svm import SVC\n",
    "from sklearn.ensemble import RandomForestClassifier\n",
    "from sklearn.model_selection import cross_val_score, GridSearchCV, train_test_split, KFold\n",
    "from nltk.corpus import stopwords\n",
    "import numpy as np\n",
    "\n",
    "\n",
    "# nltk.download('stopwords')\n",
    "# nltk.download('gutenberg', quiet=True)\n",
    "# nltk.download('punkt', quiet=True)\n",
    "\n",
    "# imdb_data = pd.read_csv(r'https://raw.githubusercontent.com/BubbleNeumann/University-tasks/master/sem8_nlp_lab2/dataset.csv')\n",
    "imdb_data = pd.read_csv('dataset.csv')\n",
    "print(imdb_data.shape)"
   ],
   "outputs": [
    {
     "name": "stdout",
     "output_type": "stream",
     "text": [
      "(50000, 2)\n"
     ]
    }
   ],
   "execution_count": 7
  },
  {
   "cell_type": "markdown",
   "metadata": {
    "id": "T_156Y1NDnkj"
   },
   "source": "#### step 1. prep data"
  },
  {
   "cell_type": "code",
   "metadata": {
    "id": "QowLnb8PDnkm",
    "ExecuteTime": {
     "end_time": "2024-05-06T19:47:56.270466Z",
     "start_time": "2024-05-06T19:47:56.263110Z"
    }
   },
   "source": [
    "def prep(x: str):\n",
    "    x = re.sub(r'<br />', '', x.lower())\n",
    "    x = re.sub(r'[^\\w\\s]', '', x)\n",
    "    tokens = word_tokenize(x)\n",
    "\n",
    "    # replace digits with their text representation\n",
    "    infl = inflect.engine()\n",
    "    sentence = re.sub(r'\\d+', lambda match: infl.number_to_words(match.group()), x)\n",
    "\n",
    "    # remove stopwords\n",
    "    stop_words = set(stopwords.words('english'))\n",
    "    filtered_tokens = [word for word in tokens if word not in stop_words]\n",
    "\n",
    "    # join the filtered tokens back into a sentence\n",
    "    return ' '.join(filtered_tokens)"
   ],
   "outputs": [],
   "execution_count": 8
  },
  {
   "cell_type": "code",
   "metadata": {
    "id": "4HQ_a1xkDnko",
    "ExecuteTime": {
     "end_time": "2024-05-06T19:48:08.447357Z",
     "start_time": "2024-05-06T19:48:00.665577Z"
    }
   },
   "source": [
    "x_data, y_data = imdb_data['review'][:10000], imdb_data['sentiment'][:10000]\n",
    "\n",
    "y_train = y_data.apply(lambda x: int(x.startswith('p')))\n",
    "x_train, x_test, y_train, y_test = train_test_split(x_data, y_train, test_size=0.1)\n",
    "\n",
    "x_train = list(map(prep, x_train))"
   ],
   "outputs": [],
   "execution_count": 9
  },
  {
   "cell_type": "markdown",
   "metadata": {
    "id": "oDnvY0b4Dnkq"
   },
   "source": [
    "В качестве исследуемых способов представления текстов необходимо рассмотреть:\n",
    "\n",
    "#### 1.Компоненты вектора: частоты ([CountVectorizer](https://scikit-learn.org/stable/modules/generated/sklearn.feature_extraction.text.CountVectorizer.html))."
   ]
  },
  {
   "cell_type": "code",
   "metadata": {
    "colab": {
     "base_uri": "https://localhost:8080/"
    },
    "id": "ndNjUwG9Dnkt",
    "outputId": "0d23ec25-1863-4dee-d337-93a974028b7f",
    "ExecuteTime": {
     "end_time": "2024-05-06T19:49:04.985846Z",
     "start_time": "2024-05-06T19:49:03.642333Z"
    }
   },
   "source": [
    "%%time\n",
    "cv = CountVectorizer(max_features=500)\n",
    "x_cv = cv.fit_transform(x_train)"
   ],
   "outputs": [
    {
     "name": "stdout",
     "output_type": "stream",
     "text": [
      "CPU times: user 1.28 s, sys: 27 ms, total: 1.31 s\n",
      "Wall time: 1.34 s\n"
     ]
    }
   ],
   "execution_count": 10
  },
  {
   "metadata": {
    "ExecuteTime": {
     "end_time": "2024-05-04T12:53:26.504114Z",
     "start_time": "2024-05-04T12:53:26.433940Z"
    }
   },
   "cell_type": "code",
   "source": "x_cv_test = cv.transform(x_test)  # prep the test set",
   "outputs": [],
   "execution_count": 5
  },
  {
   "cell_type": "markdown",
   "metadata": {
    "id": "AJWrnfqFDnkv"
   },
   "source": [
    "#### 2. Компоненты вектора: оценки tf-idf для слова ([TfidfVectorizer](https://scikit-learn.org/stable/modules/generated/sklearn.feature_extraction.text.TfidfVectorizer.html))."
   ]
  },
  {
   "cell_type": "code",
   "metadata": {
    "colab": {
     "base_uri": "https://localhost:8080/"
    },
    "id": "yDMBKhESDnkx",
    "outputId": "ed61f2ab-67b6-439c-8d8d-96f4a30166aa",
    "ExecuteTime": {
     "end_time": "2024-05-06T19:49:31.497741Z",
     "start_time": "2024-05-06T19:49:30.015177Z"
    }
   },
   "source": [
    "%%time\n",
    "tfidf = TfidfVectorizer(max_features=500)\n",
    "x_tfidf = tfidf.fit_transform(x_train)"
   ],
   "outputs": [
    {
     "name": "stdout",
     "output_type": "stream",
     "text": [
      "CPU times: user 1.43 s, sys: 5.56 ms, total: 1.44 s\n",
      "Wall time: 1.48 s\n"
     ]
    }
   ],
   "execution_count": 11
  },
  {
   "cell_type": "markdown",
   "metadata": {
    "id": "O7hR8zu2Dnkz"
   },
   "source": [
    "#### 3. Компоненты вектора: частоты N-грам."
   ]
  },
  {
   "cell_type": "code",
   "metadata": {
    "colab": {
     "base_uri": "https://localhost:8080/"
    },
    "id": "r47bdO-3Dnk3",
    "outputId": "a0e25e41-2e39-43cd-e0a4-c47b6586523e",
    "ExecuteTime": {
     "end_time": "2024-05-06T19:49:38.663508Z",
     "start_time": "2024-05-06T19:49:34.127496Z"
    }
   },
   "source": [
    "%%time\n",
    "cv_ngram = CountVectorizer(ngram_range=(2, 2), max_features=500)\n",
    "x_ngram = cv_ngram.fit_transform(x_train)"
   ],
   "outputs": [
    {
     "name": "stdout",
     "output_type": "stream",
     "text": [
      "CPU times: user 4.34 s, sys: 184 ms, total: 4.53 s\n",
      "Wall time: 4.53 s\n"
     ]
    }
   ],
   "execution_count": 12
  },
  {
   "cell_type": "markdown",
   "metadata": {
    "id": "YjLMT9j6Dnk5"
   },
   "source": [
    "### Шаг 2. Исследование моделей\n",
    "\n",
    "<table>\n",
    "\t\t<tr>\n",
    "\t\t\t<td></td>\n",
    "\t\t\t<td>$y = 1$</td>\n",
    "\t\t\t<td>$y = 0$</td>\n",
    "\t\t</tr>\n",
    "\t\t<tr>\n",
    "\t\t\t<td>$a(x) = 1$</td>\n",
    "\t\t\t<td>True Positive (TP)</td>\n",
    "\t\t\t<td>False Positive (FP)</td>\n",
    "\t\t</tr>\n",
    "    \t<tr>\n",
    "\t\t\t<td>$a(x) = 0$</td>\n",
    "\t\t\t<td>False Negative (FN)</td>\n",
    "\t\t\t<td>True Negative (TN)</td>\n",
    "\t\t</tr>\n",
    "</table>\n",
    "\n",
    "В зависимости от способа представления оценить качество классификации как долю правильных ответов на выборке ($\\operatorname{accuracy} = \\frac{\\operatorname{TP} + \\operatorname{TN}}{\\operatorname{TP} + \\operatorname{TN} + \\operatorname{FP} + \\operatorname{FN}}$). Используйте перекрестную проверку ([cross_val_score](https://scikit-learn.org/stable/modules/generated/sklearn.model_selection.cross_val_score.html), [KFold](https://scikit-learn.org/stable/modules/generated/sklearn.model_selection.KFold.html)).\n",
    "\n",
    "Для каждого из нижеперечисленных моделей необходимо определить оптимальные гиперпараметры ([GridSearchCV](https://scikit-learn.org/stable/modules/generated/sklearn.model_selection.GridSearchCV.html))\n",
    "\n",
    "Качество классификации оцениваем для следующих моделей:\n",
    "\n",
    "#### 1. Машина опорных векторов ([SVC](https://scikit-learn.org/stable/modules/generated/sklearn.svm.SVC.html))."
   ]
  },
  {
   "cell_type": "code",
   "metadata": {
    "colab": {
     "base_uri": "https://localhost:8080/"
    },
    "id": "eFFDPFMtDnk6",
    "outputId": "c35cdb9c-46b2-4495-a383-ae8f6ad7c4c7",
    "ExecuteTime": {
     "end_time": "2024-05-06T20:19:16.096222Z",
     "start_time": "2024-05-06T19:57:25.079192Z"
    }
   },
   "source": [
    "%%time\n",
    "\n",
    "stats_svc = []\n",
    "svc_models = []  # list of models with best params\n",
    "\n",
    "for X in [x_cv, x_tfidf, x_ngram]:\n",
    "    clf = GridSearchCV(\n",
    "        SVC(),\n",
    "        # {'kernel':('linear', 'poly', 'rbf', 'sigmoid'), 'gamma': [0.1, 0.01, 0.001], 'C': [0.1, 1, 10, 25], }\n",
    "        { 'kernel':('poly', 'rbf', 'sigmoid'), 'C': [1, 10] },\n",
    "        verbose=3\n",
    "    )\n",
    "    clf.fit(X, y_train) # fit on the transformed data\n",
    "    # cl = SVC(kernel=clf.best_params_['kernel'], C=clf.best_params_['C'], gamma=clf.best_params_['gamma'])\n",
    "    cl = SVC(kernel=clf.best_params_['kernel'], C=clf.best_params_['C'])\n",
    "    # k_fold = KFold(n_splits=5, shuffle=True, random_state=42)  # define 5-fold cross-validation\n",
    "    acc = cross_val_score(cl, X, y_train, scoring='accuracy', verbose=3) # evaluate accuracy\n",
    "    stats_svc.append((clf.best_params_, acc))\n",
    "    svc_models.append(cl)\n",
    "    "
   ],
   "outputs": [
    {
     "name": "stdout",
     "output_type": "stream",
     "text": [
      "Fitting 5 folds for each of 6 candidates, totalling 30 fits\n",
      "[CV 1/5] END ..................C=1, kernel=poly;, score=0.697 total time=  17.8s\n",
      "[CV 2/5] END ..................C=1, kernel=poly;, score=0.714 total time=  17.9s\n",
      "[CV 3/5] END ..................C=1, kernel=poly;, score=0.694 total time=  17.6s\n",
      "[CV 4/5] END ..................C=1, kernel=poly;, score=0.677 total time=  17.6s\n",
      "[CV 5/5] END ..................C=1, kernel=poly;, score=0.693 total time=  17.7s\n",
      "[CV 1/5] END ...................C=1, kernel=rbf;, score=0.821 total time=  15.3s\n",
      "[CV 2/5] END ...................C=1, kernel=rbf;, score=0.833 total time=  14.5s\n",
      "[CV 3/5] END ...................C=1, kernel=rbf;, score=0.831 total time=  14.7s\n",
      "[CV 4/5] END ...................C=1, kernel=rbf;, score=0.818 total time=  15.9s\n",
      "[CV 5/5] END ...................C=1, kernel=rbf;, score=0.819 total time=  15.4s\n",
      "[CV 1/5] END ...............C=1, kernel=sigmoid;, score=0.663 total time=   9.3s\n",
      "[CV 2/5] END ...............C=1, kernel=sigmoid;, score=0.684 total time=   9.5s\n",
      "[CV 3/5] END ...............C=1, kernel=sigmoid;, score=0.672 total time=   9.1s\n",
      "[CV 4/5] END ...............C=1, kernel=sigmoid;, score=0.686 total time=   9.4s\n",
      "[CV 5/5] END ...............C=1, kernel=sigmoid;, score=0.664 total time=   9.3s\n",
      "[CV 1/5] END .................C=10, kernel=poly;, score=0.773 total time=  15.4s\n",
      "[CV 2/5] END .................C=10, kernel=poly;, score=0.789 total time=  14.9s\n",
      "[CV 3/5] END .................C=10, kernel=poly;, score=0.764 total time=  15.0s\n",
      "[CV 4/5] END .................C=10, kernel=poly;, score=0.759 total time=  14.8s\n",
      "[CV 5/5] END .................C=10, kernel=poly;, score=0.757 total time=  15.1s\n",
      "[CV 1/5] END ..................C=10, kernel=rbf;, score=0.812 total time=  20.2s\n",
      "[CV 2/5] END ..................C=10, kernel=rbf;, score=0.818 total time=  19.3s\n",
      "[CV 3/5] END ..................C=10, kernel=rbf;, score=0.820 total time=  19.7s\n",
      "[CV 4/5] END ..................C=10, kernel=rbf;, score=0.804 total time=  19.3s\n",
      "[CV 5/5] END ..................C=10, kernel=rbf;, score=0.806 total time=  19.4s\n",
      "[CV 1/5] END ..............C=10, kernel=sigmoid;, score=0.649 total time=   8.2s\n",
      "[CV 2/5] END ..............C=10, kernel=sigmoid;, score=0.667 total time=   8.6s\n",
      "[CV 3/5] END ..............C=10, kernel=sigmoid;, score=0.656 total time=   8.2s\n",
      "[CV 4/5] END ..............C=10, kernel=sigmoid;, score=0.673 total time=   8.2s\n",
      "[CV 5/5] END ..............C=10, kernel=sigmoid;, score=0.646 total time=   8.0s\n",
      "[CV] END ................................ score: (test=0.821) total time=  15.3s\n",
      "[CV] END ................................ score: (test=0.833) total time=  15.8s\n",
      "[CV] END ................................ score: (test=0.831) total time=  15.7s\n",
      "[CV] END ................................ score: (test=0.818) total time=  15.5s\n",
      "[CV] END ................................ score: (test=0.819) total time=  15.5s\n",
      "Fitting 5 folds for each of 6 candidates, totalling 30 fits\n",
      "[CV 1/5] END ..................C=1, kernel=poly;, score=0.825 total time=  22.2s\n",
      "[CV 2/5] END ..................C=1, kernel=poly;, score=0.826 total time=  22.4s\n",
      "[CV 3/5] END ..................C=1, kernel=poly;, score=0.834 total time=  22.4s\n",
      "[CV 4/5] END ..................C=1, kernel=poly;, score=0.815 total time=  22.1s\n",
      "[CV 5/5] END ..................C=1, kernel=poly;, score=0.818 total time=  22.3s\n",
      "[CV 1/5] END ...................C=1, kernel=rbf;, score=0.839 total time=  15.0s\n",
      "[CV 2/5] END ...................C=1, kernel=rbf;, score=0.833 total time=  15.2s\n",
      "[CV 3/5] END ...................C=1, kernel=rbf;, score=0.836 total time=  16.3s\n",
      "[CV 4/5] END ...................C=1, kernel=rbf;, score=0.824 total time=  15.7s\n",
      "[CV 5/5] END ...................C=1, kernel=rbf;, score=0.823 total time=  15.4s\n",
      "[CV 1/5] END ...............C=1, kernel=sigmoid;, score=0.827 total time=  11.6s\n",
      "[CV 2/5] END ...............C=1, kernel=sigmoid;, score=0.836 total time=  11.8s\n",
      "[CV 3/5] END ...............C=1, kernel=sigmoid;, score=0.834 total time=  11.5s\n",
      "[CV 4/5] END ...............C=1, kernel=sigmoid;, score=0.821 total time=  11.5s\n",
      "[CV 5/5] END ...............C=1, kernel=sigmoid;, score=0.817 total time=  11.6s\n",
      "[CV 1/5] END .................C=10, kernel=poly;, score=0.824 total time=  22.1s\n",
      "[CV 2/5] END .................C=10, kernel=poly;, score=0.826 total time=  22.1s\n",
      "[CV 3/5] END .................C=10, kernel=poly;, score=0.829 total time=  22.2s\n",
      "[CV 4/5] END .................C=10, kernel=poly;, score=0.814 total time=  22.7s\n",
      "[CV 5/5] END .................C=10, kernel=poly;, score=0.817 total time=  22.7s\n",
      "[CV 1/5] END ..................C=10, kernel=rbf;, score=0.837 total time=  20.5s\n",
      "[CV 2/5] END ..................C=10, kernel=rbf;, score=0.830 total time=  20.6s\n",
      "[CV 3/5] END ..................C=10, kernel=rbf;, score=0.837 total time=  20.9s\n",
      "[CV 4/5] END ..................C=10, kernel=rbf;, score=0.828 total time=  20.5s\n",
      "[CV 5/5] END ..................C=10, kernel=rbf;, score=0.825 total time=  20.4s\n",
      "[CV 1/5] END ..............C=10, kernel=sigmoid;, score=0.826 total time=  11.3s\n",
      "[CV 2/5] END ..............C=10, kernel=sigmoid;, score=0.819 total time=  10.7s\n",
      "[CV 3/5] END ..............C=10, kernel=sigmoid;, score=0.818 total time=  10.6s\n",
      "[CV 4/5] END ..............C=10, kernel=sigmoid;, score=0.824 total time=  11.3s\n",
      "[CV 5/5] END ..............C=10, kernel=sigmoid;, score=0.811 total time=  10.6s\n",
      "[CV] END ................................ score: (test=0.837) total time=  20.5s\n",
      "[CV] END ................................ score: (test=0.830) total time=  20.6s\n",
      "[CV] END ................................ score: (test=0.837) total time=  20.9s\n",
      "[CV] END ................................ score: (test=0.828) total time=  21.1s\n",
      "[CV] END ................................ score: (test=0.825) total time=  20.7s\n",
      "Fitting 5 folds for each of 6 candidates, totalling 30 fits\n",
      "[CV 1/5] END ..................C=1, kernel=poly;, score=0.614 total time=   3.5s\n",
      "[CV 2/5] END ..................C=1, kernel=poly;, score=0.603 total time=   3.6s\n",
      "[CV 3/5] END ..................C=1, kernel=poly;, score=0.607 total time=   3.6s\n",
      "[CV 4/5] END ..................C=1, kernel=poly;, score=0.601 total time=   3.6s\n",
      "[CV 5/5] END ..................C=1, kernel=poly;, score=0.618 total time=   3.5s\n",
      "[CV 1/5] END ...................C=1, kernel=rbf;, score=0.698 total time=   3.8s\n",
      "[CV 2/5] END ...................C=1, kernel=rbf;, score=0.686 total time=   4.0s\n",
      "[CV 3/5] END ...................C=1, kernel=rbf;, score=0.692 total time=   3.8s\n",
      "[CV 4/5] END ...................C=1, kernel=rbf;, score=0.675 total time=   3.8s\n",
      "[CV 5/5] END ...................C=1, kernel=rbf;, score=0.684 total time=   3.9s\n",
      "[CV 1/5] END ...............C=1, kernel=sigmoid;, score=0.696 total time=   2.7s\n",
      "[CV 2/5] END ...............C=1, kernel=sigmoid;, score=0.689 total time=   2.8s\n",
      "[CV 3/5] END ...............C=1, kernel=sigmoid;, score=0.699 total time=   2.7s\n",
      "[CV 4/5] END ...............C=1, kernel=sigmoid;, score=0.678 total time=   2.8s\n",
      "[CV 5/5] END ...............C=1, kernel=sigmoid;, score=0.681 total time=   2.8s\n",
      "[CV 1/5] END .................C=10, kernel=poly;, score=0.648 total time=   3.5s\n",
      "[CV 2/5] END .................C=10, kernel=poly;, score=0.650 total time=   3.6s\n",
      "[CV 3/5] END .................C=10, kernel=poly;, score=0.655 total time=   3.5s\n",
      "[CV 4/5] END .................C=10, kernel=poly;, score=0.626 total time=   3.5s\n",
      "[CV 5/5] END .................C=10, kernel=poly;, score=0.644 total time=   4.1s\n",
      "[CV 1/5] END ..................C=10, kernel=rbf;, score=0.669 total time=   4.7s\n",
      "[CV 2/5] END ..................C=10, kernel=rbf;, score=0.677 total time=   4.5s\n",
      "[CV 3/5] END ..................C=10, kernel=rbf;, score=0.668 total time=   4.8s\n",
      "[CV 4/5] END ..................C=10, kernel=rbf;, score=0.659 total time=   4.4s\n",
      "[CV 5/5] END ..................C=10, kernel=rbf;, score=0.672 total time=   4.6s\n",
      "[CV 1/5] END ..............C=10, kernel=sigmoid;, score=0.687 total time=   2.7s\n",
      "[CV 2/5] END ..............C=10, kernel=sigmoid;, score=0.680 total time=   2.4s\n",
      "[CV 3/5] END ..............C=10, kernel=sigmoid;, score=0.677 total time=   2.5s\n",
      "[CV 4/5] END ..............C=10, kernel=sigmoid;, score=0.643 total time=   2.3s\n",
      "[CV 5/5] END ..............C=10, kernel=sigmoid;, score=0.671 total time=   2.3s\n",
      "[CV] END ................................ score: (test=0.696) total time=   2.7s\n",
      "[CV] END ................................ score: (test=0.689) total time=   2.9s\n",
      "[CV] END ................................ score: (test=0.699) total time=   2.9s\n",
      "[CV] END ................................ score: (test=0.678) total time=   2.7s\n",
      "[CV] END ................................ score: (test=0.681) total time=   2.7s\n",
      "CPU times: user 21min 41s, sys: 7.87 s, total: 21min 49s\n",
      "Wall time: 21min 51s\n"
     ]
    }
   ],
   "execution_count": 14
  },
  {
   "metadata": {
    "ExecuteTime": {
     "end_time": "2024-05-06T20:43:04.158758Z",
     "start_time": "2024-05-06T20:43:04.153263Z"
    }
   },
   "cell_type": "code",
   "source": [
    "for e in stats_svc:\n",
    "    print(np.round(np.average(e[1]), 3))"
   ],
   "outputs": [
    {
     "name": "stdout",
     "output_type": "stream",
     "text": [
      "0.824\n",
      "0.831\n",
      "0.689\n"
     ]
    }
   ],
   "execution_count": 23
  },
  {
   "metadata": {},
   "cell_type": "code",
   "outputs": [],
   "execution_count": null,
   "source": [
    "svc_models[0].fit(x_cv, y_train)\n",
    "# svc_cv_prediction = cl.predict(x_cv_test)\n",
    "accuracy = svc_models[0].score(x_cv_test, y_test)\n",
    "    "
   ]
  },
  {
   "cell_type": "markdown",
   "metadata": {
    "id": "ZVwJoR2jDnk7"
   },
   "source": [
    "#### 2. Случайный лес ([RandomForestClassifier](https://scikit-learn.org/stable/modules/generated/sklearn.ensemble.RandomForestClassifier.html))."
   ]
  },
  {
   "cell_type": "code",
   "metadata": {
    "colab": {
     "base_uri": "https://localhost:8080/"
    },
    "id": "FmURAXtjDnk8",
    "outputId": "ede78686-198d-450f-ac14-4ccf5ffccfeb",
    "ExecuteTime": {
     "end_time": "2024-05-04T16:17:17.760211Z",
     "start_time": "2024-05-04T13:00:44.947802Z"
    }
   },
   "source": [
    "%%time\n",
    "\n",
    "stats_rfc = []\n",
    "\n",
    "for X in [x_cv, x_tfidf, x_ngram]:\n",
    "    clf = GridSearchCV(\n",
    "        RandomForestClassifier(random_state=1234),\n",
    "        # {'n_estimators': [10, 200, 1000], 'criterion': ('gini', 'entropy', 'log_loss')}\n",
    "        {'n_estimators': [10, 100], 'criterion': ('gini', 'entropy')}\n",
    "    )\n",
    "    clf.fit(X, y_train)\n",
    "    cl = RandomForestClassifier(criterion=clf.best_params_['criterion'], random_state=1234, n_estimators=clf.best_params_['n_estimators'])\n",
    "    k_fold = KFold(n_splits=5, shuffle=True, random_state=42)  # define 5-fold cross-validation\n",
    "    acc = cross_val_score(cl, X, y_train, cv=k_fold, scoring='accuracy')\n",
    "    stats_rfc.append((clf.best_params_, acc))"
   ],
   "outputs": [
    {
     "name": "stdout",
     "output_type": "stream",
     "text": [
      "CPU times: user 3h 16min 26s, sys: 2.84 s, total: 3h 16min 29s\n",
      "Wall time: 3h 16min 32s\n"
     ]
    }
   ],
   "execution_count": 10
  },
  {
   "cell_type": "markdown",
   "metadata": {
    "id": "EmPvnQYRDnk9"
   },
   "source": [
    "### Шаг 3. Сравнение результатов\n",
    "\n",
    "Сравнить точность обученных моделей. Найти наиболее точную."
   ]
  },
  {
   "cell_type": "code",
   "metadata": {
    "id": "yLnSJQHyDnk9",
    "colab": {
     "base_uri": "https://localhost:8080/"
    },
    "outputId": "9699e6f3-72aa-4553-b680-c9529e434e37",
    "ExecuteTime": {
     "end_time": "2024-05-04T16:17:17.777038Z",
     "start_time": "2024-05-04T16:17:17.768954Z"
    }
   },
   "source": [
    "for e in zip(['CountVectorizer', 'TfidfVectorizer', 'Ngrams' ], stats_svc):\n",
    "    print(e)\n",
    "\n",
    "for e in zip(['CountVectorizer', 'TfidfVectorizer', 'Ngrams' ], stats_rfc):\n",
    "    print(e)"
   ],
   "outputs": [
    {
     "name": "stdout",
     "output_type": "stream",
     "text": [
      "('CountVectorizer', ({'C': 10, 'kernel': 'rbf'}, array([0.82592593, 0.81666667, 0.83518519, 0.80740741, 0.86851852])))\n",
      "('TfidfVectorizer', ({'C': 1, 'kernel': 'sigmoid'}, array([0.87037037, 0.85185185, 0.85925926, 0.84074074, 0.86296296])))\n",
      "('Ngrams', ({'C': 10, 'kernel': 'sigmoid'}, array([0.58703704, 0.56481481, 0.57407407, 0.60185185, 0.59814815])))\n",
      "('CountVectorizer', ({'criterion': 'entropy', 'n_estimators': 1000}, array([0.85185185, 0.82407407, 0.83333333, 0.81851852, 0.86296296])))\n",
      "('TfidfVectorizer', ({'criterion': 'entropy', 'n_estimators': 1000}, array([0.84444444, 0.82037037, 0.84814815, 0.81296296, 0.87037037])))\n",
      "('Ngrams', ({'criterion': 'entropy', 'n_estimators': 1000}, array([0.53518519, 0.51111111, 0.52592593, 0.53333333, 0.57037037])))\n"
     ]
    }
   ],
   "execution_count": 11
  },
  {
   "metadata": {
    "ExecuteTime": {
     "end_time": "2024-05-04T17:17:50.547680Z",
     "start_time": "2024-05-04T17:17:50.541920Z"
    }
   },
   "cell_type": "code",
   "source": "print(stats_rfc[0][1])",
   "outputs": [
    {
     "name": "stdout",
     "output_type": "stream",
     "text": [
      "[0.85185185 0.82407407 0.83333333 0.81851852 0.86296296]\n"
     ]
    }
   ],
   "execution_count": 17
  },
  {
   "cell_type": "code",
   "source": [
    "# Accuracy data\n",
    "accuracy_data = [\n",
    "    ('SVC', 'CountVectorizer', [0.82, 0.81, 0.83, 0.8 , 0.8, 0.86]),\n",
    "    ('SVC', 'TfidfVectorizer', [0.87037037, 0.85185185, 0.85925926, 0.84074074, 0.86296296]),\n",
    "    ('SVC', 'Ngrams', [0.58703704, 0.56481481, 0.57407407, 0.60185185, 0.59814815]),\n",
    "    ('RandomForestClassifier', 'CountVectorizer', [0.85185185, 0.82407407, 0.83333333, 0.81851852, 0.86296296]),\n",
    "    ('RandomForestClassifier', 'TfidfVectorizer', [0.84444444, 0.82037037, 0.84814815, 0.81296296, 0.87037037]),\n",
    "    ('RandomForestClassifier', 'Ngrams', [0.53518519, 0.51111111, 0.52592593, 0.53333333, 0.57037037])\n",
    "]\n",
    "\n",
    "# Organizing data\n",
    "models = ['SVC', 'RandomForestClassifier']\n",
    "methods = ['CountVectorizer', 'TfidfVectorizer', 'Ngrams']\n",
    "mean_accuracies = {model: {method: np.mean([scores for m, n, scores in accuracy_data if m == model and n == method]) for method in methods} for model in models}\n",
    "\n",
    "# Plotting\n",
    "plt.figure(figsize=(8, 4))\n",
    "\n",
    "x = np.arange(len(methods))\n",
    "width = 0.4\n",
    "\n",
    "for i, model in enumerate(models):\n",
    "    plt.bar(x + i * width, mean_accuracies[model].values(), width=width, label=model)\n",
    "\n",
    "plt.xlabel('Vectorization Method')\n",
    "plt.ylabel('Mean Accuracy')\n",
    "plt.title('Comparison of Mean Accuracies for Different Models and Vectorization Methods')\n",
    "plt.xticks(x + width / 2, methods)\n",
    "plt.legend()\n",
    "plt.grid(True)\n",
    "\n",
    "plt.tight_layout()\n",
    "plt.show()\n"
   ],
   "metadata": {
    "id": "G9C1_5vzJReN",
    "colab": {
     "base_uri": "https://localhost:8080/",
     "height": 607
    },
    "outputId": "778d5681-f8b3-4dc3-d198-f8e2438cb06d",
    "ExecuteTime": {
     "end_time": "2024-05-04T20:41:45.032690Z",
     "start_time": "2024-05-04T20:41:44.649793Z"
    }
   },
   "outputs": [
    {
     "data": {
      "text/plain": [
       "<Figure size 800x400 with 1 Axes>"
      ],
      "image/png": "[encoded data removed]"
     },
     "metadata": {},
     "output_type": "display_data"
    }
   ],
   "execution_count": 20
  }
 ],
 "metadata": {
  "kernelspec": {
   "display_name": "Python 3 (ipykernel)",
   "name": "python3",
   "language": "python"
  },
  "language_info": {
   "codemirror_mode": {
    "name": "ipython",
    "version": 3
   },
   "file_extension": ".py",
   "mimetype": "text/x-python",
   "name": "python",
   "nbconvert_exporter": "python",
   "pygments_lexer": "ipython3",
   "version": "3.10.12"
  },
  "colab": {
   "provenance": [],
   "gpuType": "T4"
  },
  "accelerator": "GPU"
 },
 "nbformat": 4,
 "nbformat_minor": 0
}
