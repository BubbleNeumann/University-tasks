{
  "cells": [
    {
      "cell_type": "code",
      "execution_count": 11,
      "metadata": {
        "colab": {
          "base_uri": "https://localhost:8080/"
        },
        "id": "pz_U3f83Dnkd",
        "outputId": "312f6032-9b53-4623-9713-d48c93e7d2b7"
      },
      "outputs": [
        {
          "output_type": "stream",
          "name": "stderr",
          "text": [
            "[nltk_data] Downloading package stopwords to /root/nltk_data...\n",
            "[nltk_data]   Package stopwords is already up-to-date!\n"
          ]
        },
        {
          "output_type": "stream",
          "name": "stdout",
          "text": [
            "(50000, 2)\n"
          ]
        }
      ],
      "source": [
        "import pandas as pd\n",
        "import nltk\n",
        "from sklearn.feature_extraction.text import CountVectorizer, TfidfVectorizer\n",
        "import inflect\n",
        "import re\n",
        "from collections import Counter\n",
        "from nltk.tokenize import word_tokenize\n",
        "from nltk.util import ngrams\n",
        "import matplotlib.pyplot as plt\n",
        "from sklearn.svm import SVC\n",
        "from sklearn.ensemble import RandomForestClassifier\n",
        "from sklearn.model_selection import cross_val_score, GridSearchCV, train_test_split, KFold\n",
        "from nltk.corpus import stopwords\n",
        "import numpy as np\n",
        "\n",
        "\n",
        "nltk.download('stopwords')\n",
        "nltk.download('gutenberg', quiet=True)\n",
        "nltk.download('punkt', quiet=True)\n",
        "\n",
        "imdb_data = pd.read_csv(r'https://raw.githubusercontent.com/BubbleNeumann/University-tasks/master/sem8_nlp_lab2/dataset.csv')\n",
        "print(imdb_data.shape)"
      ]
    },
    {
      "cell_type": "markdown",
      "metadata": {
        "id": "T_156Y1NDnkj"
      },
      "source": [
        "#### Шаг №1 Подготовка данных\n",
        "\n",
        "Обязательно предобработайте данные!\n",
        "\n"
      ]
    },
    {
      "cell_type": "code",
      "execution_count": 12,
      "metadata": {
        "id": "QowLnb8PDnkm"
      },
      "outputs": [],
      "source": [
        "def prep(x):\n",
        "    x = re.sub(r'<br />', '', x.lower())\n",
        "    x = re.sub(r'[^\\w\\s]', '', x)\n",
        "    tokens = word_tokenize(x)\n",
        "\n",
        "    # replace digits with their text representation\n",
        "    infl = inflect.engine()\n",
        "    sentence = re.sub(r'\\d+', lambda match: infl.number_to_words(match.group()), x)\n",
        "\n",
        "    # remove stopwords\n",
        "    stop_words = set(stopwords.words('english'))\n",
        "    filtered_tokens = [word for word in tokens if word not in stop_words]\n",
        "\n",
        "    # join the filtered tokens back into a sentence\n",
        "    return ' '.join(filtered_tokens)"
      ]
    },
    {
      "cell_type": "code",
      "execution_count": 13,
      "metadata": {
        "id": "4HQ_a1xkDnko"
      },
      "outputs": [],
      "source": [
        "x_data, y_data = imdb_data['review'], imdb_data['sentiment']\n",
        "\n",
        "y_train = y_data.apply(lambda x: int(x.startswith('p')))\n",
        "x_train, x_test, y_train, y_test = train_test_split(x_data, y_train, test_size=0.9)\n",
        "\n",
        "x_train = list(map(prep, x_train))"
      ]
    },
    {
      "cell_type": "markdown",
      "metadata": {
        "id": "oDnvY0b4Dnkq"
      },
      "source": [
        "В качестве исследуемых способов представления текстов необходимо рассмотреть:\n",
        "\n",
        "#### 1.Компоненты вектора: частоты ([CountVectorizer](https://scikit-learn.org/stable/modules/generated/sklearn.feature_extraction.text.CountVectorizer.html))."
      ]
    },
    {
      "cell_type": "code",
      "execution_count": 14,
      "metadata": {
        "colab": {
          "base_uri": "https://localhost:8080/"
        },
        "id": "ndNjUwG9Dnkt",
        "outputId": "0d23ec25-1863-4dee-d337-93a974028b7f"
      },
      "outputs": [
        {
          "output_type": "stream",
          "name": "stdout",
          "text": [
            "CPU times: user 240 ms, sys: 1 ms, total: 241 ms\n",
            "Wall time: 243 ms\n"
          ]
        }
      ],
      "source": [
        "%%time\n",
        "# cv = CountVectorizer()\n",
        "x_cv = CountVectorizer().fit_transform(x_train)"
      ]
    },
    {
      "cell_type": "markdown",
      "metadata": {
        "id": "AJWrnfqFDnkv"
      },
      "source": [
        "#### 2. Компоненты вектора: оценки tf-idf для слова ([TfidfVectorizer](https://scikit-learn.org/stable/modules/generated/sklearn.feature_extraction.text.TfidfVectorizer.html))."
      ]
    },
    {
      "cell_type": "code",
      "execution_count": 15,
      "metadata": {
        "colab": {
          "base_uri": "https://localhost:8080/"
        },
        "id": "yDMBKhESDnkx",
        "outputId": "ed61f2ab-67b6-439c-8d8d-96f4a30166aa"
      },
      "outputs": [
        {
          "output_type": "stream",
          "name": "stdout",
          "text": [
            "CPU times: user 272 ms, sys: 1.01 ms, total: 273 ms\n",
            "Wall time: 276 ms\n"
          ]
        }
      ],
      "source": [
        "%%time\n",
        "x_tfidf = TfidfVectorizer().fit_transform(x_train)"
      ]
    },
    {
      "cell_type": "markdown",
      "metadata": {
        "id": "O7hR8zu2Dnkz"
      },
      "source": [
        "#### 3. Компоненты вектора: частоты N-грам."
      ]
    },
    {
      "cell_type": "code",
      "execution_count": 16,
      "metadata": {
        "colab": {
          "base_uri": "https://localhost:8080/"
        },
        "id": "r47bdO-3Dnk3",
        "outputId": "a0e25e41-2e39-43cd-e0a4-c47b6586523e"
      },
      "outputs": [
        {
          "output_type": "stream",
          "name": "stdout",
          "text": [
            "CPU times: user 792 ms, sys: 44.9 ms, total: 837 ms\n",
            "Wall time: 838 ms\n"
          ]
        }
      ],
      "source": [
        "%%time\n",
        "x_ngram = CountVectorizer(ngram_range=(3, 3)).fit_transform(x_train)"
      ]
    },
    {
      "cell_type": "markdown",
      "metadata": {
        "id": "YjLMT9j6Dnk5"
      },
      "source": [
        "### Шаг 2. Исследование моделей\n",
        "\n",
        "<table>\n",
        "\t\t<tr>\n",
        "\t\t\t<td></td>\n",
        "\t\t\t<td>$y = 1$</td>\n",
        "\t\t\t<td>$y = 0$</td>\n",
        "\t\t</tr>\n",
        "\t\t<tr>\n",
        "\t\t\t<td>$a(x) = 1$</td>\n",
        "\t\t\t<td>True Positive (TP)</td>\n",
        "\t\t\t<td>False Positive (FP)</td>\n",
        "\t\t</tr>\n",
        "    \t<tr>\n",
        "\t\t\t<td>$a(x) = 0$</td>\n",
        "\t\t\t<td>False Negative (FN)</td>\n",
        "\t\t\t<td>True Negative (TN)</td>\n",
        "\t\t</tr>\n",
        "</table>\n",
        "\n",
        "В зависимости от способа представления оценить качество классификации как долю правильных ответов на выборке ($\\operatorname{accuracy} = \\frac{\\operatorname{TP} + \\operatorname{TN}}{\\operatorname{TP} + \\operatorname{TN} + \\operatorname{FP} + \\operatorname{FN}}$). Используйте перекрестную проверку ([cross_val_score](https://scikit-learn.org/stable/modules/generated/sklearn.model_selection.cross_val_score.html), [KFold](https://scikit-learn.org/stable/modules/generated/sklearn.model_selection.KFold.html)).\n",
        "\n",
        "Для каждого из нижеперечисленных моделей необходимо определить оптимальные гиперпараметры ([GridSearchCV](https://scikit-learn.org/stable/modules/generated/sklearn.model_selection.GridSearchCV.html))\n",
        "\n",
        "Качество классификации оцениваем для следующих моделей:\n",
        "\n",
        "#### 1. Машина опорных векторов ([SVC](https://scikit-learn.org/stable/modules/generated/sklearn.svm.SVC.html))."
      ]
    },
    {
      "cell_type": "code",
      "execution_count": 17,
      "metadata": {
        "colab": {
          "base_uri": "https://localhost:8080/"
        },
        "id": "eFFDPFMtDnk6",
        "outputId": "c35cdb9c-46b2-4495-a383-ae8f6ad7c4c7"
      },
      "outputs": [
        {
          "output_type": "stream",
          "name": "stdout",
          "text": [
            "CPU times: user 23min 38s, sys: 1.54 s, total: 23min 39s\n",
            "Wall time: 23min 40s\n"
          ]
        }
      ],
      "source": [
        "%%time\n",
        "\n",
        "stats_svc = []\n",
        "\n",
        "for X in [x_cv, x_tfidf, x_ngram]:\n",
        "    clf = GridSearchCV(\n",
        "        SVC(),\n",
        "        {'kernel':('linear', 'poly', 'rbf', 'sigmoid'), 'gamma': [0.1, 0.01, 0.001], 'C': [0.1, 1, 10, 25], }\n",
        "    )\n",
        "    clf.fit(X, y_train) # fit on the transformed data\n",
        "    cl = SVC(kernel=clf.best_params_['kernel'], C=clf.best_params_['C'], gamma=clf.best_params_['gamma'])\n",
        "    k_fold = KFold(n_splits=5, shuffle=True, random_state=42)  # define 5-fold cross-validation\n",
        "    acc = cross_val_score(cl, X, y_train, cv=k_fold, scoring='accuracy') # evaluate accuracy\n",
        "    stats_svc.append((clf.best_params_, acc))"
      ]
    },
    {
      "cell_type": "markdown",
      "metadata": {
        "id": "ZVwJoR2jDnk7"
      },
      "source": [
        "#### 2. Случайный лес ([RandomForestClassifier](https://scikit-learn.org/stable/modules/generated/sklearn.ensemble.RandomForestClassifier.html))."
      ]
    },
    {
      "cell_type": "code",
      "execution_count": 18,
      "metadata": {
        "colab": {
          "base_uri": "https://localhost:8080/"
        },
        "id": "FmURAXtjDnk8",
        "outputId": "ede78686-198d-450f-ac14-4ccf5ffccfeb"
      },
      "outputs": [
        {
          "output_type": "stream",
          "name": "stdout",
          "text": [
            "CPU times: user 1h 23min 1s, sys: 5.72 s, total: 1h 23min 7s\n",
            "Wall time: 1h 23min 8s\n"
          ]
        }
      ],
      "source": [
        "%%time\n",
        "\n",
        "stats_rfc = []\n",
        "\n",
        "for X in [x_cv, x_tfidf, x_ngram]:\n",
        "    clf = GridSearchCV(\n",
        "        RandomForestClassifier(random_state=1234),\n",
        "        {'n_estimators': [10, 200, 1000], 'criterion': ('gini', 'entropy', 'log_loss')}\n",
        "    )\n",
        "    clf.fit(X, y_train)\n",
        "    cl = RandomForestClassifier(criterion=clf.best_params_['criterion'], random_state=1234, n_estimators=clf.best_params_['n_estimators'])\n",
        "    k_fold = KFold(n_splits=5, shuffle=True, random_state=42)  # define 5-fold cross-validation\n",
        "    acc = cross_val_score(cl, X, y_train, cv=k_fold, scoring='accuracy')\n",
        "    stats_rfc.append((clf.best_params_, acc))"
      ]
    },
    {
      "cell_type": "markdown",
      "metadata": {
        "id": "EmPvnQYRDnk9"
      },
      "source": [
        "### Шаг 3. Сравнение результатов\n",
        "\n",
        "Сравнить точность обученных моделей. Найти наиболее точную."
      ]
    },
    {
      "cell_type": "code",
      "execution_count": 19,
      "metadata": {
        "id": "yLnSJQHyDnk9",
        "colab": {
          "base_uri": "https://localhost:8080/"
        },
        "outputId": "9699e6f3-72aa-4553-b680-c9529e434e37"
      },
      "outputs": [
        {
          "output_type": "stream",
          "name": "stdout",
          "text": [
            "('CountVectorizer', ({'C': 10, 'gamma': 0.001, 'kernel': 'sigmoid'}, array([0.79      , 0.81      , 0.8       , 0.81333333, 0.81666667])))\n",
            "('TfidfVectorizer', ({'C': 25, 'gamma': 0.01, 'kernel': 'rbf'}, array([0.82333333, 0.84      , 0.8       , 0.85333333, 0.81333333])))\n",
            "('Ngrams', ({'C': 1, 'gamma': 0.1, 'kernel': 'sigmoid'}, array([0.59      , 0.64666667, 0.61      , 0.65333333, 0.60333333])))\n",
            "('CountVectorizer', ({'criterion': 'gini', 'n_estimators': 1000}, array([0.86      , 0.84333333, 0.80666667, 0.80666667, 0.77      ])))\n",
            "('TfidfVectorizer', ({'criterion': 'entropy', 'n_estimators': 1000}, array([0.82333333, 0.80333333, 0.80333333, 0.82666667, 0.76      ])))\n",
            "('Ngrams', ({'criterion': 'entropy', 'n_estimators': 10}, array([0.53      , 0.53666667, 0.49      , 0.54      , 0.48333333])))\n"
          ]
        }
      ],
      "source": [
        "for e in zip(['CountVectorizer', 'TfidfVectorizer', 'Ngrams' ], stats_svc):\n",
        "    print(e)\n",
        "\n",
        "for e in zip(['CountVectorizer', 'TfidfVectorizer', 'Ngrams' ], stats_rfc):\n",
        "    print(e)"
      ]
    },
    {
      "cell_type": "code",
      "source": [
        "import matplotlib.pyplot as plt\n",
        "import numpy as np\n",
        "\n",
        "# Accuracy data\n",
        "accuracy_data = [\n",
        "    ('SVC', 'CountVectorizer', [0.79, 0.81, 0.72, 0.8 , 0.82]),\n",
        "    ('SVC', 'TfidfVectorizer', [0.78, 0.85, 0.79, 0.78, 0.88]),\n",
        "    ('SVC', 'Ngrams', [0.54, 0.53, 0.54, 0.56, 0.5]),\n",
        "    ('RandomForestClassifier', 'CountVectorizer', [0.72, 0.82, 0.78, 0.73, 0.81]),\n",
        "    ('RandomForestClassifier', 'TfidfVectorizer', [0.76, 0.82, 0.74, 0.73, 0.78]),\n",
        "    ('RandomForestClassifier', 'Ngrams', [0.52, 0.53, 0.53, 0.52, 0.56])\n",
        "]\n",
        "\n",
        "# Organizing data\n",
        "models = ['SVC', 'RandomForestClassifier']\n",
        "methods = ['CountVectorizer', 'TfidfVectorizer', 'Ngrams']\n",
        "mean_accuracies = {model: {method: np.mean([scores for m, n, scores in accuracy_data if m == model and n == method]) for method in methods} for model in models}\n",
        "\n",
        "# Plotting\n",
        "plt.figure(figsize=(10, 6))\n",
        "\n",
        "x = np.arange(len(methods))\n",
        "width = 0.35\n",
        "\n",
        "for i, model in enumerate(models):\n",
        "    plt.bar(x + i * width, mean_accuracies[model].values(), width=width, label=model)\n",
        "\n",
        "plt.xlabel('Vectorization Method')\n",
        "plt.ylabel('Mean Accuracy')\n",
        "plt.title('Comparison of Mean Accuracies for Different Models and Vectorization Methods')\n",
        "plt.xticks(x + width / 2, methods)\n",
        "plt.legend()\n",
        "plt.grid(True)\n",
        "\n",
        "plt.tight_layout()\n",
        "plt.show()\n"
      ],
      "metadata": {
        "id": "G9C1_5vzJReN",
        "colab": {
          "base_uri": "https://localhost:8080/",
          "height": 607
        },
        "outputId": "778d5681-f8b3-4dc3-d198-f8e2438cb06d"
      },
      "execution_count": 20,
      "outputs": [
        {
          "output_type": "display_data",
          "data": {
            "text/plain": [
              "<Figure size 1000x600 with 1 Axes>"
            ],
            "image/png": "[encoded data removed]"
          },
          "metadata": {}
        }
      ]
    }
  ],
  "metadata": {
    "kernelspec": {
      "display_name": "Python 3",
      "name": "python3"
    },
    "language_info": {
      "codemirror_mode": {
        "name": "ipython",
        "version": 3
      },
      "file_extension": ".py",
      "mimetype": "text/x-python",
      "name": "python",
      "nbconvert_exporter": "python",
      "pygments_lexer": "ipython3",
      "version": "3.10.12"
    },
    "colab": {
      "provenance": [],
      "gpuType": "T4"
    },
    "accelerator": "GPU"
  },
  "nbformat": 4,
  "nbformat_minor": 0
}