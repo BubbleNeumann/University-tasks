{
 "cells": [
  {
   "cell_type": "code",
   "execution_count": null,
   "metadata": {},
   "outputs": [],
   "source": [
    "try:\n",
    "    with open('titanic.csv', 'r') as f:\n",
    "        data = f.readlines()\n",
    "        # print(\"Type: \", type(data), \"\\n\\n\", \"Len: \", len(data), \"\\n\\n\", data, sep=\"\")\n",
    "except IOError:\n",
    "    print('IOError')"
   ]
  },
  {
   "cell_type": "code",
   "execution_count": 8,
   "metadata": {},
   "outputs": [
    {
     "name": "stdout",
     "output_type": "stream",
     "text": [
      "342\n",
      "['1', '0', '3', '\"Braund', ' Mr. Owen Harris\"', 'male', '22', '\\n']\n"
     ]
    }
   ],
   "source": [
    "lst = []\n",
    "\n",
    "for elem in data:\n",
    "    lst.append(elem.split(','))\n",
    "\n",
    "res = 0\n",
    "for elem in lst:\n",
    "    if (elem[1] == '1'):\n",
    "        res += 1\n",
    "\n",
    "print(res)\n",
    "print(lst[1])"
   ]
  },
  {
   "cell_type": "code",
   "execution_count": 28,
   "metadata": {},
   "outputs": [
    {
     "name": "stdout",
     "output_type": "stream",
     "text": [
      "30.849884526558892 28.15234375\n"
     ]
    }
   ],
   "source": [
    "avM = 0\n",
    "mCount = 0\n",
    "avW = 0\n",
    "wCount = 0\n",
    "\n",
    "for elem in data:\n",
    "    lst.append(elem.split(','))\n",
    "\n",
    "for elem in range(1, len(lst)):\n",
    "    if (lst[elem][5] == 'male'):\n",
    "        # print(lst[elem][5], lst[elem][6])\n",
    "        try:\n",
    "            avM += int(lst[elem][6])\n",
    "            mCount += 1\n",
    "        except:\n",
    "            pass\n",
    "\n",
    "    if (lst[elem][5] == 'female'):\n",
    "        try:\n",
    "            avW += int(lst[elem][6])\n",
    "            wCount += 1\n",
    "        except:\n",
    "            pass\n",
    "\n",
    "print(avM/mCount, avW/wCount)"
   ]
  },
  {
   "cell_type": "code",
   "execution_count": 38,
   "metadata": {},
   "outputs": [
    {
     "name": "stdout",
     "output_type": "stream",
     "text": [
      "892\n",
      "[55, 101, 215, 161, 85, 47, 19, 5, 1, 0]\n"
     ]
    }
   ],
   "source": [
    "ageLst = [0] * 10\n",
    "\n",
    "print(len(data))\n",
    "for elem in range(1, len(data)):\n",
    "\n",
    "    index = -1\n",
    "    try:\n",
    "       index = int(lst[elem][6]) //10\n",
    "    except:\n",
    "        pass\n",
    "    if(index != -1):\n",
    "        ageLst[index] += 1\n",
    "\n",
    "print(ageLst)"
   ]
  }
 ],
 "metadata": {
  "interpreter": {
   "hash": "f2d18c173e5ba5ab8ac6375975de63329d859dc163a077b683cc8c05d4d0149b"
  },
  "kernelspec": {
   "display_name": "Python 3.9.7 64-bit (windows store)",
   "name": "python3"
  },
  "language_info": {
   "codemirror_mode": {
    "name": "ipython",
    "version": 3
   },
   "file_extension": ".py",
   "mimetype": "text/x-python",
   "name": "python",
   "nbconvert_exporter": "python",
   "pygments_lexer": "ipython3",
   "version": "3.9.7"
  },
  "orig_nbformat": 4
 },
 "nbformat": 4,
 "nbformat_minor": 2
}
