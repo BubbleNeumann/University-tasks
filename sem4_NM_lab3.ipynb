{
 "cells": [
  {
   "cell_type": "markdown",
   "metadata": {},
   "source": [
    "#### Чернышова Дана, группа 6209\n",
    "##### Вариант 21\n",
    "##### Лабораторная работа №3"
   ]
  },
  {
   "cell_type": "code",
   "execution_count": 6,
   "metadata": {},
   "outputs": [],
   "source": [
    "import numpy as np"
   ]
  },
  {
   "cell_type": "markdown",
   "metadata": {},
   "source": [
    "Задание 1. Создать вектор строку 1x10 из случайных целых чисел. Вычислить норму ||x||1 самостоятельно написанной функцией и проверить результат с помощью linalg.norm()"
   ]
  },
  {
   "cell_type": "code",
   "execution_count": 11,
   "metadata": {},
   "outputs": [
    {
     "name": "stdout",
     "output_type": "stream",
     "text": [
      "50\n",
      "50.0\n"
     ]
    }
   ],
   "source": [
    "A = np.random.randint(0, 10, (1, 10))[0] # generate a random vector\n",
    "\n",
    "res = 0\n",
    "for elem in A:\n",
    "    res += abs(elem) # sum absolute values of each element\n",
    "\n",
    "print(res) # calculated manually\n",
    "print(np.linalg.norm(A, ord=1)) # check"
   ]
  },
  {
   "cell_type": "markdown",
   "metadata": {},
   "source": [
    "Задание 2. Создать матрицу из случайных целых чисел. Найти спектральную норму матрицы с помощью самостоятельно написанного алгоритма (можно использовать функцию для нахождения собственных значений), проверить результат с помощью linalg.norm()."
   ]
  },
  {
   "cell_type": "code",
   "execution_count": 48,
   "metadata": {},
   "outputs": [
    {
     "name": "stdout",
     "output_type": "stream",
     "text": [
      "14.590203221067116\n"
     ]
    },
    {
     "data": {
      "text/plain": [
       "14.590203221067112"
      ]
     },
     "execution_count": 48,
     "metadata": {},
     "output_type": "execute_result"
    }
   ],
   "source": [
    "n = 3 # set dimensions\n",
    "A = np.random.randint(0, 10, (n, n))\n",
    "\n",
    "AtA = np.cross(A.transpose(), A) # multiply transposed A and the regular one\n",
    "u, s, vh = np.linalg.svd(A) # get singular values from singular value decomposition\n",
    "print(max(s)) # print the max of singular values\n",
    "\n",
    "np.linalg.norm(A, ord=2) # check"
   ]
  },
  {
   "cell_type": "markdown",
   "metadata": {},
   "source": [
    "Задание 3. Для вектора, созданного в первом пункте, найти отражение Хаусхолдера, которое обнуляет его координаты с 4 по 10. Например, вектор (1,2,3,4,5,6,7,8,9,10) переводит в вектор\n",
    "(1,2,3,0,0,0,0,0,0,0)"
   ]
  },
  {
   "cell_type": "code",
   "execution_count": 195,
   "metadata": {},
   "outputs": [
    {
     "name": "stdout",
     "output_type": "stream",
     "text": [
      "[5 3 2 8 7 4 5 2 3 5]\n",
      "q:\n",
      " [[ 1.     0.     0.     0.     0.     0.     0.     0.     0.     0.   ]\n",
      " [ 0.     1.     0.     0.     0.     0.     0.     0.     0.     0.   ]\n",
      " [ 0.     0.     1.     0.     0.     0.     0.     0.     0.     0.   ]\n",
      " [ 0.     0.     0.    -0.577  0.744 -0.318 -0.015  0.1   -0.006 -0.046]\n",
      " [ 0.     0.     0.    -0.505 -0.019  0.854 -0.095 -0.062 -0.043  0.026]\n",
      " [ 0.     0.     0.    -0.289 -0.25  -0.077  0.904  0.022 -0.121 -0.125]\n",
      " [ 0.     0.     0.    -0.361 -0.474 -0.208 -0.298  0.711 -0.073 -0.051]\n",
      " [ 0.     0.     0.    -0.144 -0.125 -0.038  0.009 -0.085  0.943 -0.254]\n",
      " [ 0.     0.     0.    -0.217 -0.156 -0.16   0.028 -0.165  0.172  0.92 ]\n",
      " [ 0.     0.     0.    -0.361 -0.345 -0.306 -0.289 -0.668 -0.241 -0.262]]\n",
      "r:\n",
      " [  5.      3.      2.    -13.856  -0.     -0.     -0.     -0.     -0.\n",
      "   0.   ]\n"
     ]
    },
    {
     "name": "stderr",
     "output_type": "stream",
     "text": [
      "/var/folders/c0/f0v7p5v12k15tprf6q64l1tw0000gn/T/ipykernel_11089/884191726.py:13: RuntimeWarning: invalid value encountered in true_divide\n",
      "  v = a / (a[0] + np.copysign(np.linalg.norm(a), a[0]))\n"
     ]
    }
   ],
   "source": [
    "def find_qr(A):\n",
    "    \n",
    "    r = len(A)\n",
    "    Q = np.eye(r)\n",
    "    for i in range(3, 10): # borders are indexes to set to zero\n",
    "        H = np.eye(r)\n",
    "        H[i:, i:] = make_householder(A[i:])\n",
    "        Q = np.dot(Q, H)\n",
    "        A = np.dot(H, A)\n",
    "    return Q, A\n",
    " \n",
    "def make_householder(a):\n",
    "    v = a / (a[0] + np.copysign(np.linalg.norm(a), a[0]))\n",
    "    v[0] = 1\n",
    "    H = np.eye(a.shape[0])\n",
    "    H -= (2 / np.dot(v, v)) * np.dot(v[:, None], v[None, :])\n",
    "    return H\n",
    " \n",
    "\n",
    "A = np.random.randint(1, 10, (1, 10))[0]  # generate a random vector\n",
    "\n",
    "q, r = find_qr(A)\n",
    "print(A) # intial matrix\n",
    "print('q:\\n', q)\n",
    "print('r:\\n', r)\n",
    "\n",
    "\n"
   ]
  },
  {
   "cell_type": "markdown",
   "metadata": {},
   "source": [
    "Задание 4. Решить систему, используя QR разложение, полученное\n",
    "преобразованием Хаусхолдера.\n",
    "$$ \n",
    "4.4x_1 - 2.5x_2 + 19.2x_3 - 10.8x_4= 4.3\\\\\n",
    "5.5x_1 - 9.3x_2 - 14.2x_3 + 13.2x_4= 6.8\\\\\n",
    "7.1x_1 - 11.5x_2 + 5.3x_3 - 6.7x_4= -1.8\\\\\n",
    "14.2x_1 + 23.4x_2 - 8.8x_3 + 5.3x_4= 7.2\n",
    "$$"
   ]
  },
  {
   "cell_type": "code",
   "execution_count": 152,
   "metadata": {},
   "outputs": [],
   "source": [
    "def householder(A):\n",
    "\n",
    "    (r, c) = np.shape(A)\n",
    "    Q = np.identity(r)\n",
    "    R = np.copy(A)\n",
    "\n",
    "    for cnt in range(r-1):\n",
    "        x = R[cnt:, cnt]\n",
    "        e = np.zeros_like(x)\n",
    "        e[0] = np.linalg.norm(x)\n",
    "        u = x-e\n",
    "        v = u /np.linalg.norm(u)\n",
    "        Q_cnt = np.identity(r)\n",
    "        Q_cnt[cnt:, cnt:] -= 2.0 * np.outer(v, v)\n",
    "        R = np.dot(Q_cnt, R)\n",
    "        Q = np.dot(Q, Q_cnt)\n",
    "    \n",
    "    return Q, R\n"
   ]
  },
  {
   "cell_type": "code",
   "execution_count": 154,
   "metadata": {},
   "outputs": [
    {
     "name": "stdout",
     "output_type": "stream",
     "text": [
      "[0.445 0.067 0.869 1.312]\n",
      "[0.445 0.067 0.869 1.312]\n"
     ]
    }
   ],
   "source": [
    "A = np.array([[4.4, -2.5, 19.2, -10.8], [5.5, -9.3, -14.2, 13.2], [7.1, -11.5, 5.3, -6.7], [14.2, 23.4, -8.8, 5.3]])\n",
    "B = np.array([4.3, 6.8, -1.8, 7.2])\n",
    "\n",
    "np.set_printoptions(precision=3, suppress=True) # set precision\n",
    "\n",
    "Q, R = householder(A)\n",
    "y = np.dot(Q.T, B)\n",
    "x = np.linalg.solve(R, y) # solve Rx = Q`b\n",
    "\n",
    "print(x) # solved manually\n",
    "print(np.linalg.solve(A, B)) # automatic check"
   ]
  }
 ],
 "metadata": {
  "interpreter": {
   "hash": "31f2aee4e71d21fbe5cf8b01ff0e069b9275f58929596ceb00d14d90e3e16cd6"
  },
  "kernelspec": {
   "display_name": "Python 3.8.2 64-bit",
   "language": "python",
   "name": "python3"
  },
  "language_info": {
   "codemirror_mode": {
    "name": "ipython",
    "version": 3
   },
   "file_extension": ".py",
   "mimetype": "text/x-python",
   "name": "python",
   "nbconvert_exporter": "python",
   "pygments_lexer": "ipython3",
   "version": "3.8.2"
  },
  "orig_nbformat": 4
 },
 "nbformat": 4,
 "nbformat_minor": 2
}
