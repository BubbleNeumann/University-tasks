{
 "cells": [
  {
   "cell_type": "markdown",
   "metadata": {},
   "source": [
    "# Лабораторная работа №2\n",
    "\n",
    "**Требования:**\n",
    "* Python >= 3.X\n",
    "\n",
    "**Входные данные:**\n",
    "* Текстовый файл input.txt. \n",
    "\n",
    "Лабораторную работу необходимо выполнять в данном шаблоне. Результатом работы будет являться файл (с измененным именем), который необходимо выложить в Moodle.\n",
    "\n",
    "**Важно!!!** Имя файлу задавайте по следующему шаблону **lab_1.2_Группа_ФамилияИО.ipynb**. Например: если Вас зовут Иванов Иван Иванович, и Вы обучаетесь в группе 6207_010302D, то имя файла будет выглядеть так **lab_1.2_6207_ИвановИИ.ipynb**.\n",
    "\n",
    "P.S. библиотеками пользоваться запрещено!"
   ]
  },
  {
   "cell_type": "markdown",
   "metadata": {},
   "source": [
    "### Задача № 1\n",
    "\n",
    "Реализуйте тело функции, которая читает входные данные из текстового файла. Разбивает полученный текст на слова, и возвращает список этих слов в нижнем регистре. При этом порядок слов должен быть сохранен, а знаки препинания должны быть пропущены.\n",
    "\n",
    "Если текст имеет вид\n",
    "\n",
    "`\"Мама мыла шалаш. Убираясь, мама нашла комок шерсти.\"`,\n",
    "\n",
    "то на выходе мы должны получить список вида \n",
    "\n",
    "`[\"мама\", \"мыла\", \"шалаш\", \"убираясь\", \"мама\", \"нашла\", \"комок\", \"шерсти\"]`"
   ]
  },
  {
   "cell_type": "markdown",
   "metadata": {},
   "source": [
    "#### Решение"
   ]
  },
  {
   "cell_type": "code",
   "execution_count": 1,
   "metadata": {},
   "outputs": [],
   "source": [
    "def read_data(filename):\n",
    "    \"\"\"    \n",
    "    :param filename: имя входного файла\n",
    "    :return: список слов\n",
    "    \"\"\"\n",
    "    try:\n",
    "        with open(filename, 'r', encoding='UTF-8') as f:\n",
    "            data = f.read()\n",
    "    except IOError:\n",
    "        print('IOError')\n",
    "\n",
    "    list_of_words = data.split()\n",
    "    for i in range(len(list_of_words)):\n",
    "        list_of_words[i] = list_of_words[i].strip(',.?!').lower()\n",
    "\n",
    "    return list_of_words"
   ]
  },
  {
   "cell_type": "markdown",
   "metadata": {},
   "source": [
    "### Задача № 2\n",
    "\n",
    "Реализуйте тело функции, которая на вход принимает список слов. Возвращает словарь частот в котором ключами являются слова, а значениями являются частоты их употребления.\n",
    "\n",
    "Если входной список имеет вид\n",
    "\n",
    "`[\"мама\", \"мыла\", \"шалаш\", \"убираясь\", \"мама\", \"нашла\", \"комок\", \"шерсти\"]`\n",
    "\n",
    "то на выходе мы должны получить словарь вида \n",
    "\n",
    "`{\"мама\": 2, \"мыла\": 1, \"шалаш\": 1, \"убираясь\": 1, \"нашла\": 1, \"комок\": 1, \"шерсти\": 1}`"
   ]
  },
  {
   "cell_type": "markdown",
   "metadata": {},
   "source": [
    "#### Решение"
   ]
  },
  {
   "cell_type": "code",
   "execution_count": 2,
   "metadata": {},
   "outputs": [],
   "source": [
    "def get_frequency(list_of_words):\n",
    "    \"\"\"    \n",
    "    :param list_of_words: список слов\n",
    "    :return: словарь частот (ключ - это слово, значение - частота слова)\n",
    "    \"\"\"    \n",
    "    \n",
    "    dict_of_frequency = {}\n",
    "    for word in list_of_words:\n",
    "        dict_of_frequency[word] = dict_of_frequency.get(word, 0) + 1\n",
    "\n",
    "    return dict_of_frequency"
   ]
  },
  {
   "cell_type": "markdown",
   "metadata": {},
   "source": [
    "### Задача № 3\n",
    "\n",
    "Реализуйте тело функции, которая на вход принимает словарь частот. Возвращает список слов палиндромов, слов которые одинаково читаются в обоих направлениях.\n",
    "\n",
    "Если входной словарь имеет вид\n",
    "\n",
    "`{\"мама\": 2, \"мыла\": 1, \"шалаш\": 1, \"убираясь\": 1, \"нашла\": 1, \"комок\": 1, \"шерсти\": 1}`,\n",
    "\n",
    "то на выходе мы должны получить список вида \n",
    "\n",
    "`[\"шалаш\", \"комок\"]`"
   ]
  },
  {
   "cell_type": "markdown",
   "metadata": {},
   "source": [
    "#### Решение"
   ]
  },
  {
   "cell_type": "code",
   "execution_count": 3,
   "metadata": {},
   "outputs": [],
   "source": [
    "def get_palindrome(dict_of_frequency):\n",
    "    \"\"\"    \n",
    "    :param dict_of_frequency: словарь частот\n",
    "    :return: список слов палиндромов\n",
    "    \"\"\"\n",
    "    \n",
    "    list_of_palindrome = []\n",
    "    for i in dict_of_frequency:\n",
    "        if i == i[::-1]:\n",
    "            list_of_palindrome.append(i)\n",
    "\n",
    "    return list_of_palindrome"
   ]
  },
  {
   "cell_type": "markdown",
   "metadata": {},
   "source": [
    "### Задача № 4\n",
    "\n",
    "Реализуйте тело функции, которая на вход принимает список слов. Возвращает список всех возможных сочетаний слов. Каждое сочетание хранится как множесто (тип `set`).\n",
    "\n",
    "Если входной список имеет вид\n",
    "\n",
    "`[\"мама\", \"мыла\", \"нашла\"]`,\n",
    "\n",
    "то на выходе мы должны получить список вида \n",
    "\n",
    "`[\n",
    "{},\n",
    "{\"мама\"},\n",
    "{\"мыла\"},\n",
    "{\"нашла\"},\n",
    "{\"мама\", \"мыла\"},\n",
    "{\"мама\", \"нашла\"},\n",
    "{\"комок\", \"нашла\"},\n",
    "{\"мама\", \"мыла\", \"нашла\"}\n",
    "]`"
   ]
  },
  {
   "cell_type": "markdown",
   "metadata": {},
   "source": [
    "#### Решение"
   ]
  },
  {
   "cell_type": "code",
   "execution_count": 123,
   "metadata": {},
   "outputs": [],
   "source": [
    "def get_combination(list_of_palindrome):\n",
    "    \"\"\"    \n",
    "    :param list_of_palindrome: словарь слов палиндромов\n",
    "    :return: список всех возможных сочетаний\n",
    "    \"\"\"\n",
    "\n",
    "    list_of_combination = [set({i}) for i in list_of_palindrome]\n",
    "   \n",
    "    for i in range(len(list_of_combination)):\n",
    "        if (len(list_of_combination) == (2**len(list_of_palindrome) - 2)):\n",
    "            break\n",
    "        for j in range(i+1, len(list_of_combination)):\n",
    "            if (len(list_of_combination) == (2**len(list_of_palindrome) -2)):\n",
    "                break\n",
    "            list_of_combination.append(set(list_of_combination[i].union(list_of_combination[j])))            \n",
    "\n",
    "    list_of_combination.extend([{}, set(list_of_palindrome)])\n",
    "\n",
    "    return list_of_combination"
   ]
  },
  {
   "cell_type": "markdown",
   "metadata": {},
   "source": [
    "### Задача № 5\n",
    "\n",
    "Реализуйте тело функции, которая на вход принимает список слов и возвращает список с количеством гласных в каждом слове. Основной функционал должен быть реализован через функцию `map`.\n",
    "\n",
    "Если входной список имеет вид\n",
    "\n",
    "`[\"мама\", \"мыла\", \"убираясь\"]`,\n",
    "\n",
    "то на выходе мы должны получить список вида \n",
    "\n",
    "`[2, 2, 4]`"
   ]
  },
  {
   "cell_type": "markdown",
   "metadata": {},
   "source": [
    "#### Решение"
   ]
  },
  {
   "cell_type": "code",
   "execution_count": 5,
   "metadata": {},
   "outputs": [],
   "source": [
    "def get_vowels(list_of_words):\n",
    "    \"\"\"    \n",
    "    :param list_of_words: словарь слов\n",
    "    :return: список с количеством гласных в каждом слове\n",
    "    \"\"\"\n",
    "    ENG_VOWELS = ['a', 'o', 'u', 'i', 'e', 'y']\n",
    "    RUS_VOWELS = ['а', 'е', 'и', 'о', 'ы', 'я', 'ю', 'э', 'у','ё']\n",
    "    list_of_vowels = [0] * len(list_of_words)\n",
    "\n",
    "    for word in range(len(list_of_words)):\n",
    "        for letter in range(len(list_of_words[word])):\n",
    "            if list_of_words[word][letter] in ENG_VOWELS or list_of_words[word][letter] in RUS_VOWELS:\n",
    "                list_of_vowels[word] += 1\n",
    "\n",
    "    return list_of_vowels"
   ]
  },
  {
   "cell_type": "markdown",
   "metadata": {},
   "source": [
    "### Задача № 6\n",
    "\n",
    "Реализуйте тело функции, которая сохраняет список в текстовый файл. Разделителем элементов в файле является символ из параметра `sep`.\n",
    "\n",
    "Если входной список имеет вид\n",
    "\n",
    "`[\"мама\", 5, 7.4]`, а `sep = ','`,\n",
    "\n",
    "то в файл должно быть запсано\n",
    "\n",
    "`\"мама,5,7.4\"`"
   ]
  },
  {
   "cell_type": "markdown",
   "metadata": {},
   "source": [
    "#### Решение"
   ]
  },
  {
   "cell_type": "code",
   "execution_count": 6,
   "metadata": {},
   "outputs": [],
   "source": [
    "def save_data(filename, data, sep=','):\n",
    "    \"\"\"    \n",
    "    :param filename:\n",
    "    :param data: список с данными\n",
    "    :param sep: символ разделитель\n",
    "    \"\"\"\n",
    "    try:\n",
    "        with open(filename, 'w', encoding='UTF-8') as f:\n",
    "            for elem in data:\n",
    "                f.write(f'{elem:0}{sep}')\n",
    "    except IOError:\n",
    "        print('IOError')"
   ]
  },
  {
   "cell_type": "markdown",
   "metadata": {},
   "source": [
    "### Проверка"
   ]
  },
  {
   "cell_type": "code",
   "execution_count": null,
   "metadata": {},
   "outputs": [],
   "source": [
    "list_of_words = read_data(\"input.txt\")\n",
    "print(\"Список слов\", list_of_words)\n",
    "\n",
    "dict_of_frequency = get_frequency(list_of_words)\n",
    "print(\"Частота слов\", dict_of_frequency)\n",
    "\n",
    "list_of_palindrome = get_palindrome(dict_of_frequency)\n",
    "list_of_palindrome.sort(key=len, reverse=True)\n",
    "print(\"Список палиндромов\", list_of_palindrome[:4])\n",
    "\n",
    "list_of_combination = get_combination(list_of_palindrome[:4])\n",
    "print(\"Список сочетаний\", list_of_combination)\n",
    "\n",
    "list_of_vowels = get_vowels(list_of_words)\n",
    "print(\"Количество гласных слов\", list_of_vowels)\n",
    "\n",
    "save_data(\"output.txt\", list_of_vowels, sep=\"|\")"
   ]
  }
 ],
 "metadata": {
  "interpreter": {
   "hash": "fe44fef87f92f48a3a32707d0df204585f471652bc0ce87358a3ce712bc24db0"
  },
  "kernelspec": {
   "display_name": "Python 3.9.7 64-bit",
   "name": "python3"
  },
  "language_info": {
   "codemirror_mode": {
    "name": "ipython",
    "version": 3
   },
   "file_extension": ".py",
   "mimetype": "text/x-python",
   "name": "python",
   "nbconvert_exporter": "python",
   "pygments_lexer": "ipython3",
   "version": "3.9.7"
  }
 },
 "nbformat": 4,
 "nbformat_minor": 4
}
