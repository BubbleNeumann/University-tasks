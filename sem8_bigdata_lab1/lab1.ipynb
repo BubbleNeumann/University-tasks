{
 "nbformat": 4,
 "nbformat_minor": 0,
 "metadata": {
  "colab": {
   "provenance": [],
   "include_colab_link": true
  },
  "kernelspec": {
   "name": "python3",
   "display_name": "Python 3 (ipykernel)",
   "language": "python"
  },
  "language_info": {
   "name": "python"
  }
 },
 "cells": [
  {
   "cell_type": "code",
   "source": [
    "!pip install pyspark"
   ],
   "metadata": {
    "colab": {
     "base_uri": "https://localhost:8080/"
    },
    "id": "B0_qenrwJAs3",
    "outputId": "f0d4a107-0599-49e5-ce29-76e3d63f9c3d",
    "ExecuteTime": {
     "end_time": "2024-05-07T13:30:45.219027Z",
     "start_time": "2024-05-07T13:27:46.949986Z"
    }
   },
   "outputs": [
    {
     "name": "stdout",
     "output_type": "stream",
     "text": [
      "Defaulting to user installation because normal site-packages is not writeable\r\n",
      "Collecting pyspark\r\n",
      "  Downloading pyspark-3.5.1.tar.gz (317.0 MB)\r\n",
      "\u001B[2K     \u001B[90m━━━━━━━━━━━━━━━━━━━━━━━━━━━━━━━━━━━━━━━\u001B[0m \u001B[32m317.0/317.0 MB\u001B[0m \u001B[31m1.8 MB/s\u001B[0m eta \u001B[36m0:00:00\u001B[0m00:01\u001B[0m00:03\u001B[0m\r\n",
      "\u001B[?25h  Preparing metadata (setup.py) ... \u001B[?25ldone\r\n",
      "\u001B[?25hCollecting py4j==0.10.9.7\r\n",
      "  Downloading py4j-0.10.9.7-py2.py3-none-any.whl (200 kB)\r\n",
      "\u001B[2K     \u001B[90m━━━━━━━━━━━━━━━━━━━━━━━━━━━━━━━━━━━━━━━\u001B[0m \u001B[32m200.5/200.5 KB\u001B[0m \u001B[31m2.4 MB/s\u001B[0m eta \u001B[36m0:00:00\u001B[0ma \u001B[36m0:00:01\u001B[0m\r\n",
      "\u001B[?25hBuilding wheels for collected packages: pyspark\r\n",
      "  Building wheel for pyspark (setup.py) ... \u001B[?25ldone\r\n",
      "\u001B[?25h  Created wheel for pyspark: filename=pyspark-3.5.1-py2.py3-none-any.whl size=317488513 sha256=70bfa96b2d141dcc0b0d1c0ebddf918228b4646545d9d9dc93e9d58e0a06bf1b\r\n",
      "  Stored in directory: /home/r_usttt/.cache/pip/wheels/80/1d/60/2c256ed38dddce2fdd93be545214a63e02fbd8d74fb0b7f3a6\r\n",
      "Successfully built pyspark\r\n",
      "Installing collected packages: py4j, pyspark\r\n",
      "Successfully installed py4j-0.10.9.7 pyspark-3.5.1\r\n"
     ]
    }
   ],
   "execution_count": 1
  },
  {
   "metadata": {
    "ExecuteTime": {
     "end_time": "2024-05-07T13:31:09.597693Z",
     "start_time": "2024-05-07T13:31:05.782245Z"
    }
   },
   "cell_type": "code",
   "source": "!pip install geopy",
   "outputs": [
    {
     "name": "stdout",
     "output_type": "stream",
     "text": [
      "Defaulting to user installation because normal site-packages is not writeable\r\n",
      "Collecting geopy\r\n",
      "  Downloading geopy-2.4.1-py3-none-any.whl (125 kB)\r\n",
      "\u001B[2K     \u001B[90m━━━━━━━━━━━━━━━━━━━━━━━━━━━━━━━━━━━━━\u001B[0m \u001B[32m125.4/125.4 KB\u001B[0m \u001B[31m936.5 kB/s\u001B[0m eta \u001B[36m0:00:00\u001B[0ma \u001B[36m0:00:01\u001B[0m\r\n",
      "\u001B[?25hCollecting geographiclib<3,>=1.52\r\n",
      "  Downloading geographiclib-2.0-py3-none-any.whl (40 kB)\r\n",
      "\u001B[2K     \u001B[90m━━━━━━━━━━━━━━━━━━━━━━━━━━━━━━━━━━━━━━━━\u001B[0m \u001B[32m40.3/40.3 KB\u001B[0m \u001B[31m4.9 MB/s\u001B[0m eta \u001B[36m0:00:00\u001B[0m\r\n",
      "\u001B[?25hInstalling collected packages: geographiclib, geopy\r\n",
      "Successfully installed geographiclib-2.0 geopy-2.4.1\r\n"
     ]
    }
   ],
   "execution_count": 3
  },
  {
   "cell_type": "code",
   "source": [
    "from pyspark.sql import SparkSession\n",
    "from pyspark.sql.functions import col, sum, desc\n",
    "from geopy.distance import geodesic\n",
    "from itertools import combinations\n",
    "\n",
    "# create spark session\n",
    "conf = SparkSession.builder.appName(\"lab1\").getOrCreate()"
   ],
   "metadata": {
    "colab": {
     "base_uri": "https://localhost:8080/",
     "height": 219
    },
    "id": "Qs49Y3fXfBU4",
    "outputId": "f9eb8642-4514-4a5d-cc7a-3226ad4db1f3",
    "ExecuteTime": {
     "end_time": "2024-05-07T14:44:52.323554Z",
     "start_time": "2024-05-07T14:44:52.252569Z"
    }
   },
   "outputs": [],
   "execution_count": 2
  },
  {
   "cell_type": "code",
   "source": [
    "trips_df = conf.read.csv(\"trips.csv\", header=True, inferSchema=True)\n",
    "stations_df = conf.read.csv(\"stations.csv\", header=True, inferSchema=True)"
   ],
   "metadata": {
    "id": "MjefduidghCv",
    "ExecuteTime": {
     "end_time": "2024-05-07T14:45:08.521580Z",
     "start_time": "2024-05-07T14:45:02.039476Z"
    }
   },
   "outputs": [
    {
     "name": "stderr",
     "output_type": "stream",
     "text": [
      "                                                                                \r"
     ]
    }
   ],
   "execution_count": 3
  },
  {
   "cell_type": "code",
   "source": [
    "trips_df"
   ],
   "metadata": {
    "colab": {
     "base_uri": "https://localhost:8080/"
    },
    "id": "Ok1DNSrRgn_q",
    "outputId": "71ac8e5b-1162-44f9-dd73-b71d82e460f1",
    "ExecuteTime": {
     "end_time": "2024-05-07T14:45:13.990014Z",
     "start_time": "2024-05-07T14:45:13.976651Z"
    }
   },
   "outputs": [
    {
     "data": {
      "text/plain": [
       "DataFrame[id: int, duration: int, start_date: string, start_station_name: string, start_station_id: int, end_date: string, end_station_name: string, end_station_id: int, bike_id: int, subscription_type: string, zip_code: string]"
      ]
     },
     "execution_count": 4,
     "metadata": {},
     "output_type": "execute_result"
    }
   ],
   "execution_count": 4
  },
  {
   "cell_type": "code",
   "source": [
    "stations_df"
   ],
   "metadata": {
    "colab": {
     "base_uri": "https://localhost:8080/"
    },
    "id": "qdA4SlRugpP1",
    "outputId": "ef3b7e2f-3c6b-463a-f329-083a065bcd3c",
    "ExecuteTime": {
     "end_time": "2024-05-07T14:45:16.927185Z",
     "start_time": "2024-05-07T14:45:16.915455Z"
    }
   },
   "outputs": [
    {
     "data": {
      "text/plain": [
       "DataFrame[id: int, name: string, lat: double, long: double, dock_count: int, city: string, installation_date: string]"
      ]
     },
     "execution_count": 5,
     "metadata": {},
     "output_type": "execute_result"
    }
   ],
   "execution_count": 5
  },
  {
   "cell_type": "code",
   "source": [
    "print(trips_df.count())\n",
    "print(stations_df.count())\n",
    "\n",
    "print(f'data scheme of the trips_df: { trips_df.printSchema() }')\n",
    "print(f'data scheme of the stations_df: { stations_df.printSchema() }')\n",
    "\n",
    "trips_df.show(5)\n",
    "stations_df.show(5)\n",
    "\n",
    "print(\"count unique 'start_station_name':\", trips_df.select(\"start_station_name\").distinct().count())\n",
    "print(\"count unique 'end_station_name':\", trips_df.select(\"end_station_name\").distinct().count())\n",
    "print(\"count unique 'bike_id':\", trips_df.select(\"bike_id\").distinct().count())"
   ],
   "metadata": {
    "colab": {
     "base_uri": "https://localhost:8080/"
    },
    "id": "M4r00waKoxcT",
    "outputId": "f66bc5df-d2c5-4591-9fbd-57dd335db1de",
    "ExecuteTime": {
     "end_time": "2024-05-07T14:52:17.742694Z",
     "start_time": "2024-05-07T14:52:15.209429Z"
    }
   },
   "outputs": [
    {
     "name": "stdout",
     "output_type": "stream",
     "text": [
      "669959\n",
      "70\n",
      "root\n",
      " |-- id: integer (nullable = true)\n",
      " |-- duration: integer (nullable = true)\n",
      " |-- start_date: string (nullable = true)\n",
      " |-- start_station_name: string (nullable = true)\n",
      " |-- start_station_id: integer (nullable = true)\n",
      " |-- end_date: string (nullable = true)\n",
      " |-- end_station_name: string (nullable = true)\n",
      " |-- end_station_id: integer (nullable = true)\n",
      " |-- bike_id: integer (nullable = true)\n",
      " |-- subscription_type: string (nullable = true)\n",
      " |-- zip_code: string (nullable = true)\n",
      "\n",
      "data scheme of the trips_df: None\n",
      "root\n",
      " |-- id: integer (nullable = true)\n",
      " |-- name: string (nullable = true)\n",
      " |-- lat: double (nullable = true)\n",
      " |-- long: double (nullable = true)\n",
      " |-- dock_count: integer (nullable = true)\n",
      " |-- city: string (nullable = true)\n",
      " |-- installation_date: string (nullable = true)\n",
      "\n",
      "data scheme of the stations_df: None\n",
      "+----+--------+---------------+--------------------+----------------+---------------+--------------------+--------------+-------+-----------------+--------+\n",
      "|  id|duration|     start_date|  start_station_name|start_station_id|       end_date|    end_station_name|end_station_id|bike_id|subscription_type|zip_code|\n",
      "+----+--------+---------------+--------------------+----------------+---------------+--------------------+--------------+-------+-----------------+--------+\n",
      "|4576|      63|           NULL|South Van Ness at...|              66|8/29/2013 14:14|South Van Ness at...|            66|    520|       Subscriber|   94127|\n",
      "|4607|    NULL|8/29/2013 14:42|  San Jose City Hall|              10|8/29/2013 14:43|  San Jose City Hall|            10|    661|       Subscriber|   95138|\n",
      "|4130|      71|8/29/2013 10:16|Mountain View Cit...|              27|8/29/2013 10:17|Mountain View Cit...|            27|     48|       Subscriber|   97214|\n",
      "|4251|      77|8/29/2013 11:29|  San Jose City Hall|              10|8/29/2013 11:30|  San Jose City Hall|            10|     26|       Subscriber|   95060|\n",
      "|4299|      83|8/29/2013 12:02|South Van Ness at...|              66|8/29/2013 12:04|      Market at 10th|            67|    319|       Subscriber|   94103|\n",
      "+----+--------+---------------+--------------------+----------------+---------------+--------------------+--------------+-------+-----------------+--------+\n",
      "only showing top 5 rows\n",
      "\n",
      "+---+--------------------+------------------+-------------------+----------+--------+-----------------+\n",
      "| id|                name|               lat|               long|dock_count|    city|installation_date|\n",
      "+---+--------------------+------------------+-------------------+----------+--------+-----------------+\n",
      "|  2|San Jose Diridon ...|         37.329732|-121.90178200000001|        27|San Jose|         8/6/2013|\n",
      "|  3|San Jose Civic Ce...|         37.330698|        -121.888979|        15|San Jose|         8/5/2013|\n",
      "|  4|Santa Clara at Al...|         37.333988|        -121.894902|        11|San Jose|         8/6/2013|\n",
      "|  5|    Adobe on Almaden|         37.331415|          -121.8932|        19|San Jose|         8/5/2013|\n",
      "|  6|    San Pedro Square|37.336721000000004|        -121.894074|        15|San Jose|         8/7/2013|\n",
      "+---+--------------------+------------------+-------------------+----------+--------+-----------------+\n",
      "only showing top 5 rows\n",
      "\n",
      "count unique 'start_station_name': 74\n",
      "count unique 'end_station_name': 74\n",
      "count unique 'bike_id': 700\n"
     ]
    }
   ],
   "execution_count": 13
  },
  {
   "cell_type": "markdown",
   "source": "Задание 1. Найти велосипед с максимальным временем пробега.",
   "metadata": {
    "id": "P-bkyQMMuftT"
   }
  },
  {
   "cell_type": "code",
   "source": [
    "max_duration_bike = trips_df.groupBy(\"bike_id\").max(\"duration\").orderBy(desc(\"max(duration)\")).limit(1)\n",
    "max_duration_bike.show()"
   ],
   "metadata": {
    "id": "Uj7ngxBnueap",
    "outputId": "d9c9707e-16dd-4c1b-a866-7d9354f514be",
    "colab": {
     "base_uri": "https://localhost:8080/"
    },
    "ExecuteTime": {
     "end_time": "2024-05-07T14:45:55.609717Z",
     "start_time": "2024-05-07T14:45:52.704779Z"
    }
   },
   "outputs": [
    {
     "name": "stderr",
     "output_type": "stream",
     "text": [
      "[Stage 4:>                                                          (0 + 8) / 8]\r"
     ]
    },
    {
     "name": "stdout",
     "output_type": "stream",
     "text": [
      "+-------+-------------+\n",
      "|bike_id|max(duration)|\n",
      "+-------+-------------+\n",
      "|    535|     17270400|\n",
      "+-------+-------------+\n",
      "\n"
     ]
    },
    {
     "name": "stderr",
     "output_type": "stream",
     "text": [
      "                                                                                \r"
     ]
    }
   ],
   "execution_count": 6
  },
  {
   "cell_type": "markdown",
   "source": "Задание 2. Найти наибольшее геодезическое расстояние между станциями.",
   "metadata": {
    "id": "_gsKhgFZuj3N"
   }
  },
  {
   "cell_type": "code",
   "source": [
    "stations_coords = stations_df.select(\"name\", \"lat\", \"long\").collect()\n",
    "\n",
    "# create all possible station combinations\n",
    "station_combinations = combinations(stations_coords, 2)\n",
    "\n",
    "max_distance = 0\n",
    "station_names = None\n",
    "\n",
    "for comb in station_combinations:\n",
    "    station1 = comb[0]\n",
    "    station2 = comb[1]\n",
    "\n",
    "    dist = geodesic((station1.lat, station1.long), (station2.lat, station2.long)).kilometers\n",
    "\n",
    "    if dist > max_distance:\n",
    "        max_distance = dist\n",
    "        station_names = (station1.name, station2.name)\n",
    "\n",
    "print(f'max dist \"{station_names[0]}\" and \"{station_names[1]}\" = {max_distance:.2f} km')"
   ],
   "metadata": {
    "colab": {
     "base_uri": "https://localhost:8080/"
    },
    "id": "3MJjTf76vCcE",
    "outputId": "d51c70ea-bce9-47ba-ec66-4b7b99f64361",
    "ExecuteTime": {
     "end_time": "2024-05-07T14:55:32.167791Z",
     "start_time": "2024-05-07T14:55:31.515342Z"
    }
   },
   "outputs": [
    {
     "name": "stdout",
     "output_type": "stream",
     "text": [
      "max dist \"SJSU - San Salvador at 9th\" and \"Embarcadero at Sansome\" = 69.92 km\n"
     ]
    }
   ],
   "execution_count": 16
  },
  {
   "cell_type": "markdown",
   "source": "Задание 3. Найти путь велосипеда с максимальным временем пробега через станции.",
   "metadata": {
    "id": "2EQG2YwVutQh"
   }
  },
  {
   "cell_type": "code",
   "source": [
    "max_duration_trip = trips_df.orderBy(desc(\"duration\")).first()\n",
    "\n",
    "print(\"start station:\", max_duration_trip.start_station_name)\n",
    "print(\"end station:\", max_duration_trip.end_station_name)\n",
    "print(\"duration (sec):\", max_duration_trip.duration)"
   ],
   "metadata": {
    "colab": {
     "base_uri": "https://localhost:8080/"
    },
    "id": "dSzD98P1vCNO",
    "outputId": "c9013a4f-ec62-4921-e0d5-d8f8749790d3",
    "ExecuteTime": {
     "end_time": "2024-05-07T14:56:30.632278Z",
     "start_time": "2024-05-07T14:56:29.819779Z"
    }
   },
   "outputs": [
    {
     "name": "stderr",
     "output_type": "stream",
     "text": [
      "[Stage 98:==================================================>       (7 + 1) / 8]\r"
     ]
    },
    {
     "name": "stdout",
     "output_type": "stream",
     "text": [
      "start station: South Van Ness at Market\n",
      "end station: 2nd at Folsom\n",
      "duration (sec): 17270400\n"
     ]
    },
    {
     "name": "stderr",
     "output_type": "stream",
     "text": [
      "                                                                                \r"
     ]
    }
   ],
   "execution_count": 17
  },
  {
   "cell_type": "markdown",
   "source": "Задание 4. Найти количество велосипедов в системе.",
   "metadata": {
    "id": "nYMBrawvuzfI"
   }
  },
  {
   "cell_type": "code",
   "source": "print(trips_df.select(\"bike_id\").distinct().count())",
   "metadata": {
    "colab": {
     "base_uri": "https://localhost:8080/"
    },
    "id": "W-cwZ715vBnE",
    "outputId": "e3139bd3-0981-4761-f0b1-b3d890e3a698",
    "ExecuteTime": {
     "end_time": "2024-05-07T14:57:24.136076Z",
     "start_time": "2024-05-07T14:57:23.241621Z"
    }
   },
   "outputs": [
    {
     "name": "stderr",
     "output_type": "stream",
     "text": [
      "[Stage 99:=====================>                                    (3 + 5) / 8]\r"
     ]
    },
    {
     "name": "stdout",
     "output_type": "stream",
     "text": [
      "700\n"
     ]
    },
    {
     "name": "stderr",
     "output_type": "stream",
     "text": [
      "                                                                                \r"
     ]
    }
   ],
   "execution_count": 18
  },
  {
   "cell_type": "markdown",
   "source": "Задание 5. Найти пользователей потративших на поездки более 3 часов.",
   "metadata": {
    "id": "wlRIkAY4vAG3"
   }
  },
  {
   "cell_type": "code",
   "source": [
    "# convert seconds into hours\n",
    "trips_df_with_hours = trips_df.withColumn(\"duration_hours\", col(\"duration\") / 3600)\n",
    "\n",
    "# group by id and summ the trips duration for each user\n",
    "user_total_time = trips_df_with_hours.groupBy(\"bike_id\").agg(sum(\"duration_hours\").alias(\"total_time\"))\n",
    "\n",
    "# get ones, which lasted longer than 3 hours\n",
    "long_trips = user_total_time.filter(col(\"total_time\") > 3)\n",
    "\n",
    "long_trips.show()"
   ],
   "metadata": {
    "colab": {
     "base_uri": "https://localhost:8080/"
    },
    "id": "-Kpfy1bou9PR",
    "outputId": "a0edf718-1868-4d5c-aa64-656e69027796",
    "ExecuteTime": {
     "end_time": "2024-05-07T15:01:25.249939Z",
     "start_time": "2024-05-07T15:01:24.438193Z"
    }
   },
   "outputs": [
    {
     "name": "stdout",
     "output_type": "stream",
     "text": [
      "+-------+------------------+\n",
      "|bike_id|        total_time|\n",
      "+-------+------------------+\n",
      "|    471|477.45305555555564|\n",
      "|    496| 466.5466666666667|\n",
      "|    148| 92.26055555555556|\n",
      "|    463|478.55444444444447|\n",
      "|    540|486.89861111111117|\n",
      "|    392|497.07666666666677|\n",
      "|    623| 565.8941666666667|\n",
      "|    243| 85.40499999999999|\n",
      "|    516| 526.8752777777777|\n",
      "|     31|113.30749999999999|\n",
      "|    580| 287.3283333333334|\n",
      "|    137| 424.7777777777777|\n",
      "|    251| 356.3833333333334|\n",
      "|    451|470.99277777777786|\n",
      "|     85| 337.4358333333334|\n",
      "|    458|457.52222222222235|\n",
      "|     65| 60.25611111111111|\n",
      "|    588|  74.0041666666667|\n",
      "|    255|110.10972222222222|\n",
      "|     53|62.885833333333345|\n",
      "+-------+------------------+\n",
      "only showing top 20 rows\n",
      "\n"
     ]
    }
   ],
   "execution_count": 19
  },
  {
   "cell_type": "code",
   "source": [
    "conf.stop()"
   ],
   "metadata": {
    "id": "axaR8VSbyIk8"
   },
   "execution_count": 13,
   "outputs": []
  }
 ]
}
