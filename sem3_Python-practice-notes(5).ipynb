{
 "cells": [
  {
   "cell_type": "code",
   "execution_count": 1,
   "source": [
    "def searchBin(lst, start, stop, val):\r\n",
    "    if start <= stop:        \r\n",
    "        mid = (start + stop)//2\r\n",
    "        if (val == lst[mid]):\r\n",
    "            return mid        \r\n",
    "        elif val > lst[mid]:\r\n",
    "            return searchBin(lst, mid+1, stop, val)\r\n",
    "        elif val < lst[mid]:\r\n",
    "            return searchBin(lst, start, mid-1, val)        \r\n",
    "\r\n",
    "    return None"
   ],
   "outputs": [],
   "metadata": {}
  },
  {
   "cell_type": "code",
   "execution_count": 2,
   "source": [
    "lst = [-1, 0, 3, 5, 7, 8, 10]\r\n",
    "val = 3\r\n",
    "\r\n",
    "print(searchBin(lst, 0, len(lst)-1, val))"
   ],
   "outputs": [
    {
     "output_type": "stream",
     "name": "stdout",
     "text": [
      "2\n"
     ]
    }
   ],
   "metadata": {}
  },
  {
   "cell_type": "code",
   "execution_count": 3,
   "source": [
    "def factiorial(num): \r\n",
    "    return num*fib(num-1) if num > 1 else 1"
   ],
   "outputs": [],
   "metadata": {}
  },
  {
   "cell_type": "code",
   "execution_count": 4,
   "source": [
    "def fib(num):\r\n",
    "#     not effective since there are two recursive callouts\r\n",
    "    return num if num < 2 else fib(num-1)+fib(num-2)"
   ],
   "outputs": [],
   "metadata": {}
  },
  {
   "cell_type": "code",
   "execution_count": 5,
   "source": [
    "def fib(n2, n1, num):\r\n",
    "    if num > 2:\r\n",
    "        return fib(n1, n1+n2, num-1)\r\n",
    "    else:\r\n",
    "        return n1+n2"
   ],
   "outputs": [],
   "metadata": {}
  },
  {
   "cell_type": "code",
   "execution_count": 6,
   "source": [
    "print(fib(0,1,10))"
   ],
   "outputs": [
    {
     "output_type": "stream",
     "name": "stdout",
     "text": [
      "55\n"
     ]
    }
   ],
   "metadata": {}
  },
  {
   "cell_type": "code",
   "execution_count": 7,
   "source": [
    "def replace(d):\r\n",
    "    for i in d:\r\n",
    "        if len(i)%2 == 0:\r\n",
    "            d[i] = d[i]**2        "
   ],
   "outputs": [],
   "metadata": {}
  },
  {
   "cell_type": "code",
   "execution_count": 8,
   "source": [
    "keys = ['a', 'bb', 'ccc', 'dddd']\r\n",
    "values = [1, 2, 3, 4]\r\n",
    "\r\n",
    "dictionary  = dict(zip(keys, values))\r\n",
    "replace(dictionary)\r\n",
    "print(dictionary)"
   ],
   "outputs": [
    {
     "output_type": "stream",
     "name": "stdout",
     "text": [
      "{'a': 1, 'bb': 4, 'ccc': 3, 'dddd': 16}\n"
     ]
    }
   ],
   "metadata": {}
  }
 ],
 "metadata": {
  "interpreter": {
   "hash": "f2d18c173e5ba5ab8ac6375975de63329d859dc163a077b683cc8c05d4d0149b"
  },
  "kernelspec": {
   "name": "python3",
   "display_name": "Python 3.9.7 64-bit (windows store)"
  },
  "language_info": {
   "codemirror_mode": {
    "name": "ipython",
    "version": 3
   },
   "file_extension": ".py",
   "mimetype": "text/x-python",
   "name": "python",
   "nbconvert_exporter": "python",
   "pygments_lexer": "ipython3",
   "version": "3.9.7"
  }
 },
 "nbformat": 4,
 "nbformat_minor": 2
}