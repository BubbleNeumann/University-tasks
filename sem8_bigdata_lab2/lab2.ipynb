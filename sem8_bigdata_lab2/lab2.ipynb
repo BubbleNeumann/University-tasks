{
 "nbformat": 4,
 "nbformat_minor": 0,
 "metadata": {
  "colab": {
   "provenance": [],
   "include_colab_link": true
  },
  "kernelspec": {
   "name": "python3",
   "display_name": "Python 3 (ipykernel)",
   "language": "python"
  },
  "language_info": {
   "name": "python"
  }
 },
 "cells": [
  {
   "cell_type": "code",
   "source": [
    "import findspark\n",
    "findspark.init()"
   ],
   "metadata": {
    "id": "TdhUsSjvLZ5Q",
    "ExecuteTime": {
     "end_time": "2024-05-10T16:04:53.920227Z",
     "start_time": "2024-05-10T16:04:53.737771Z"
    }
   },
   "outputs": [],
   "execution_count": 1
  },
  {
   "cell_type": "code",
   "metadata": {
    "id": "rYCR_a6PUUL0",
    "ExecuteTime": {
     "end_time": "2024-05-10T16:04:54.195387Z",
     "start_time": "2024-05-10T16:04:53.922739Z"
    }
   },
   "source": [
    "from pyspark.sql import SparkSession\n",
    "from pyspark.sql.functions import col\n",
    "import pandas as pd\n",
    "import warnings\n",
    "\n",
    "warnings.filterwarnings(\"ignore\")"
   ],
   "outputs": [],
   "execution_count": 2
  },
  {
   "cell_type": "code",
   "source": "spark = SparkSession.builder.appName(\"lab2\").config(\"spark.jars.packages\", \"com.databricks:spark-xml_2.12:0.13.0\").getOrCreate()",
   "metadata": {
    "id": "aI368Q--NHNd",
    "ExecuteTime": {
     "end_time": "2024-05-10T16:04:59.511192Z",
     "start_time": "2024-05-10T16:04:54.197561Z"
    }
   },
   "outputs": [
    {
     "name": "stderr",
     "output_type": "stream",
     "text": [
      "24/05/10 20:04:56 WARN Utils: Your hostname, rust resolves to a loopback address: 127.0.1.1; using 172.17.0.1 instead (on interface docker0)\n",
      "24/05/10 20:04:56 WARN Utils: Set SPARK_LOCAL_IP if you need to bind to another address\n"
     ]
    },
    {
     "name": "stdout",
     "output_type": "stream",
     "text": [
      ":: loading settings :: url = jar:file:/home/r_usttt/.local/lib/python3.10/site-packages/pyspark/jars/ivy-2.5.1.jar!/org/apache/ivy/core/settings/ivysettings.xml\n"
     ]
    },
    {
     "name": "stderr",
     "output_type": "stream",
     "text": [
      "Ivy Default Cache set to: /home/r_usttt/.ivy2/cache\n",
      "The jars for the packages stored in: /home/r_usttt/.ivy2/jars\n",
      "com.databricks#spark-xml_2.12 added as a dependency\n",
      ":: resolving dependencies :: org.apache.spark#spark-submit-parent-1b1835ac-bc91-4b7f-b064-2c01f7a00405;1.0\n",
      "\tconfs: [default]\n",
      "\tfound com.databricks#spark-xml_2.12;0.13.0 in central\n",
      "\tfound commons-io#commons-io;2.8.0 in central\n",
      "\tfound org.glassfish.jaxb#txw2;2.3.4 in central\n",
      "\tfound org.apache.ws.xmlschema#xmlschema-core;2.2.5 in central\n",
      ":: resolution report :: resolve 300ms :: artifacts dl 12ms\n",
      "\t:: modules in use:\n",
      "\tcom.databricks#spark-xml_2.12;0.13.0 from central in [default]\n",
      "\tcommons-io#commons-io;2.8.0 from central in [default]\n",
      "\torg.apache.ws.xmlschema#xmlschema-core;2.2.5 from central in [default]\n",
      "\torg.glassfish.jaxb#txw2;2.3.4 from central in [default]\n",
      "\t---------------------------------------------------------------------\n",
      "\t|                  |            modules            ||   artifacts   |\n",
      "\t|       conf       | number| search|dwnlded|evicted|| number|dwnlded|\n",
      "\t---------------------------------------------------------------------\n",
      "\t|      default     |   4   |   0   |   0   |   0   ||   4   |   0   |\n",
      "\t---------------------------------------------------------------------\n",
      ":: retrieving :: org.apache.spark#spark-submit-parent-1b1835ac-bc91-4b7f-b064-2c01f7a00405\n",
      "\tconfs: [default]\n",
      "\t0 artifacts copied, 4 already retrieved (0kB/15ms)\n",
      "24/05/10 20:04:57 WARN NativeCodeLoader: Unable to load native-hadoop library for your platform... using builtin-java classes where applicable\n",
      "Setting default log level to \"WARN\".\n",
      "To adjust logging level use sc.setLogLevel(newLevel). For SparkR, use setLogLevel(newLevel).\n"
     ]
    }
   ],
   "execution_count": 3
  },
  {
   "cell_type": "code",
   "source": [
    "posts_data = (spark.read.format(\"com.databricks.spark.xml\")\n",
    "    .options(rowTag='row')\n",
    "    .load('posts_sample.xml'))\n",
    "\n",
    "programming_languages_data = spark.read \\\n",
    "    .option(\"header\", True) \\\n",
    "    .option(\"inferSchema\", True) \\\n",
    "    .csv('programming-languages.csv')"
   ],
   "metadata": {
    "id": "-mVsCnuv4ru4",
    "ExecuteTime": {
     "end_time": "2024-05-10T16:05:12.477297Z",
     "start_time": "2024-05-10T16:04:59.515912Z"
    }
   },
   "outputs": [
    {
     "name": "stderr",
     "output_type": "stream",
     "text": [
      "                                                                                \r"
     ]
    }
   ],
   "execution_count": 4
  },
  {
   "cell_type": "code",
   "source": [
    "csv_list = programming_languages_data.selectExpr(\"name\").rdd.flatMap(lambda x: x).collect()"
   ],
   "metadata": {
    "id": "Z64rUH0z8TOR",
    "ExecuteTime": {
     "end_time": "2024-05-10T16:05:13.690950Z",
     "start_time": "2024-05-10T16:05:12.479089Z"
    }
   },
   "outputs": [
    {
     "name": "stderr",
     "output_type": "stream",
     "text": [
      "                                                                                \r"
     ]
    }
   ],
   "execution_count": 5
  },
  {
   "cell_type": "code",
   "source": [
    "min_year = int(posts_data.selectExpr('min(substring(_CreationDate, 0, 4))').first()[0])\n",
    "max_year = int(posts_data.selectExpr('max(substring(_CreationDate, 0, 4))').first()[0])\n",
    "\n",
    "print(min_year)\n",
    "print(max_year)"
   ],
   "metadata": {
    "id": "EWZhi7O_4xDr",
    "colab": {
     "base_uri": "https://localhost:8080/"
    },
    "outputId": "0bc3018a-be31-4fcf-a131-6d8bf5529c8b",
    "ExecuteTime": {
     "end_time": "2024-05-10T16:05:20.425761Z",
     "start_time": "2024-05-10T16:05:13.692534Z"
    }
   },
   "outputs": [
    {
     "name": "stderr",
     "output_type": "stream",
     "text": [
      "[Stage 7:===================>                                       (1 + 2) / 3]\r"
     ]
    },
    {
     "name": "stdout",
     "output_type": "stream",
     "text": [
      "2008\n",
      "2019\n"
     ]
    },
    {
     "name": "stderr",
     "output_type": "stream",
     "text": [
      "                                                                                \r"
     ]
    }
   ],
   "execution_count": 6
  },
  {
   "metadata": {
    "ExecuteTime": {
     "end_time": "2024-05-10T16:05:20.433874Z",
     "start_time": "2024-05-10T16:05:20.428025Z"
    }
   },
   "cell_type": "code",
   "source": [
    "def prep_lang(x, csv_list):\n",
    "    language = next((language for language in csv_list if f\"<{language.lower()}>\" in x._Tags.lower()), None)\n",
    "    return (x._Id, language) if language else None"
   ],
   "outputs": [],
   "execution_count": 7
  },
  {
   "cell_type": "code",
   "source": [
    "result = {}\n",
    "\n",
    "for year in range(min_year, max_year + 1):\n",
    "\n",
    "    # filter by year\n",
    "    filtered_data = posts_data.filter((col('_Tags').isNotNull()) & (col('_CreationDate').substr(0, 4) == str(year)))\n",
    "\n",
    "    # filter None values\n",
    "    mapped_data = filtered_data.rdd.map(lambda x: prep_lang(x, csv_list)).filter(lambda x: x is not None)\n",
    "\n",
    "    aggregated_data = mapped_data \\\n",
    "        .map(lambda x: (x[1], 1)) \\\n",
    "        .reduceByKey(lambda x, y: x + y) \\\n",
    "        .map(lambda x: (x[0], int(x[1])))\n",
    "\n",
    "    # convert RDD into DataFrame\n",
    "    sorted_data = spark.createDataFrame(aggregated_data, ['Language', f'{year}_year']) \\\n",
    "        .orderBy(col(f'{year}_year').desc()) \\\n",
    "        .limit(10)\n",
    "\n",
    "    result[year] = sorted_data\n",
    "    result[year].show()\n",
    "\n",
    "    sorted_data.write.parquet(f'top_pl_{year}.parquet')"
   ],
   "metadata": {
    "id": "VzaXPwCxoq5Q",
    "colab": {
     "base_uri": "https://localhost:8080/"
    },
    "outputId": "696b6020-b194-4e77-b12d-9daf1cbbd7d2",
    "ExecuteTime": {
     "end_time": "2024-05-10T16:06:37.213351Z",
     "start_time": "2024-05-10T16:05:20.436638Z"
    }
   },
   "outputs": [
    {
     "name": "stderr",
     "output_type": "stream",
     "text": [
      "                                                                                \r"
     ]
    },
    {
     "name": "stdout",
     "output_type": "stream",
     "text": [
      "+----------+---------+\n",
      "|  Language|2008_year|\n",
      "+----------+---------+\n",
      "|      Java|        4|\n",
      "|      Ruby|        3|\n",
      "|JavaScript|        2|\n",
      "|         C|        2|\n",
      "|        Io|        1|\n",
      "|    Groovy|        1|\n",
      "|       PHP|        1|\n",
      "|    Python|        1|\n",
      "|       X++|        1|\n",
      "+----------+---------+\n",
      "\n"
     ]
    },
    {
     "name": "stderr",
     "output_type": "stream",
     "text": [
      "                                                                                \r"
     ]
    },
    {
     "name": "stdout",
     "output_type": "stream",
     "text": [
      "+-----------+---------+\n",
      "|   Language|2009_year|\n",
      "+-----------+---------+\n",
      "|       Java|       28|\n",
      "|        PHP|       22|\n",
      "|     Python|       22|\n",
      "| JavaScript|       12|\n",
      "|       Ruby|        7|\n",
      "|     Delphi|        7|\n",
      "|          C|        6|\n",
      "|Objective-C|        5|\n",
      "|    Haskell|        4|\n",
      "|       Bash|        3|\n",
      "+-----------+---------+\n",
      "\n"
     ]
    },
    {
     "name": "stderr",
     "output_type": "stream",
     "text": [
      "                                                                                \r"
     ]
    },
    {
     "name": "stdout",
     "output_type": "stream",
     "text": [
      "+-----------+---------+\n",
      "|   Language|2010_year|\n",
      "+-----------+---------+\n",
      "|       Java|       52|\n",
      "| JavaScript|       44|\n",
      "|        PHP|       42|\n",
      "|     Python|       25|\n",
      "|Objective-C|       23|\n",
      "|          C|       20|\n",
      "|       Ruby|       11|\n",
      "|     Delphi|        7|\n",
      "|AppleScript|        3|\n",
      "|          R|        3|\n",
      "+-----------+---------+\n",
      "\n"
     ]
    },
    {
     "name": "stderr",
     "output_type": "stream",
     "text": [
      "                                                                                \r"
     ]
    },
    {
     "name": "stdout",
     "output_type": "stream",
     "text": [
      "+-----------+---------+\n",
      "|   Language|2011_year|\n",
      "+-----------+---------+\n",
      "|        PHP|       97|\n",
      "|       Java|       92|\n",
      "| JavaScript|       82|\n",
      "|     Python|       35|\n",
      "|Objective-C|       33|\n",
      "|          C|       24|\n",
      "|       Ruby|       17|\n",
      "|     Delphi|        8|\n",
      "|       Perl|        8|\n",
      "|       Bash|        7|\n",
      "+-----------+---------+\n",
      "\n"
     ]
    },
    {
     "name": "stderr",
     "output_type": "stream",
     "text": [
      "                                                                                \r"
     ]
    },
    {
     "name": "stdout",
     "output_type": "stream",
     "text": [
      "+-----------+---------+\n",
      "|   Language|2012_year|\n",
      "+-----------+---------+\n",
      "|        PHP|      136|\n",
      "| JavaScript|      129|\n",
      "|       Java|      124|\n",
      "|     Python|       65|\n",
      "|Objective-C|       45|\n",
      "|          C|       27|\n",
      "|       Ruby|       25|\n",
      "|       Bash|        9|\n",
      "|          R|        9|\n",
      "|     MATLAB|        6|\n",
      "+-----------+---------+\n",
      "\n"
     ]
    },
    {
     "name": "stderr",
     "output_type": "stream",
     "text": [
      "                                                                                \r"
     ]
    },
    {
     "name": "stdout",
     "output_type": "stream",
     "text": [
      "+-----------+---------+\n",
      "|   Language|2013_year|\n",
      "+-----------+---------+\n",
      "| JavaScript|      196|\n",
      "|       Java|      191|\n",
      "|        PHP|      173|\n",
      "|     Python|       87|\n",
      "|Objective-C|       40|\n",
      "|          C|       36|\n",
      "|       Ruby|       30|\n",
      "|          R|       25|\n",
      "|       Bash|       11|\n",
      "|      Scala|       10|\n",
      "+-----------+---------+\n",
      "\n"
     ]
    },
    {
     "name": "stderr",
     "output_type": "stream",
     "text": [
      "                                                                                \r"
     ]
    },
    {
     "name": "stdout",
     "output_type": "stream",
     "text": [
      "+-----------+---------+\n",
      "|   Language|2014_year|\n",
      "+-----------+---------+\n",
      "| JavaScript|      235|\n",
      "|       Java|      228|\n",
      "|        PHP|      154|\n",
      "|     Python|      103|\n",
      "|          C|       52|\n",
      "|Objective-C|       49|\n",
      "|          R|       28|\n",
      "|       Ruby|       20|\n",
      "|     MATLAB|       16|\n",
      "|       Bash|       13|\n",
      "+-----------+---------+\n",
      "\n"
     ]
    },
    {
     "name": "stderr",
     "output_type": "stream",
     "text": [
      "                                                                                \r"
     ]
    },
    {
     "name": "stdout",
     "output_type": "stream",
     "text": [
      "+-----------+---------+\n",
      "|   Language|2015_year|\n",
      "+-----------+---------+\n",
      "| JavaScript|      270|\n",
      "|       Java|      208|\n",
      "|        PHP|      147|\n",
      "|     Python|      119|\n",
      "|          R|       43|\n",
      "|          C|       38|\n",
      "|Objective-C|       30|\n",
      "|       Ruby|       21|\n",
      "|     MATLAB|       16|\n",
      "|      Scala|       13|\n",
      "+-----------+---------+\n",
      "\n"
     ]
    },
    {
     "name": "stderr",
     "output_type": "stream",
     "text": [
      "                                                                                \r"
     ]
    },
    {
     "name": "stdout",
     "output_type": "stream",
     "text": [
      "+----------+---------+\n",
      "|  Language|2016_year|\n",
      "+----------+---------+\n",
      "|JavaScript|      272|\n",
      "|      Java|      179|\n",
      "|    Python|      141|\n",
      "|       PHP|      126|\n",
      "|         R|       50|\n",
      "|         C|       32|\n",
      "|      Ruby|       21|\n",
      "|      Bash|       16|\n",
      "|     Scala|       16|\n",
      "|    MATLAB|       15|\n",
      "+----------+---------+\n",
      "\n"
     ]
    },
    {
     "name": "stderr",
     "output_type": "stream",
     "text": [
      "                                                                                \r"
     ]
    },
    {
     "name": "stdout",
     "output_type": "stream",
     "text": [
      "+-----------+---------+\n",
      "|   Language|2017_year|\n",
      "+-----------+---------+\n",
      "| JavaScript|      244|\n",
      "|       Java|      204|\n",
      "|     Python|      185|\n",
      "|        PHP|      122|\n",
      "|          R|       53|\n",
      "|          C|       24|\n",
      "|Objective-C|       19|\n",
      "|       Ruby|       16|\n",
      "| PowerShell|       14|\n",
      "| TypeScript|       14|\n",
      "+-----------+---------+\n",
      "\n"
     ]
    },
    {
     "name": "stderr",
     "output_type": "stream",
     "text": [
      "                                                                                \r"
     ]
    },
    {
     "name": "stdout",
     "output_type": "stream",
     "text": [
      "+----------+---------+\n",
      "|  Language|2018_year|\n",
      "+----------+---------+\n",
      "|    Python|      214|\n",
      "|JavaScript|      196|\n",
      "|      Java|      145|\n",
      "|       PHP|       99|\n",
      "|         R|       63|\n",
      "|         C|       24|\n",
      "|     Scala|       22|\n",
      "|TypeScript|       21|\n",
      "|PowerShell|       13|\n",
      "|      Bash|       12|\n",
      "+----------+---------+\n",
      "\n"
     ]
    },
    {
     "name": "stderr",
     "output_type": "stream",
     "text": [
      "                                                                                \r"
     ]
    },
    {
     "name": "stdout",
     "output_type": "stream",
     "text": [
      "+----------+---------+\n",
      "|  Language|2019_year|\n",
      "+----------+---------+\n",
      "|    Python|      162|\n",
      "|JavaScript|      131|\n",
      "|      Java|       95|\n",
      "|       PHP|       59|\n",
      "|         R|       36|\n",
      "|         C|       14|\n",
      "|    MATLAB|        9|\n",
      "|      Dart|        9|\n",
      "|    Kotlin|        9|\n",
      "|        Go|        9|\n",
      "+----------+---------+\n",
      "\n"
     ]
    }
   ],
   "execution_count": 8
  },
  {
   "cell_type": "code",
   "source": [
    "spark.stop()"
   ],
   "metadata": {
    "id": "0wsOTP9s5fG9",
    "ExecuteTime": {
     "end_time": "2024-05-10T16:06:38.204601Z",
     "start_time": "2024-05-10T16:06:37.215687Z"
    }
   },
   "outputs": [],
   "execution_count": 9
  },
  {
   "cell_type": "code",
   "source": "print(pd.read_parquet('top_pl_2019.parquet'))",
   "metadata": {
    "id": "0amv7tvi9D5p",
    "colab": {
     "base_uri": "https://localhost:8080/"
    },
    "outputId": "d187c2da-e66f-4be1-83a4-69b39bcb5eeb",
    "ExecuteTime": {
     "end_time": "2024-05-10T16:06:38.283665Z",
     "start_time": "2024-05-10T16:06:38.208139Z"
    }
   },
   "outputs": [
    {
     "name": "stdout",
     "output_type": "stream",
     "text": [
      "     Language  2019_year\n",
      "0      Python        162\n",
      "1  JavaScript        131\n",
      "2        Java         95\n",
      "3         PHP         59\n",
      "4           R         36\n",
      "5           C         14\n",
      "6          Go          9\n",
      "7      MATLAB          9\n",
      "8      Kotlin          9\n",
      "9        Dart          9\n"
     ]
    }
   ],
   "execution_count": 10
  }
 ]
}
