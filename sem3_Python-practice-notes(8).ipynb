{
 "cells": [
  {
   "cell_type": "code",
   "execution_count": 1,
   "metadata": {},
   "outputs": [],
   "source": [
    "import numpy as np"
   ]
  },
  {
   "cell_type": "code",
   "execution_count": 2,
   "metadata": {},
   "outputs": [
    {
     "name": "stdout",
     "output_type": "stream",
     "text": [
      "[[ 6.74643785e-05  8.40894858e-05  1.04009806e-04 ...  5.32056230e-05\n",
      "   4.21337129e-05  3.29869351e-05]\n",
      " [ 9.23659516e-05  1.15083753e-04  1.42299605e-04 ...  7.69667118e-05\n",
      "   6.08871238e-05  4.76267638e-05]\n",
      " [ 1.25338978e-04  1.56100112e-04  1.92943741e-04 ...  1.10473951e-04\n",
      "   8.73088626e-05  6.82367982e-05]\n",
      " ...\n",
      " [-1.94320810e-05 -2.53441425e-05 -3.23765635e-05 ...  1.39962333e-04\n",
      "   1.08034866e-04  8.26974976e-05]\n",
      " [-1.10754894e-05 -1.44798931e-05 -1.84771798e-05 ...  9.90516073e-05\n",
      "   7.64095568e-05  5.84568860e-05]\n",
      " [-5.86605084e-06 -7.69972102e-06 -9.80656532e-06 ...  6.96027799e-05\n",
      "   5.36584978e-05  4.10278645e-05]]\n"
     ]
    }
   ],
   "source": [
    "size = 100\n",
    "x1 = x2 = np.linspace(-3, 3, size)\n",
    "\n",
    "f = np.zeros((size, size))\n",
    "for i in range(size):\n",
    "    for j in range(size):\n",
    "        f[i][j] = 3*((1-x1[i])**2)*np.exp(-x1[i]**2-(x2[j]+1)**2)-10*(x1[i]/5-x1[i]**3-x2[j]**5)*np.exp(-x1[i]**2-x2[j]**2)-(1/3)*np.exp(-(x1[i]**2+1)-x2[j]**2)\n",
    "\n",
    "print(f)"
   ]
  },
  {
   "cell_type": "code",
   "execution_count": 3,
   "metadata": {},
   "outputs": [
    {
     "name": "stdout",
     "output_type": "stream",
     "text": [
      "[[ 2.66324047  1.43064204 -3.09069657 ...  0.17922843  1.65403938\n",
      "  -3.90899125]\n",
      " [ 0.23504369 -3.81479869 -1.84567623 ... -2.04454442  2.33439762\n",
      "  -1.143906  ]\n",
      " [ 0.26640033  2.40564385 -2.04931299 ... -0.2900186   0.32789581\n",
      "   1.65909321]\n",
      " ...\n",
      " [ 2.88744082  2.27863216  1.42534046 ... -4.20792116 -2.2000679\n",
      "  -1.39398769]\n",
      " [ 1.17615056  1.11458522 -3.42847841 ...  0.84328663  3.0383217\n",
      "  -4.03140582]\n",
      " [ 1.37158853  1.01549673  1.00794935 ...  1.29482523  2.5015321\n",
      "   2.32592943]]\n"
     ]
    }
   ],
   "source": [
    "np.random.seed(10)\n",
    "noize = np.random.normal(0, 2, size**2).reshape((size, size))\n",
    "\n",
    "f += noize\n",
    "print(f)"
   ]
  },
  {
   "cell_type": "code",
   "execution_count": 8,
   "metadata": {},
   "outputs": [
    {
     "data": {
      "text/plain": [
       "(100, 100)"
      ]
     },
     "execution_count": 8,
     "metadata": {},
     "output_type": "execute_result"
    }
   ],
   "source": [
    "f.shape"
   ]
  },
  {
   "cell_type": "code",
   "execution_count": null,
   "metadata": {},
   "outputs": [],
   "source": [
    "inp = np.loadtxt('input (1).txt')\n",
    "corr = np.corrcoef(f, inp)\n",
    "print(corr)"
   ]
  },
  {
   "cell_type": "code",
   "execution_count": 7,
   "metadata": {},
   "outputs": [
    {
     "data": {
      "text/plain": [
       "(200, 200)"
      ]
     },
     "execution_count": 7,
     "metadata": {},
     "output_type": "execute_result"
    }
   ],
   "source": [
    "corr.shape"
   ]
  },
  {
   "cell_type": "code",
   "execution_count": 10,
   "metadata": {},
   "outputs": [
    {
     "name": "stdout",
     "output_type": "stream",
     "text": [
      "10.432107477189827 -10.85021299523942 530.1076471542588 8.016028199822143\n"
     ]
    }
   ],
   "source": [
    "res = f - inp\n",
    "print(res.max(), res.min(), res.sum(), res.var())"
   ]
  },
  {
   "cell_type": "code",
   "execution_count": null,
   "metadata": {},
   "outputs": [],
   "source": [
    "size = 10\n",
    "A = B = C = np.random.uniform(1, 5, size**2).reshape((size, size))\n",
    "\n",
    "print(A*B-C)"
   ]
  }
 ],
 "metadata": {
  "interpreter": {
   "hash": "f2d18c173e5ba5ab8ac6375975de63329d859dc163a077b683cc8c05d4d0149b"
  },
  "kernelspec": {
   "display_name": "Python 3.9.7 64-bit (windows store)",
   "name": "python3"
  },
  "language_info": {
   "codemirror_mode": {
    "name": "ipython",
    "version": 3
   },
   "file_extension": ".py",
   "mimetype": "text/x-python",
   "name": "python",
   "nbconvert_exporter": "python",
   "pygments_lexer": "ipython3",
   "version": "3.9.7"
  },
  "orig_nbformat": 4
 },
 "nbformat": 4,
 "nbformat_minor": 2
}
