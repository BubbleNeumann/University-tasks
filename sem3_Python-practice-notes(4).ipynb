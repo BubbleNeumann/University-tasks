{
 "cells": [
  {
   "cell_type": "code",
   "execution_count": 1,
   "source": [
    "matr = [[1,2,3,4], [5,6,7,8], [9,10,11,12], [13,14,15,16]]\r\n",
    "n = len(matr)\r\n",
    "a=0\r\n",
    "for i in range (n-1):\r\n",
    "    #k=n-i-1\r\n",
    "    for j in range(n-i-1):\r\n",
    "        a+=matr[i][j]\r\n",
    "print(a)"
   ],
   "outputs": [
    {
     "output_type": "stream",
     "name": "stdout",
     "text": [
      "26\n"
     ]
    }
   ],
   "metadata": {}
  },
  {
   "cell_type": "code",
   "execution_count": 2,
   "source": [
    "s = 0\r\n",
    "for i in range (n-1):\r\n",
    "    #for j in range(n-i-1):\r\n",
    "      #  sum+=matr[i][j]\r\n",
    "        s += sum(matr[i][:n-i-1])\r\n",
    "print(s)"
   ],
   "outputs": [
    {
     "output_type": "stream",
     "name": "stdout",
     "text": [
      "26\n"
     ]
    }
   ],
   "metadata": {}
  },
  {
   "cell_type": "code",
   "execution_count": 3,
   "source": [
    "s = 0\r\n",
    "for j in range (len(matr)//2+1, len(matr)):\r\n",
    "    for i in range (len(matr)-j, j):\r\n",
    "        s+=matr[i][j]\r\n",
    "print(s)"
   ],
   "outputs": [
    {
     "output_type": "stream",
     "name": "stdout",
     "text": [
      "20\n"
     ]
    }
   ],
   "metadata": {}
  },
  {
   "cell_type": "code",
   "execution_count": 4,
   "source": [
    "l = ['воздух','вода','самоедлинноеслово','огонь','земля', 's']\r\n",
    "l.sort(key=len)\r\n",
    "n = len(l[len(l)-1])\r\n",
    "el = [i.ljust(n,'a') for i in l]\r\n",
    "#for i in l:\r\n",
    "   # print(i.ljust(n,'a'))\r\n",
    "print(el)   "
   ],
   "outputs": [
    {
     "output_type": "stream",
     "name": "stdout",
     "text": [
      "['saaaaaaaaaaaaaaaa', 'водаaaaaaaaaaaaaa', 'огоньaaaaaaaaaaaa', 'земляaaaaaaaaaaaa', 'воздухaaaaaaaaaaa', 'самоедлинноеслово']\n"
     ]
    }
   ],
   "metadata": {}
  }
 ],
 "metadata": {
  "kernelspec": {
   "name": "python3",
   "display_name": "Python 3.9.7 64-bit (windows store)"
  },
  "language_info": {
   "codemirror_mode": {
    "name": "ipython",
    "version": 3
   },
   "file_extension": ".py",
   "mimetype": "text/x-python",
   "name": "python",
   "nbconvert_exporter": "python",
   "pygments_lexer": "ipython3",
   "version": "3.9.7"
  },
  "interpreter": {
   "hash": "f2d18c173e5ba5ab8ac6375975de63329d859dc163a077b683cc8c05d4d0149b"
  }
 },
 "nbformat": 4,
 "nbformat_minor": 5
}