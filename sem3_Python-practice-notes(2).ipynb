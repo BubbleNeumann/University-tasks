{
 "cells": [
  {
   "cell_type": "code",
   "execution_count": 8,
   "source": [
    "print(0.1 + 0.2 == 0.3)\r\n",
    "print(0.2 + 0.2 == 0.4)"
   ],
   "outputs": [
    {
     "output_type": "stream",
     "name": "stdout",
     "text": [
      "False\n",
      "True\n"
     ]
    }
   ],
   "metadata": {}
  },
  {
   "cell_type": "code",
   "execution_count": 24,
   "source": [
    "# all( <collecton> )\r\n",
    "# any( <collection> )\r\n",
    "\r\n",
    "x= 3\r\n",
    "1 < x < 3"
   ],
   "outputs": [
    {
     "output_type": "execute_result",
     "data": {
      "text/plain": [
       "False"
      ]
     },
     "metadata": {},
     "execution_count": 24
    }
   ],
   "metadata": {}
  },
  {
   "cell_type": "code",
   "execution_count": 25,
   "source": [
    "print(chr(90))\r\n",
    "print(ord('Z'))\r\n",
    "\r\n",
    "# hash()\r\n",
    "# id(...)\r\n",
    "# len()\r\n",
    "print(round(1/3))\r\n",
    "print(round(1/3, 2))"
   ],
   "outputs": [
    {
     "output_type": "stream",
     "name": "stdout",
     "text": [
      "Z\n",
      "90\n",
      "0\n",
      "0.33\n"
     ]
    }
   ],
   "metadata": {}
  },
  {
   "cell_type": "code",
   "execution_count": null,
   "source": [
    "male_f = [\"Иванов\", \"Петров\"]\r\n",
    "female_f = [\"Попова\", \"Еремина\"]\r\n",
    "neuter_f = [\"Черных\", \"Городейко\"]\r\n",
    "male_n = [\"Ваня\", \"Дима\"]\r\n",
    "female_n = [\"Катя\", \"Люба\"]\r\n",
    "neuter_n = [\"Женя\", \"Саша\"]\r\n",
    "\r\n",
    "\r\n",
    "for fam in male_f+neuter_f:\r\n",
    "    for name in male_n+neuter_n:\r\n",
    "        print(fam+\" \" +name)\r\n",
    "\r\n",
    "for fam in female_f+neuter_f:\r\n",
    "    for name in female_n+neuter_n:\r\n",
    "        if not(name in neuter_n) and not(fam in neuter_n):\r\n",
    "            print(fam+ \" \" +name)"
   ],
   "outputs": [],
   "metadata": {}
  },
  {
   "cell_type": "code",
   "execution_count": null,
   "source": [
    "# HOMEWORK\r\n",
    "\r\n",
    "for fam in male_f+female_f+neuter_f:\r\n",
    "    for name in male_n+female_n+neuter_n:\r\n",
    "        if ((fam in male_f or fam in neuter_f)and(name in male_n or name in neuter_n))or((fam in female_f or fam in neuter_f)and(name in female_n or name in neuter_n)and not(fam in neuter_f and name in neuter_n)):\r\n",
    "                print(fam, name)"
   ],
   "outputs": [],
   "metadata": {}
  },
  {
   "cell_type": "code",
   "execution_count": 7,
   "source": [
    "n, m, x = 10, 4, 41;\r\n",
    "\r\n",
    "p = (x-1)//(m*n)+1\r\n",
    "print(p)\r\n",
    "\r\n",
    "e = ((x-1)%(m*n))//m +1\r\n",
    "print(e)"
   ],
   "outputs": [
    {
     "output_type": "stream",
     "name": "stdout",
     "text": [
      "2\n",
      "1\n"
     ]
    }
   ],
   "metadata": {}
  }
 ],
 "metadata": {
  "orig_nbformat": 4,
  "language_info": {
   "name": "python",
   "version": "3.9.7",
   "mimetype": "text/x-python",
   "codemirror_mode": {
    "name": "ipython",
    "version": 3
   },
   "pygments_lexer": "ipython3",
   "nbconvert_exporter": "python",
   "file_extension": ".py"
  },
  "kernelspec": {
   "name": "python3",
   "display_name": "Python 3.9.7 64-bit (windows store)"
  },
  "interpreter": {
   "hash": "f2d18c173e5ba5ab8ac6375975de63329d859dc163a077b683cc8c05d4d0149b"
  }
 },
 "nbformat": 4,
 "nbformat_minor": 2
}