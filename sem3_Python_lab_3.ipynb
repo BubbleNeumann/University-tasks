{
 "cells": [
  {
   "cell_type": "markdown",
   "metadata": {},
   "source": [
    "# Лабораторная работа №3\n",
    "\n",
    "В рамках данной лабораторной работы вы проведете разведочный анализ данных.\n",
    "\n",
    "**Требования:**\n",
    "* Python >= 3.X\n",
    "* Библиотеки `pandas`, `matplotlib`.\n",
    "\n",
    "**Входные данные:**\n",
    "* Файл sales.csv, в котором содержится информация о видеоиграх и их продажах. Каждая игра описана следующими признаками:\n",
    "    1. `Rank` - рейтинг игры.    \n",
    "    2. `Name` - название игры.    \n",
    "    3. `Platform` - платформа (т.е. PC, PS4, и т.д.).    \n",
    "    4. `Year` - год выпуска игры.    \n",
    "    5. `Genre` - жанр игры.    \n",
    "    6. `Publisher` - Publisher of the game.    \n",
    "    7. `NA_Sales` - объем продаж в северной Америке (млн).    \n",
    "    8. `EU_Sales` - объем продаж в Европе (млн).    \n",
    "    9. `JP_Sales` - объем продаж в Японии (млн).    \n",
    "    10. `Other_Sales` - объем продаж в остальном мире (млн).    \n",
    "    11. `Global_Sales` - суммарные продажи в мире (млн).\n",
    "\n",
    "Лабораторную работу необходимо выполнять в данном шаблоне. Результатом работы будет являться файл (с измененным именем), который необходимо выложить в Moodle.\n",
    "\n",
    "**Важно!!!** Имя файлу задавайте по следующему шаблону **lab_2.1_Группа_ФамилияИО.ipynb**. Например: если Вас зовут Иванов Иван Иванович, и Вы обучаетесь в группе 6207_010302D, то имя файла будет выглядеть так **lab_2.1_6207_ИвановИИ.ipynb**."
   ]
  },
  {
   "cell_type": "markdown",
   "metadata": {},
   "source": [
    "#### Сделайте необходимые импорты:"
   ]
  },
  {
   "cell_type": "code",
   "execution_count": 1,
   "metadata": {},
   "outputs": [
    {
     "name": "stdout",
     "output_type": "stream",
     "text": [
      "Defaulting to user installation because normal site-packages is not writeable\n",
      "Requirement already satisfied: matplotlib in /home/bubble/.local/lib/python3.9/site-packages (3.5.0)\n",
      "Requirement already satisfied: packaging>=20.0 in /usr/lib/python3.9/site-packages (from matplotlib) (20.9)\n",
      "Requirement already satisfied: pyparsing>=2.2.1 in /usr/lib/python3.9/site-packages (from matplotlib) (2.4.7)\n",
      "Requirement already satisfied: kiwisolver>=1.0.1 in /home/bubble/.local/lib/python3.9/site-packages (from matplotlib) (1.3.2)\n",
      "Requirement already satisfied: python-dateutil>=2.7 in /usr/lib/python3.9/site-packages (from matplotlib) (2.8.2)\n",
      "Requirement already satisfied: numpy>=1.17 in /home/bubble/.local/lib/python3.9/site-packages (from matplotlib) (1.21.4)\n",
      "Requirement already satisfied: cycler>=0.10 in /home/bubble/.local/lib/python3.9/site-packages (from matplotlib) (0.11.0)\n",
      "Requirement already satisfied: fonttools>=4.22.0 in /home/bubble/.local/lib/python3.9/site-packages (from matplotlib) (4.28.2)\n",
      "Requirement already satisfied: setuptools-scm>=4 in /home/bubble/.local/lib/python3.9/site-packages (from matplotlib) (6.3.2)\n",
      "Requirement already satisfied: pillow>=6.2.0 in /home/bubble/.local/lib/python3.9/site-packages (from matplotlib) (8.4.0)\n",
      "Requirement already satisfied: six>=1.5 in /usr/lib/python3.9/site-packages (from python-dateutil>=2.7->matplotlib) (1.16.0)\n",
      "Requirement already satisfied: setuptools in /usr/lib/python3.9/site-packages (from setuptools-scm>=4->matplotlib) (57.4.0)\n",
      "Requirement already satisfied: tomli>=1.0.0 in /usr/lib/python3.9/site-packages (from setuptools-scm>=4->matplotlib) (1.2.2)\n"
     ]
    }
   ],
   "source": [
    "!pip install matplotlib\n",
    "\n",
    "import matplotlib.pyplot as plt\n",
    "import pandas as pd"
   ]
  },
  {
   "cell_type": "markdown",
   "metadata": {},
   "source": [
    "#### Загрузите данные в `pandas.DataFrame` и выведите первые и последние 15 строк."
   ]
  },
  {
   "cell_type": "code",
   "execution_count": 20,
   "metadata": {},
   "outputs": [
    {
     "name": "stdout",
     "output_type": "stream",
     "text": [
      "   Rank                      Name Platform    Year         Genre Publisher  \\\n",
      "0     1                Wii Sports      Wii  2006.0        Sports  Nintendo   \n",
      "1     2         Super Mario Bros.      NES  1985.0      Platform  Nintendo   \n",
      "2     3            Mario Kart Wii      Wii  2008.0        Racing  Nintendo   \n",
      "3     4         Wii Sports Resort      Wii  2009.0        Sports  Nintendo   \n",
      "4     5  Pokemon Red/Pokemon Blue       GB  1996.0  Role-Playing  Nintendo   \n",
      "\n",
      "   NA_Sales  EU_Sales  JP_Sales  Other_Sales  Global_Sales  \n",
      "0     41.49     29.02      3.77         8.46         82.74  \n",
      "1     29.08      3.58      6.81         0.77         40.24  \n",
      "2     15.85     12.88      3.79         3.31         35.82  \n",
      "3     15.75     11.01      3.28         2.96         33.00  \n",
      "4     11.27      8.89     10.22         1.00         31.37           Rank                                              Name Platform  \\\n",
      "16593  16596                Woody Woodpecker in Crazy Castle 5      GBA   \n",
      "16594  16597                     Men in Black II: Alien Escape       GC   \n",
      "16595  16598  SCORE International Baja 1000: The Official Game      PS2   \n",
      "16596  16599                                        Know How 2       DS   \n",
      "16597  16600                                  Spirits & Spells      GBA   \n",
      "\n",
      "         Year     Genre   Publisher  NA_Sales  EU_Sales  JP_Sales  \\\n",
      "16593  2002.0  Platform       Kemco      0.01      0.00       0.0   \n",
      "16594  2003.0   Shooter  Infogrames      0.01      0.00       0.0   \n",
      "16595  2008.0    Racing  Activision      0.00      0.00       0.0   \n",
      "16596  2010.0    Puzzle    7G//AMES      0.00      0.01       0.0   \n",
      "16597  2003.0  Platform     Wanadoo      0.01      0.00       0.0   \n",
      "\n",
      "       Other_Sales  Global_Sales  \n",
      "16593          0.0          0.01  \n",
      "16594          0.0          0.01  \n",
      "16595          0.0          0.01  \n",
      "16596          0.0          0.01  \n",
      "16597          0.0          0.01  \n"
     ]
    }
   ],
   "source": [
    "df = pd.read_csv('sales.csv')\n",
    "df = pd.DataFrame(df)\n",
    "\n",
    "print(df.head(5), df.tail(5))"
   ]
  },
  {
   "cell_type": "markdown",
   "metadata": {},
   "source": [
    "#### Проверьте форму (`shape`) данных. Сколько всего объектов в датасете?"
   ]
  },
  {
   "cell_type": "code",
   "execution_count": 21,
   "metadata": {},
   "outputs": [
    {
     "name": "stdout",
     "output_type": "stream",
     "text": [
      "(16598, 11)\n"
     ]
    }
   ],
   "source": [
    "print(df.shape)"
   ]
  },
  {
   "cell_type": "markdown",
   "metadata": {},
   "source": [
    "Ответ: 16597"
   ]
  },
  {
   "cell_type": "markdown",
   "metadata": {},
   "source": [
    "#### Каковы максимальный и средний объем продаж во всем мире (см. `pandas.DataFrame.describe`)?"
   ]
  },
  {
   "cell_type": "code",
   "execution_count": 13,
   "metadata": {},
   "outputs": [
    {
     "name": "stdout",
     "output_type": "stream",
     "text": [
      "82.74\n",
      "0.5374406555006628\n"
     ]
    }
   ],
   "source": [
    "# print(df.describe())\n",
    "print(df['Global_Sales'].max())\n",
    "print(df['Global_Sales'].mean())"
   ]
  },
  {
   "cell_type": "markdown",
   "metadata": {},
   "source": [
    "Ответ: max = 82.74; mean = 0.537441"
   ]
  },
  {
   "cell_type": "markdown",
   "metadata": {},
   "source": [
    "#### Какие типы имеют каждый из признаков (см. `pandas.DataFrame.info`)?"
   ]
  },
  {
   "cell_type": "code",
   "execution_count": 18,
   "metadata": {},
   "outputs": [
    {
     "name": "stdout",
     "output_type": "stream",
     "text": [
      "int64\n",
      "object\n",
      "object\n",
      "float64\n",
      "object\n",
      "object\n",
      "float64\n",
      "float64\n",
      "float64\n",
      "float64\n",
      "float64\n"
     ]
    }
   ],
   "source": [
    "for column_name in df.columns.tolist():\n",
    "#     print(df.info())\n",
    "    print(df[column_name].dtype)"
   ]
  },
  {
   "cell_type": "markdown",
   "metadata": {},
   "source": [
    "Ответ: int64, object, object, float64, object, object, float64, float64, float64, float64, float64"
   ]
  },
  {
   "cell_type": "markdown",
   "metadata": {},
   "source": [
    "#### Оцените количество пропусков по каждому из признаков. Для числовых признаков заполните пропуски медианным значением, для прочих признаков удаляйте строки."
   ]
  },
  {
   "cell_type": "code",
   "execution_count": 27,
   "metadata": {},
   "outputs": [],
   "source": [
    "mean_values = {}\n",
    "for column_name in df.columns.tolist():\n",
    "    if df[column_name].dtype == df['Year'].dtype:\n",
    "        mean_values[column_name] = df[column_name].mean()\n",
    "\n",
    "mean_values['Year'] = int(mean_values['Year'])\n",
    "\n",
    "for index, row in df.iterrows():\n",
    "    for column_name in df.columns.tolist():\n",
    "        if not row[column_name]:\n",
    "            if column_name in mean_values.keys():\n",
    "                row[column_name] = mean_values[column_name]\n",
    "            elif df[column_name].dtype == df['Name'].dtype:\n",
    "                df.drop(index, inplace=True)\n",
    "                break"
   ]
  },
  {
   "cell_type": "markdown",
   "metadata": {},
   "source": [
    "#### Постройте круговую диаграмму количества игр в разрезе жанров. Подпишите каждый сектор. Какой жанр самый популярный?"
   ]
  },
  {
   "cell_type": "code",
   "execution_count": 23,
   "metadata": {},
   "outputs": [
    {
     "data": {
      "image/png": "[encoded data removed]",
      "text/plain": [
       "<Figure size 432x288 with 1 Axes>"
      ]
     },
     "metadata": {},
     "output_type": "display_data"
    }
   ],
   "source": [
    "%matplotlib inline\n",
    "\n",
    "genre_popularity = {}\n",
    "for index, row in df.iterrows():\n",
    "    genre_popularity[row['Genre']] = genre_popularity.get(row['Genre'], 0) + 1    \n",
    "\n",
    "fig, ax = plt.subplots()\n",
    "ax.pie(genre_popularity.values(), labels=genre_popularity.keys(), autopct='%1.1f%%')\n",
    "\n",
    "plt.show()"
   ]
  },
  {
   "cell_type": "markdown",
   "metadata": {},
   "source": [
    "Ответ: <span style=\"color:red\">#впишите сюда</span>"
   ]
  },
  {
   "cell_type": "markdown",
   "metadata": {},
   "source": [
    "#### Постройте столбчатую диаграмму количества игр в разрезе игровых платформ. Столбцы должны идти в порядке убывания количества игр. Под какую платформу выпустили больше всего игр?"
   ]
  },
  {
   "cell_type": "code",
   "execution_count": 24,
   "metadata": {},
   "outputs": [
    {
     "name": "stdout",
     "output_type": "stream",
     "text": [
      "{'Wii': 1325, 'NES': 98, 'GB': 98, 'DS': 2163, 'X360': 1265, 'PS3': 1329, 'PS2': 2161, 'SNES': 239, 'GBA': 822, '3DS': 509, 'PS4': 336, 'N64': 319, 'PS': 1196, 'XB': 824, 'PC': 960, '2600': 133, 'PSP': 1213, 'XOne': 213, 'GC': 556, 'WiiU': 143, 'GEN': 27, 'DC': 52, 'PSV': 413, 'SAT': 173, 'SCD': 6, 'WS': 6, 'NG': 12, 'TG16': 2, '3DO': 3, 'GG': 1, 'PCFX': 1}\n"
     ]
    },
    {
     "data": {
      "image/png": "[encoded data removed]",
      "text/plain": [
       "<Figure size 1152x648 with 1 Axes>"
      ]
     },
     "metadata": {
      "needs_background": "light"
     },
     "output_type": "display_data"
    }
   ],
   "source": [
    "platform_popularity = {}\n",
    "for index, row in df.iterrows():\n",
    "    platform_popularity[row['Platform']] = platform_popularity.get(row['Platform'], 0) + 1  \n",
    "    \n",
    "print(platform_popularity)\n",
    "\n",
    "platform_popularity = dict(sorted(platform_popularity.items(), key = lambda x: x[1], reverse = True))\n",
    "    \n",
    "fig, ax = plt.subplots(figsize=(16, 9))\n",
    "ax.bar(platform_popularity.keys(), platform_popularity.values())\n",
    "\n",
    "plt.show()"
   ]
  },
  {
   "cell_type": "markdown",
   "metadata": {},
   "source": [
    "Ответ: <span style=\"color:red\">#впишите сюда</span>"
   ]
  },
  {
   "cell_type": "markdown",
   "metadata": {},
   "source": [
    "#### Постройте столбчатую диаграмму количества игр по годам. Столбцы должны идти в хронологическом порядке. Какая пятилетка была самой удачной для игростроя?"
   ]
  },
  {
   "cell_type": "code",
   "execution_count": 37,
   "metadata": {},
   "outputs": [
    {
     "data": {
      "image/png": "[encoded data removed]",
      "text/plain": [
       "<Figure size 720x360 with 1 Axes>"
      ]
     },
     "metadata": {
      "needs_background": "light"
     },
     "output_type": "display_data"
    }
   ],
   "source": [
    "releases_per_year = {}\n",
    "for index, row in df.iterrows():\n",
    "    releases_per_year[row['Year']] = releases_per_year.get(row['Year'], 0) + 1  \n",
    "    \n",
    "releases_per_year =  dict(sorted(releases_per_year.items()))\n",
    "\n",
    "fig, ax = plt.subplots(figsize=(10,5))\n",
    "ax.bar(releases_per_year.keys(), releases_per_year.values(), color='orange')\n",
    "\n",
    "plt.show()"
   ]
  },
  {
   "cell_type": "markdown",
   "metadata": {},
   "source": [
    "Ответ: <span style=\"color:red\">#впишите сюда</span>"
   ]
  },
  {
   "cell_type": "markdown",
   "metadata": {},
   "source": [
    "#### Постройте столбчатую диаграмму общих доходов игровой индустрии по годам. Столбцы должны идти в хронологическом порядке. Какой год был самым прибыльным?"
   ]
  },
  {
   "cell_type": "code",
   "execution_count": 43,
   "metadata": {},
   "outputs": [
    {
     "data": {
      "image/png": "[encoded data removed]",
      "text/plain": [
       "<Figure size 720x360 with 1 Axes>"
      ]
     },
     "metadata": {
      "needs_background": "light"
     },
     "output_type": "display_data"
    }
   ],
   "source": [
    "sales_per_year = {}\n",
    "for index, row in df.iterrows():\n",
    "    sales_per_year[row['Year']] = sales_per_year.get(row['Global_Sales'], 0) + row['Global_Sales'] \n",
    "    \n",
    "sales_per_year =  dict(sorted(sales_per_year.items()))\n",
    "\n",
    "fig, ax = plt.subplots(figsize=(10,5))\n",
    "ax.bar(sales_per_year.keys(), sales_per_year.values(), color='g')\n",
    "\n",
    "plt.show()"
   ]
  },
  {
   "cell_type": "markdown",
   "metadata": {},
   "source": [
    "Ответ: <span style=\"color:red\">#впишите сюда</span>"
   ]
  },
  {
   "cell_type": "markdown",
   "metadata": {},
   "source": [
    "#### Постройте диаграмму рассеивания между платформами и жанрами. Размер точки соответствует объему продаж. \n",
    "\n",
    "Пример:\n",
    "![gr](gr.png)"
   ]
  },
  {
   "cell_type": "code",
   "execution_count": 44,
   "metadata": {},
   "outputs": [],
   "source": [
    "sales_per_year = {}\n",
    "for index, row in df.iterrows():\n",
    "    sales_per_year[row['Platform']] = sales_per_year.get(row['Global_Sales'], 0) + row['Global_Sales'] \n",
    "    \n",
    "sales_per_year =  dict(sorted(sales_per_year.items()))\n",
    "\n",
    "fig, ax = plt.subplots(figsize=(10,5))\n",
    "ax.bar(sales_per_year.keys(), sales_per_year.values(), color='g')\n",
    "\n",
    "plt.show()"
   ]
  },
  {
   "cell_type": "markdown",
   "metadata": {},
   "source": [
    "#### Постройте линейный график объемов продаж шутеров в Японии по годам. Какой год был самым прибыльным?"
   ]
  },
  {
   "cell_type": "code",
   "execution_count": 51,
   "metadata": {},
   "outputs": [
    {
     "data": {
      "image/png": "[encoded data removed]",
      "text/plain": [
       "<Figure size 648x288 with 1 Axes>"
      ]
     },
     "metadata": {
      "needs_background": "light"
     },
     "output_type": "display_data"
    }
   ],
   "source": [
    "shooters_sales_Japan = {}\n",
    "for index, row in df.iterrows():\n",
    "    if row['Genre'] == 'Shooter':\n",
    "        shooters_sales_Japan[row['Year']] = shooters_sales_Japan.get(row['JP_Sales'], 0) + row['JP_Sales'] \n",
    "    \n",
    "shooters_sales_Japan =  dict(sorted(shooters_sales_Japan.items()))\n",
    "\n",
    "fig, ax = plt.subplots(figsize=(9,4))\n",
    "ax.bar(shooters_sales_Japan.keys(), shooters_sales_Japan.values(), color='gray')\n",
    "\n",
    "plt.show()"
   ]
  },
  {
   "cell_type": "markdown",
   "metadata": {},
   "source": [
    "Ответ: <span style=\"color:red\">#впишите сюда</span>"
   ]
  },
  {
   "cell_type": "markdown",
   "metadata": {},
   "source": [
    "### Дополнительные вопросы"
   ]
  },
  {
   "cell_type": "markdown",
   "metadata": {},
   "source": [
    "#### Какие игры являются самыми старыми?"
   ]
  },
  {
   "cell_type": "code",
   "execution_count": null,
   "metadata": {},
   "outputs": [],
   "source": [
    "# вставить код сюда"
   ]
  },
  {
   "cell_type": "markdown",
   "metadata": {},
   "source": [
    "Ответ: <span style=\"color:red\">#впишите сюда</span>"
   ]
  },
  {
   "cell_type": "markdown",
   "metadata": {},
   "source": [
    "#### Сколько шутеров было выпущено в 2003 году?"
   ]
  },
  {
   "cell_type": "code",
   "execution_count": null,
   "metadata": {},
   "outputs": [],
   "source": [
    "# вставить код сюда"
   ]
  },
  {
   "cell_type": "markdown",
   "metadata": {},
   "source": [
    "Ответ: <span style=\"color:red\">#впишите сюда</span>"
   ]
  }
 ],
 "metadata": {
  "kernelspec": {
   "display_name": "Python 3 (ipykernel)",
   "language": "python",
   "name": "python3"
  },
  "language_info": {
   "codemirror_mode": {
    "name": "ipython",
    "version": 3
   },
   "file_extension": ".py",
   "mimetype": "text/x-python",
   "name": "python",
   "nbconvert_exporter": "python",
   "pygments_lexer": "ipython3",
   "version": "3.9.6"
  }
 },
 "nbformat": 4,
 "nbformat_minor": 4
}
