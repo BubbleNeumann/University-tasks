{
 "cells": [
  {
   "cell_type": "markdown",
   "metadata": {},
   "source": [
    "lab_1_6409_010302D_ЧернышоваДК.ipynb."
   ]
  },
  {
   "cell_type": "code",
   "execution_count": null,
   "metadata": {},
   "outputs": [],
   "source": [
    "!pip install nltk inflect "
   ]
  },
  {
   "cell_type": "code",
   "execution_count": 14,
   "metadata": {},
   "outputs": [],
   "source": [
    "import re\n",
    "import inflect\n",
    "import nltk\n",
    "\n",
    "from nltk.util import ngrams\n",
    "from collections import Counter\n",
    "\n",
    "from nltk.probability import FreqDist\n",
    "import matplotlib.pyplot as plt\n",
    "\n",
    "\n",
    "nltk.download('gutenberg', quiet=True)\n",
    "nltk.download('punkt', quiet=True)\n",
    "\n",
    "books = [] # books titles\n",
    "raw_texts = [] # books contents\n",
    "\n",
    "for fileid in nltk.corpus.gutenberg.fileids():\n",
    "    books.append(fileid)\n",
    "    raw_texts.append(nltk.corpus.gutenberg.raw(fileid))"
   ]
  },
  {
   "cell_type": "markdown",
   "metadata": {},
   "source": [
    "#### Шаг №1\n",
    "Предобработайте тексты, которые содержатся в списке `raw_texts`, но сначала внимательно изучите их структуру. Сохраните полученные данные в списке `books_tokens` (в разрезе книг, как и было с сырыми текстами).\n",
    "\n",
    "Порядок обработки текста:\n",
    "* Замените все числа, которые представлены цифрами, их текстовым представлением (т.е. прописью). Пример: 1 = one, 23 = twenty three, 1042 = one thousand forty two, и т.п. См. библиотеку **inflect**.\n",
    "* Приведите текст к нижнему регистру\n",
    "* Произведите токинезацию, в качестве токенов выступают слова.\n"
   ]
  },
  {
   "cell_type": "code",
   "execution_count": 4,
   "metadata": {},
   "outputs": [],
   "source": [
    "infl = inflect.engine()\n",
    "# TODO remove slicing when done with testing\n",
    "# replace all digits with its text representation\n",
    "for text in raw_texts[0:2]:\n",
    "    for number in re.findall('(\\d+)', text):\n",
    "        text = text.replace(number, infl.number_to_words(int(number)))"
   ]
  },
  {
   "cell_type": "code",
   "execution_count": 8,
   "metadata": {},
   "outputs": [
    {
     "name": "stdout",
     "output_type": "stream",
     "text": [
      "['emma', 'by', 'jane', 'austen', '1816', 'volume', 'i', 'chapter', 'i', 'emma', 'woodhouse', 'handsome', 'clever', 'and', 'rich', 'with', 'a', 'comfortable', 'home', 'and', 'happy', 'disposition', 'seemed', 'to', 'unite', 'some', 'of', 'the', 'best', 'blessings']\n"
     ]
    }
   ],
   "source": [
    "books_tokens = list(raw_text.lower().split() for raw_text in raw_texts[0:1])\n",
    "\n",
    "translation_table = str.maketrans('', '', ''.join(['[', ']', '.', ',', '_', '?', ';', '!']))\n",
    "\n",
    "# replace all punctuation marks\n",
    "for book_tokens in books_tokens:\n",
    "    for i, token in enumerate(book_tokens):\n",
    "        book_tokens[i] = token.translate(translation_table)\n",
    "\n",
    "print(books_tokens[0][0:30])"
   ]
  },
  {
   "cell_type": "markdown",
   "metadata": {},
   "source": [
    "#### Шаг №2\n",
    "\n",
    "* Вычислите словари для каждой книги (переменная `books_vocabularies`).\n",
    "* Вычислите словарь для всего корпуса (переменная `books_vocabulary`).\n",
    "* Рассчитайте частоту употребления токенов в корпусе (переменная `freq_tokens`), и постройте график зависимости частоты употребления токена от токена (для 30-ти самых популярных)."
   ]
  },
  {
   "cell_type": "code",
   "execution_count": 23,
   "metadata": {},
   "outputs": [
    {
     "data": {
      "image/png": "[encoded data removed]",
      "text/plain": [
       "<Figure size 1000x500 with 1 Axes>"
      ]
     },
     "metadata": {},
     "output_type": "display_data"
    }
   ],
   "source": [
    "books_vocabularies = list(set(book_tks) for book_tks in books_tokens) # list of sets of tokens for each book\n",
    "books_vocabulary = list(set.union(*books_vocabularies)) # list of all tokens\n",
    "\n",
    "tokens = books_tokens[0]\n",
    "fdist = FreqDist(tokens)\n",
    "most_common_tokens = fdist.most_common(30)\n",
    "plt.figure(figsize=(10, 5))\n",
    "plt.bar(*zip(*most_common_tokens))\n",
    "plt.xlabel('tokens')\n",
    "plt.ylabel('freq')\n",
    "plt.xticks(rotation=90)  # Rotate x-labels for better visibility\n",
    "plt.show()"
   ]
  },
  {
   "cell_type": "markdown",
   "metadata": {},
   "source": [
    "#### Шаг №3\n",
    "* Сгенерируйте список триграмм (переменная `trigrams`) по всему корпусу и рассчитайте частоту их употребления (переменная `freq_trigrams`).\n",
    "* Реализуйте наивный генератор текста (30 токенов). \n",
    "    1. Для затравки берется два стартовых токена, которые становятся текущими. Первый токен выводится на экран.\n",
    "    2. Второй токен из активной пары токенов выводится на экран. Если мы сгененрировали нужное количество текста, то останавливаем алгоритм.\n",
    "    3. По текущей паре токенов (первые в триграмме) определяется наиболее употребительная траграмма, которая помечается как использованная. Использованные триграммы на последующих шагах в рассмотрении не участвуют. Второй и третий токены данной триграммы становятся текущими. Переходим к п. 2."
   ]
  },
  {
   "cell_type": "code",
   "execution_count": null,
   "metadata": {},
   "outputs": [],
   "source": [
    "trigrams = list(ngrams(books_tokens[0], 3))\n",
    "\n",
    "# sorted by frequency\n",
    "freq_trigrams = dict(sorted(Counter(trigrams).items(), key=lambda item: item[1], reverse=True))\n",
    "\n",
    "# testing\n",
    "first_ten = dict(list(freq_trigrams.items())[:10])\n",
    "print(first_ten)"
   ]
  },
  {
   "cell_type": "code",
   "execution_count": null,
   "metadata": {},
   "outputs": [],
   "source": [
    "res = []\n",
    "\n",
    "active_token = list(freq_trigrams.items())[0]\n",
    "print(active_token)\n",
    "\n",
    "res.extend(active_token[0][:2])\n",
    "\n",
    "while len(res) < 30:\n",
    "    for e in freq_trigrams.items():\n",
    "        if e[0][0] == active_token[0][1] and e[0][1] == active_token[0][2]:\n",
    "            active_token = e\n",
    "            print(active_token)\n",
    "            break\n",
    "    res.append(active_token[0][2])\n",
    "\n",
    "print(' '.join(res))"
   ]
  }
 ],
 "metadata": {
  "kernelspec": {
   "display_name": "Python 3 (ipykernel)",
   "language": "python",
   "name": "python3"
  },
  "language_info": {
   "codemirror_mode": {
    "name": "ipython",
    "version": 3
   },
   "file_extension": ".py",
   "mimetype": "text/x-python",
   "name": "python",
   "nbconvert_exporter": "python",
   "pygments_lexer": "ipython3",
   "version": "3.10.12"
  }
 },
 "nbformat": 4,
 "nbformat_minor": 4
}
