{
 "cells": [
  {
   "cell_type": "markdown",
   "source": [
    "# Fibonacci sequence"
   ],
   "metadata": {}
  },
  {
   "cell_type": "markdown",
   "source": [
    "## 1. Сгенерировать последовательность чисел Фибоначчи (с n-ого по k-й элементы)."
   ],
   "metadata": {}
  },
  {
   "cell_type": "code",
   "execution_count": 6,
   "source": [
    "n = 1\r\n",
    "k = 6\r\n",
    "\r\n",
    "# n, k = input().split()\r\n",
    "\r\n",
    "for i in range(n, k+1):\r\n",
    "    print(i, \"elem =\", int((((1+5**0.5)/2)**i - ((1 - 5**0.5)/2)**i)/5**0.5))\r\n"
   ],
   "outputs": [
    {
     "output_type": "stream",
     "name": "stdout",
     "text": [
      "1 elem = 1\n",
      "2 elem = 1\n",
      "3 elem = 2\n",
      "4 elem = 3\n",
      "5 elem = 5\n",
      "6 elem = 8\n"
     ]
    }
   ],
   "metadata": {}
  },
  {
   "cell_type": "markdown",
   "source": [
    "## 2. Вывести элементы последовательности, где четные (по значению) элементы заменены на отрицательное значение квадрата их индекса (опираясь на результаты п. 1)."
   ],
   "metadata": {}
  },
  {
   "cell_type": "code",
   "execution_count": 7,
   "source": [
    "# n and k are declared in the first cell\r\n",
    "\r\n",
    "for i in range(n, k+1):\r\n",
    "    curElem = int((((1+5**0.5)/2)**i - ((1 - 5**0.5)/2)**i)/5**0.5)\r\n",
    "    if not curElem%2:\r\n",
    "        print(i**2 * (-1))\r\n",
    "    else:\r\n",
    "        print(curElem)\r\n"
   ],
   "outputs": [
    {
     "output_type": "stream",
     "name": "stdout",
     "text": [
      "1\n",
      "1\n",
      "-9\n",
      "3\n",
      "5\n",
      "-36\n"
     ]
    }
   ],
   "metadata": {}
  },
  {
   "cell_type": "markdown",
   "source": [
    "## 3. Посчитать сумму элементов полученной последовательности, найти значение и индекс максимального и минимального элементов (опираясь на результаты п. 2)."
   ],
   "metadata": {}
  },
  {
   "cell_type": "code",
   "execution_count": 23,
   "source": [
    "Sum = 0\r\n",
    "Max = Min = curElem\r\n",
    "indexMax = indexMin = n\r\n",
    "\r\n",
    "for i in range(n, k+1):\r\n",
    "\r\n",
    "    curElem = int((((1+5**0.5)/2)**i - ((1 - 5**0.5)/2)**i)/5**0.5)\r\n",
    "\r\n",
    "    if not curElem%2:\r\n",
    "        Sum += i**2 * (-1)\r\n",
    "    else:\r\n",
    "        Sum += curElem \r\n",
    "    \r\n",
    "    if curElem < Min:\r\n",
    "        Min = i**2 * (-1)\r\n",
    "        indexMin = i        \r\n",
    "    elif curElem > Max:\r\n",
    "        Max = curElem\r\n",
    "        indexMax = i\r\n",
    "\r\n",
    "\r\n",
    "print(Sum)\r\n",
    "print(\"Max element:\", Max, \"; it's index:\", indexMax)\r\n",
    "print(\"Min element:\", Min, \"; it's index:\", indexMin)"
   ],
   "outputs": [
    {
     "output_type": "stream",
     "name": "stdout",
     "text": [
      "-15027\n",
      "Max element: 1 ; it's index: 1\n",
      "Min element: -900 ; it's index: 30\n"
     ]
    }
   ],
   "metadata": {}
  },
  {
   "cell_type": "markdown",
   "source": [
    "## 4. Вывести на экран элементы, сумма цифр которых делится на 3 без остатка, а индекс - нечетное число (опираясь на результаты п. 2)"
   ],
   "metadata": {}
  },
  {
   "cell_type": "code",
   "execution_count": 21,
   "source": [
    "# function which calculates the sum of the given number\r\n",
    "# improves the code readability\r\n",
    "def sumOfDigits(num):\r\n",
    "    Sum = 0\r\n",
    "\r\n",
    "    # needed for negative numbers\r\n",
    "    num = abs(num)\r\n",
    "    \r\n",
    "    while num > 0:\r\n",
    "        Sum += num%10\r\n",
    "        num //= 10\r\n",
    "    return Sum"
   ],
   "outputs": [],
   "metadata": {}
  },
  {
   "cell_type": "code",
   "execution_count": 25,
   "source": [
    "prevElem = int((((1+5**0.5)/2)**(n-1) - ((1 - 5**0.5)/2)**(n-1))/5**0.5)\r\n",
    "curElem = int((((1+5**0.5)/2)**n - ((1 - 5**0.5)/2)**n)/5**0.5)\r\n",
    "\r\n",
    "for i in range(n, k+1):\r\n",
    "    if not curElem%2:\r\n",
    "        curElem = i**2 * (-1)\r\n",
    "    if not sumOfDigits(curElem)%3 and i%2:\r\n",
    "        print(curElem)\r\n",
    "        \r\n",
    "    temp = curElem + prevElem\r\n",
    "    prevElem, curElem = curElem, temp"
   ],
   "outputs": [
    {
     "output_type": "stream",
     "name": "stdout",
     "text": [
      "-9\n",
      "-225\n",
      "-729\n"
     ]
    }
   ],
   "metadata": {}
  },
  {
   "cell_type": "markdown",
   "source": [
    "### Alternative solution \r\n",
    "### cell which doesn't use any functions:"
   ],
   "metadata": {}
  },
  {
   "cell_type": "code",
   "execution_count": 26,
   "source": [
    "prevElem = int((((1+5**0.5)/2)**(n-1) - ((1 - 5**0.5)/2)**(n-1))/5**0.5)\r\n",
    "curElem = int((((1+5**0.5)/2)**n - ((1 - 5**0.5)/2)**n)/5**0.5)\r\n",
    "\r\n",
    "for i in range(n, k+1):\r\n",
    "    if not curElem%2:\r\n",
    "        curElem = i**2 * (-1)\r\n",
    "\r\n",
    "    Sum = 0\r\n",
    "    copy = abs(curElem)\r\n",
    "    while copy:\r\n",
    "        Sum += copy%10\r\n",
    "        copy //= 10\r\n",
    "\r\n",
    "    if not Sum%3 and i%2:\r\n",
    "        print(curElem)\r\n",
    "        \r\n",
    "    temp = curElem + prevElem\r\n",
    "    prevElem, curElem = curElem, temp"
   ],
   "outputs": [
    {
     "output_type": "stream",
     "name": "stdout",
     "text": [
      "-9\n",
      "-225\n",
      "-729\n"
     ]
    }
   ],
   "metadata": {}
  }
 ],
 "metadata": {
  "orig_nbformat": 4,
  "language_info": {
   "name": "python",
   "version": "3.9.7",
   "mimetype": "text/x-python",
   "codemirror_mode": {
    "name": "ipython",
    "version": 3
   },
   "pygments_lexer": "ipython3",
   "nbconvert_exporter": "python",
   "file_extension": ".py"
  },
  "kernelspec": {
   "name": "python3",
   "display_name": "Python 3.9.7 64-bit (windows store)"
  },
  "interpreter": {
   "hash": "f2d18c173e5ba5ab8ac6375975de63329d859dc163a077b683cc8c05d4d0149b"
  }
 },
 "nbformat": 4,
 "nbformat_minor": 2
}