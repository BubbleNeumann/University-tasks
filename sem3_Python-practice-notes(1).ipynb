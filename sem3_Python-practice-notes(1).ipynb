{
 "cells": [
  {
   "cell_type": "markdown",
   "source": [
    "## Prime numbers"
   ],
   "metadata": {}
  },
  {
   "cell_type": "markdown",
   "source": [],
   "metadata": {}
  },
  {
   "cell_type": "code",
   "execution_count": 2,
   "source": [
    "n = 100\r\n",
    "for i in range(2, n + 1):\r\n",
    "    flag = True\r\n",
    "    j = 2\r\n",
    "    while flag and j <= (i**0.5):\r\n",
    "        if i%j == 0:\r\n",
    "            flag = False\r\n",
    "        j += 1\r\n",
    "    if flag:\r\n",
    "        # print(i)\r\n",
    "        pass"
   ],
   "outputs": [],
   "metadata": {}
  },
  {
   "cell_type": "code",
   "execution_count": 3,
   "source": [
    "n = 100\r\n",
    "for i in range(2, n + 1):\r\n",
    "    flag = True\r\n",
    "    j = 2\r\n",
    "    while flag and j <= (i**0.5):\r\n",
    "        flag = i%j\r\n",
    "        j += 1\r\n",
    "    if flag:\r\n",
    "        pass"
   ],
   "outputs": [],
   "metadata": {}
  },
  {
   "cell_type": "code",
   "execution_count": 19,
   "source": [
    "n = 100\r\n",
    "for i in range(2, n + 1):\r\n",
    "    for j in range(2, int(i**0.5)+1, 2):\r\n",
    "        if not i % j:\r\n",
    "            break\r\n",
    "    else:\r\n",
    "        print(i)\r\n"
   ],
   "outputs": [],
   "metadata": {}
  },
  {
   "cell_type": "markdown",
   "source": [
    "## Euclidean algorithm"
   ],
   "metadata": {}
  },
  {
   "cell_type": "code",
   "execution_count": 24,
   "source": [
    "a = input()\r\n",
    "b = input()\r\n",
    "\r\n",
    "while a and b:\r\n",
    "    a %= b\r\n",
    "    a, b = b, a\r\n",
    "print(a+b)"
   ],
   "outputs": [
    {
     "output_type": "stream",
     "name": "stdout",
     "text": [
      "\n"
     ]
    }
   ],
   "metadata": {}
  },
  {
   "cell_type": "code",
   "execution_count": 25,
   "source": [
    "a, b = 234, 123\r\n",
    "while a and b:\r\n",
    "    a, b = b, a%b\r\n",
    "print(a+b)"
   ],
   "outputs": [
    {
     "output_type": "stream",
     "name": "stdout",
     "text": [
      "3\n"
     ]
    }
   ],
   "metadata": {}
  },
  {
   "cell_type": "markdown",
   "source": [
    "## Factorial"
   ],
   "metadata": {}
  },
  {
   "cell_type": "code",
   "execution_count": 26,
   "source": [
    "n = 5\r\n",
    "factorial = 1\r\n",
    "for i in range(2, n+1):\r\n",
    "    factorial *= i\r\n",
    "print(factorial)"
   ],
   "outputs": [
    {
     "output_type": "stream",
     "name": "stdout",
     "text": [
      "120\n"
     ]
    }
   ],
   "metadata": {}
  }
 ],
 "metadata": {
  "orig_nbformat": 4,
  "language_info": {
   "name": "python",
   "version": "3.9.7",
   "mimetype": "text/x-python",
   "codemirror_mode": {
    "name": "ipython",
    "version": 3
   },
   "pygments_lexer": "ipython3",
   "nbconvert_exporter": "python",
   "file_extension": ".py"
  },
  "kernelspec": {
   "name": "python3",
   "display_name": "Python 3.9.7 64-bit (windows store)"
  },
  "interpreter": {
   "hash": "f2d18c173e5ba5ab8ac6375975de63329d859dc163a077b683cc8c05d4d0149b"
  }
 },
 "nbformat": 4,
 "nbformat_minor": 2
}