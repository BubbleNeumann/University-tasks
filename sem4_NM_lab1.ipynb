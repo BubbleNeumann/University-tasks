{
 "cells": [
  {
   "cell_type": "markdown",
   "metadata": {},
   "source": [
    "#### Чернышова Дана, группа 6209\n",
    "##### Вариант 21\n",
    "##### Лабораторная работа №1"
   ]
  },
  {
   "cell_type": "code",
   "execution_count": 1,
   "metadata": {},
   "outputs": [],
   "source": [
    "import math\n",
    "from mpmath import *\n",
    "import numpy as np\n",
    "import matplotlib.pyplot as plt\n",
    "from scipy import integrate"
   ]
  },
  {
   "cell_type": "markdown",
   "metadata": {},
   "source": [
    "Задание 1. Создать матрицу 5х5 из единиц. Создать единичную матрицу 50х50."
   ]
  },
  {
   "cell_type": "code",
   "execution_count": 92,
   "metadata": {},
   "outputs": [
    {
     "name": "stdout",
     "output_type": "stream",
     "text": [
      "[[1 1 1 1 1]\n",
      " [1 1 1 1 1]\n",
      " [1 1 1 1 1]\n",
      " [1 1 1 1 1]\n",
      " [1 1 1 1 1]]\n",
      "[[1 0 0 ... 0 0 0]\n",
      " [0 1 0 ... 0 0 0]\n",
      " [0 0 1 ... 0 0 0]\n",
      " ...\n",
      " [0 0 0 ... 1 0 0]\n",
      " [0 0 0 ... 0 1 0]\n",
      " [0 0 0 ... 0 0 1]]\n"
     ]
    }
   ],
   "source": [
    "print(np.ones((5, 5), dtype='int'))\n",
    "print(np.identity(50, dtype='int'))"
   ]
  },
  {
   "cell_type": "markdown",
   "metadata": {},
   "source": [
    "Задание 2. Вычислить определитель $ \\begin{vmatrix}\n",
    " 3  &-1  &2  &3 &2 \\\\ \n",
    " 1 &2  &-3  &3  &4 \\\\ \n",
    " 2 &-3  &4  &2  &1 \\\\ \n",
    " 3 &0  &0  &5  &0 \\\\ \n",
    " 2 &0  &0  &4  &0 \n",
    "\\end{vmatrix} $"
   ]
  },
  {
   "cell_type": "code",
   "execution_count": 3,
   "metadata": {},
   "outputs": [
    {
     "name": "stdout",
     "output_type": "stream",
     "text": [
      "-22.000000000000036\n"
     ]
    }
   ],
   "source": [
    "A = [[3, -1, 2, 3, 2],\n",
    "      [1, 2, -3, 3, 4],\n",
    "      [2, -3, 4, 2, 1],\n",
    "      [3, 0, 0, 5, 0],\n",
    "      [2, 0, 0, 4, 0]]\n",
    "\n",
    "print(np.linalg.det(A))"
   ]
  },
  {
   "cell_type": "code",
   "execution_count": 94,
   "metadata": {},
   "outputs": [
    {
     "name": "stdout",
     "output_type": "stream",
     "text": [
      "[[4 5 0 5]\n",
      " [2 0 4 5]\n",
      " [1 1 3 1]\n",
      " [2 1 3 2]]\n",
      "[[ 0.28571429]\n",
      " [-0.14285714]\n",
      " [-0.28571429]\n",
      " [ 0.71428571]]\n"
     ]
    }
   ],
   "source": [
    "A = np.random.randint(0, 6, (4, 4)) \n",
    "B = np.random.randint(0, 5, (4, 1))\n",
    "print(np.linalg.solve(A, B))"
   ]
  },
  {
   "cell_type": "markdown",
   "metadata": {},
   "source": [
    "Задание 4. Вычислить интеграл: $ \\int_{0}^{1/3}ch^{2}(3x)dx $"
   ]
  },
  {
   "cell_type": "code",
   "execution_count": 5,
   "metadata": {},
   "outputs": [
    {
     "name": "stdout",
     "output_type": "stream",
     "text": [
      "0.4689050339872516\n"
     ]
    }
   ],
   "source": [
    "res, err =integrate.quad(lambda x: math.pow(cosh(x*3), 2), 0, 1/3)\n",
    "print(res)"
   ]
  },
  {
   "cell_type": "markdown",
   "metadata": {},
   "source": [
    "Задние 5. Вычислить интеграл: $ \\int_{0}^{1}dx\\int_{0}^{1-x}dy\\int_{0}^{1-x-y}(x+y+z)dz $"
   ]
  },
  {
   "cell_type": "code",
   "execution_count": 6,
   "metadata": {},
   "outputs": [
    {
     "name": "stdout",
     "output_type": "stream",
     "text": [
      "0.125\n"
     ]
    }
   ],
   "source": [
    "f = lambda x, y, z: x + y + z\n",
    "res, err = integrate.tplquad(f, 0, 1, lambda x: 0, lambda x: 1-x, lambda x, y: 0, lambda x, y: 1-x-y)\n",
    "print(res)"
   ]
  },
  {
   "cell_type": "code",
   "execution_count": 105,
   "metadata": {},
   "outputs": [
    {
     "data": {
      "image/png": "[encoded data removed]",
      "text/plain": [
       "<Figure size 720x504 with 1 Axes>"
      ]
     },
     "metadata": {
      "needs_background": "light"
     },
     "output_type": "display_data"
    }
   ],
   "source": [
    "fig, ax = plt.subplots(figsize=(10, 7))\n",
    "ax.set_xlabel('x axis', loc='right')\n",
    "ax.set_ylabel('y axis', loc='top')\n",
    "x = np.linspace(-2*np.pi, 2*np.pi)\n",
    "\n",
    "ax.plot(x, 2*np.cos(x - (np.pi/4)), color='red', linestyle='--', label='y = 2cos(x - pi/4)')\n",
    "ax.plot(x, x+3, label='y = x + 3')\n",
    "\n",
    "xmin, xmax = ax.get_xlim() \n",
    "ymin, ymax = ax.get_ylim()\n",
    "\n",
    "ax.spines['right'].set_color('none')\n",
    "ax.spines['top'].set_color('none')\n",
    "\n",
    "lw = .01 # axis line width\n",
    "ohg = 0.3 # arrow overhang\n",
    "\n",
    "ax.xaxis.set_ticks_position('bottom')\n",
    "ax.spines['bottom'].set_position(('data', 0))\n",
    "ax.yaxis.set_ticks_position('left')\n",
    "ax.spines['left'].set_position(('data', 0))\n",
    "\n",
    " \n",
    "# draw x and y axis\n",
    "ax.arrow(xmin, 0, xmax-xmin, 0., fc='k', ec='k', lw = lw, \n",
    "         head_width=0.45, head_length=0.45, overhang = ohg,\n",
    "        length_includes_head= True, clip_on = False) \n",
    " \n",
    "ax.arrow(0, ymin, 0., ymax-ymin, fc='k', ec='k', lw = lw, \n",
    "         head_width=0.3, head_length=0.7, overhang = ohg, \n",
    "         length_includes_head= True, clip_on = False) \n",
    "\n",
    "plt.xticks([-2*np.pi, -3*np.pi / 2, -np.pi, -np.pi / 2, 0,  np.pi / 2, np.pi, 3*np.pi / 2 ],\n",
    "           [r'$-2\\pi$', r'$-3\\pi/2$', r'$-\\pi$', r'$-\\pi/2$',r'$0$', r'$\\pi/2$', r'$\\pi$', r'$3\\pi/2$' ])\n",
    "\n",
    "plt.yticks([-4, -2, 2, 4, 6, 8],\n",
    "           [r'$-4$', r'$-2$', r'$2$', r'$4$', r'$6$', r'$8$'])\n",
    "\n",
    "ax.legend(loc='best')\n",
    "ax.grid(color='blue', linewidth=0.5, alpha= 0.2)\n"
   ]
  }
 ],
 "metadata": {
  "interpreter": {
   "hash": "f2d18c173e5ba5ab8ac6375975de63329d859dc163a077b683cc8c05d4d0149b"
  },
  "kernelspec": {
   "display_name": "Python 3.9.10 64-bit (windows store)",
   "language": "python",
   "name": "python3"
  },
  "language_info": {
   "codemirror_mode": {
    "name": "ipython",
    "version": 3
   },
   "file_extension": ".py",
   "mimetype": "text/x-python",
   "name": "python",
   "nbconvert_exporter": "python",
   "pygments_lexer": "ipython3",
   "version": "3.9.10"
  },
  "orig_nbformat": 4
 },
 "nbformat": 4,
 "nbformat_minor": 2
}
