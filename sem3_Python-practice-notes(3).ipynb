{
 "cells": [
  {
   "cell_type": "code",
   "execution_count": 10,
   "source": [
    "lst = [i for i in range(50)]\r\n",
    "n = 1\r\n",
    "k = 4\r\n",
    "\r\n",
    "lst[n:k+1] = lst[k:n-1:-1]\r\n",
    "\r\n",
    "print(lst)\r\n",
    "print(len(lst))\r\n",
    "\r\n"
   ],
   "outputs": [
    {
     "output_type": "stream",
     "name": "stdout",
     "text": [
      "[0, 4, 3, 2, 1, 5, 6, 7, 8, 9, 10, 11, 12, 13, 14, 15, 16, 17, 18, 19, 20, 21, 22, 23, 24, 25, 26, 27, 28, 29, 30, 31, 32, 33, 34, 35, 36, 37, 38, 39, 40, 41, 42, 43, 44, 45, 46, 47, 48, 49]\n",
      "50\n"
     ]
    }
   ],
   "metadata": {}
  },
  {
   "cell_type": "code",
   "execution_count": 13,
   "source": [
    "lst = ['aaa', 'abba', 'bac', 'aaf']\r\n",
    "x = 'aa'\r\n",
    "\r\n",
    "# for elem in lst:\r\n",
    "#     if elem.startswith(x):\r\n",
    "#         lst.remove(elem)\r\n",
    "\r\n",
    "newLst = [i for i in lst if not i.startswith(x)]\r\n",
    "\r\n",
    "print(newLst)"
   ],
   "outputs": [
    {
     "output_type": "stream",
     "name": "stdout",
     "text": [
      "['abba', 'bac']\n"
     ]
    }
   ],
   "metadata": {}
  },
  {
   "cell_type": "code",
   "execution_count": 17,
   "source": [
    "# HOMEWORK\r\n",
    "\r\n",
    "a =  [2, 3, 2, -6]\r\n",
    "p = [1, 2, 2, 4]\r\n",
    "x = 2\r\n",
    "\r\n",
    "res = list(map(lambda a, p: a*x**p, a, p))\r\n",
    "print(res)"
   ],
   "outputs": [
    {
     "output_type": "stream",
     "name": "stdout",
     "text": [
      "[4, 12, 8, -96]\n"
     ]
    }
   ],
   "metadata": {}
  },
  {
   "cell_type": "code",
   "execution_count": 18,
   "source": [
    "for i, j in zip(a,p):\r\n",
    "    print(i*x**j)"
   ],
   "outputs": [
    {
     "output_type": "stream",
     "name": "stdout",
     "text": [
      "4\n",
      "12\n",
      "8\n",
      "-96\n"
     ]
    }
   ],
   "metadata": {}
  }
 ],
 "metadata": {
  "orig_nbformat": 4,
  "language_info": {
   "name": "python",
   "version": "3.9.7",
   "mimetype": "text/x-python",
   "codemirror_mode": {
    "name": "ipython",
    "version": 3
   },
   "pygments_lexer": "ipython3",
   "nbconvert_exporter": "python",
   "file_extension": ".py"
  },
  "kernelspec": {
   "name": "python3",
   "display_name": "Python 3.9.7 64-bit (windows store)"
  },
  "interpreter": {
   "hash": "f2d18c173e5ba5ab8ac6375975de63329d859dc163a077b683cc8c05d4d0149b"
  }
 },
 "nbformat": 4,
 "nbformat_minor": 2
}