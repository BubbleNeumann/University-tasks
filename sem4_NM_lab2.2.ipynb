{
 "cells": [
  {
   "cell_type": "markdown",
   "metadata": {},
   "source": [
    "#### Чернышова Дана, группа 6209\n",
    "##### Вариант 21\n",
    "##### Лабораторная работа №2.2"
   ]
  },
  {
   "cell_type": "code",
   "execution_count": null,
   "metadata": {},
   "outputs": [],
   "source": [
    "import numpy as np\n",
    "np.set_printoptions(precision=2)"
   ]
  },
  {
   "cell_type": "markdown",
   "metadata": {},
   "source": [
    "Задание 1. Создать квадратную матрицу из случайных целых чисел из [-7,-1] размера 6 . Найти ее определитель, используя LU разложение."
   ]
  },
  {
   "cell_type": "code",
   "execution_count": null,
   "metadata": {},
   "outputs": [],
   "source": [
    "n = 6\n",
    "A = np.random.randint(-7, 0, (n, n))\n",
    "L = np.identity(n, float)\n",
    "U = np.zeros((n, n), float)\n",
    "\n",
    "for i in range(n):\n",
    "    for j in range(n):\n",
    "        if i <= j:\n",
    "            U[i, j] = A[i, j] - np.dot(L[i, :i], U[:i, j])\n",
    "        else:\n",
    "            L[i, j] = (A[i, j] - np.dot(L[i, :j], U[:j, j])) / U[j, j]\n",
    "\n",
    "print(np.linalg.det(A))\n",
    "print(np.linalg.det(L)*np.linalg.det(U))"
   ]
  },
  {
   "cell_type": "markdown",
   "metadata": {},
   "source": [
    "Задание 2. Найдите QR разложение матрицы, созданной в пункте 1. Проверьте правильность найденного разложения 1) с помощью умножения Q на R 2) с помощью функции np.linalg.qr."
   ]
  },
  {
   "cell_type": "code",
   "execution_count": null,
   "metadata": {},
   "outputs": [],
   "source": [
    "Q = np.empty((n, n))\n",
    "u = np.empty((n, n))\n",
    "\n",
    "u[:, 0] = A[:, 0]\n",
    "Q[:, 0] = u[:, 0] / np.linalg.norm(u[:, 0])\n",
    "\n",
    "for i in range(1, n):\n",
    "\n",
    "    u[:, i] = A[:, i]\n",
    "    for j in range(i):\n",
    "        u[:, i] -= (A[:, i] @ Q[:, j]) * Q[:, j] # get each u vector\n",
    "\n",
    "    Q[:, i] = u[:, i] / np.linalg.norm(u[:, i]) # compute each e vetor\n",
    "\n",
    "R = np.zeros((n, n))\n",
    "for i in range(n):\n",
    "    for j in range(i, n):\n",
    "        R[i, j] = A[:, j] @ Q[:, i]\n",
    "\n",
    "print(Q, '\\n\\n', R, '\\n\\n')\n",
    "\n",
    "q, r = np.linalg.qr(A)\n",
    "print(q, '\\n\\n', r)"
   ]
  },
  {
   "cell_type": "markdown",
   "metadata": {},
   "source": [
    "Задание 3. Решить систему, используя метод простых итераций с точностью до <img src=\"https://render.githubusercontent.com/render/math?math=10^{-3}\">, приведя к виду, удобному для итераций\n",
    "$$ \n",
    "3.3x_1 + 2.1x_2 + 2.8x_3 = 0.8\\\\\n",
    "4.1x_1 + 3.7x_2 + 4.8x_3 = 5.7\\\\\n",
    "2.7x_1 + 1.8x_2 + 1.1x_3 = 3.2\n",
    "$$"
   ]
  },
  {
   "cell_type": "code",
   "execution_count": 37,
   "metadata": {},
   "outputs": [],
   "source": [
    "def gauss_seidel(A, b, tolerance=1e-3, max_iterations=1000):\n",
    "    \n",
    "    x = np.zeros_like(b, dtype=np.double)\n",
    "    \n",
    "    #Iterate\n",
    "    for k in range(max_iterations):\n",
    "        \n",
    "        x_old  = x.copy()\n",
    "        \n",
    "        #Loop over rows\n",
    "        for i in range(A.shape[0]):\n",
    "            x[i] = (b[i] - np.dot(A[i,:i], x[:i]) - np.dot(A[i,(i+1):], x_old[(i+1):])) / A[i ,i]\n",
    "            \n",
    "        #Stop condition \n",
    "        if np.linalg.norm(x - x_old, ord=np.inf) / np.linalg.norm(x, ord=np.inf) < tolerance:\n",
    "            break\n",
    "            \n",
    "    return x"
   ]
  },
  {
   "cell_type": "code",
   "execution_count": 46,
   "metadata": {},
   "outputs": [
    {
     "name": "stdout",
     "output_type": "stream",
     "text": [
      "NOT diagonally dominant\n",
      "[-2.37  6.37 -1.7 ]\n"
     ]
    },
    {
     "name": "stderr",
     "output_type": "stream",
     "text": [
      "C:\\Users\\bubbl\\AppData\\Local\\Temp/ipykernel_23028/459914509.py:12: RuntimeWarning: invalid value encountered in double_scalars\n",
      "  x[i] = (b[i] - np.dot(A[i,:i], x[:i]) - np.dot(A[i,(i+1):], x_old[(i+1):])) / A[i ,i]\n"
     ]
    }
   ],
   "source": [
    "A = np.array([[3.3, 2.1, 2.8], [4.1, 3.7, 4.8], [2.7, 1.8, 1.1]])\n",
    "\n",
    "B = np.array([0.8, 5.7, 3.2])\n",
    "\n",
    "# Find diagonal coefficients\n",
    "diag = np.diag(np.abs(A)) \n",
    "\n",
    "# Find row sum without diagonal\n",
    "off_diag = np.sum(np.abs(A), axis=1) - diag \n",
    "\n",
    "if np.all(diag > off_diag):\n",
    "    print('matrix is diagonally dominant')\n",
    "else:\n",
    "    print('NOT diagonally dominant')\n",
    "\n",
    "while diag < off_diag:\n",
    "    for i in range(len(A)):\n",
    "        for j in range()\n",
    "\n",
    "gauss_seidel(A, B)\n",
    "\n",
    "\n",
    "\n",
    "\n",
    "\n",
    "\n",
    "print(np.linalg.solve(A, B))"
   ]
  }
 ],
 "metadata": {
  "interpreter": {
   "hash": "f2d18c173e5ba5ab8ac6375975de63329d859dc163a077b683cc8c05d4d0149b"
  },
  "kernelspec": {
   "display_name": "Python 3.9.12 64-bit (windows store)",
   "language": "python",
   "name": "python3"
  },
  "language_info": {
   "codemirror_mode": {
    "name": "ipython",
    "version": 3
   },
   "file_extension": ".py",
   "mimetype": "text/x-python",
   "name": "python",
   "nbconvert_exporter": "python",
   "pygments_lexer": "ipython3",
   "version": "3.9.12"
  },
  "orig_nbformat": 4
 },
 "nbformat": 4,
 "nbformat_minor": 2
}
