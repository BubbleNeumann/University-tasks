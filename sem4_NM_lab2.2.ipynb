{
 "cells": [
  {
   "cell_type": "markdown",
   "metadata": {},
   "source": [
    "#### Чернышова Дана, группа 6209\n",
    "##### Вариант 21\n",
    "##### Лабораторная работа №2.2"
   ]
  },
  {
   "cell_type": "code",
   "execution_count": 3,
   "metadata": {},
   "outputs": [],
   "source": [
    "import numpy as np\n",
    "np.set_printoptions(precision=3, suppress=True) # set precision"
   ]
  },
  {
   "cell_type": "markdown",
   "metadata": {},
   "source": [
    "Задание 1. Создать квадратную матрицу из случайных целых чисел из [-7,-1] размера 6 . Найти ее определитель, используя LU разложение."
   ]
  },
  {
   "cell_type": "code",
   "execution_count": 7,
   "metadata": {},
   "outputs": [
    {
     "name": "stdout",
     "output_type": "stream",
     "text": [
      "A =\n",
      " [[-6 -2 -2 -3 -6 -5]\n",
      " [-1 -7 -7 -1 -4 -2]\n",
      " [-4 -2 -3 -5 -2 -3]\n",
      " [-3 -4 -7 -6 -7 -1]\n",
      " [-5 -6 -1 -4 -7 -2]\n",
      " [-5 -3 -2 -2 -1 -5]] \n",
      "\n",
      "L*U =\n",
      " [[  0.      0.      0.      0.      0.      0.   ]\n",
      " [ -1.     -0.333  -0.333  -0.5    -1.     -0.833]\n",
      " [ -4.     -2.     -2.     -2.05   -4.3    -3.45 ]\n",
      " [ -3.     -4.     -7.    -10.575   2.55   -1.675]\n",
      " [ -5.     -6.     -1.     -4.     14.792  -9.525]\n",
      " [ -5.     -3.     -2.     -2.     -1.     -5.885]] \n",
      "\n",
      "L =\n",
      " [[ 0.     0.     0.     0.     0.     0.   ]\n",
      " [ 0.167  0.     0.     0.     0.     0.   ]\n",
      " [ 0.667  0.1    0.     0.     0.     0.   ]\n",
      " [ 0.5    0.45   3.     0.     0.     0.   ]\n",
      " [ 0.833  0.65  -5.    -3.481  0.     0.   ]\n",
      " [ 0.833  0.2   -1.    -0.514 -0.092  0.   ]] \n",
      "\n",
      "U =\n",
      " [[ -6.     -2.     -2.     -3.     -6.     -5.   ]\n",
      " [  0.     -6.667  -6.667  -0.5    -3.     -1.167]\n",
      " [  0.      0.     -1.     -2.95    2.3     0.45 ]\n",
      " [  0.      0.      0.      4.575  -9.55    0.675]\n",
      " [  0.      0.      0.      0.    -21.792   7.525]\n",
      " [  0.      0.      0.      0.      0.      0.885]]\n",
      "\n",
      "LU determinant:  3531.0\n",
      "\n",
      "linalg determionant:  3531.0\n"
     ]
    }
   ],
   "source": [
    "n = 6 # set dimensions\n",
    "A = np.random.randint(-7,0,(n,n)) \n",
    "U =  np.random.uniform(0, 0, (n,n)) \n",
    "L =  np.random.uniform(0, 0, (n,n))\n",
    "for i in range(n): # Заполнение матриц L и U\n",
    "    for j in range(n):\n",
    "        if i <= j:\n",
    "            U[i, j] = A[i, j] - np.dot(L[i, :i], U[:i, j]) #Находим матрицу U\n",
    "        else:\n",
    "            L[i, j] = (A[i, j] - np.dot(L[i, :j], U[:j, j])) / U[j, j] #Находим матрицу L\n",
    "            \n",
    "print('A =\\n', A, '\\n')\n",
    "print('L*U =\\n', np.dot(L, U), '\\n')\n",
    "print('L =\\n', L, '\\n')\n",
    "print('U =\\n', U)\n",
    "\n",
    "detA = 1\n",
    "for i in range(0,n):\n",
    "    detA *= U[i][i]\n",
    "\n",
    "print('\\nLU determinant: ', detA.round(3))\n",
    "print('\\nlinalg determionant: ', np.linalg.det(A).round(3))"
   ]
  },
  {
   "cell_type": "markdown",
   "metadata": {},
   "source": [
    "Задание 2. Найдите QR разложение матрицы, созданной в пункте 1. Проверьте правильность найденного разложения 1) с помощью умножения Q на R 2) с помощью функции np.linalg.qr"
   ]
  },
  {
   "cell_type": "code",
   "execution_count": null,
   "metadata": {},
   "outputs": [],
   "source": [
    "Q =  np.random.uniform(0, 0, (n,n))\n",
    "\n",
    "Q[:,0] = A[:,0]\n",
    "for i in range(0,n):\n",
    "    Q[:,i] = A[:,i]\n",
    "    for j in range(0,i):\n",
    "        Q[:,i]-=Q[:,j]*((A[:,i]*Q[:,j]).sum())/((Q[:,j]*Q[:,j]).sum())\n",
    "\n",
    "for j in range(0,n):\n",
    "    num = 0\n",
    "    for i in range(0,n):\n",
    "        num += Q[i,j]**2\n",
    "    num = num**0.5\n",
    "    Q[:,j]/=num\n",
    "    \n",
    "\n",
    "Q_1 = Q.transpose()\n",
    "R = Q_1.dot(A)\n",
    "q, r = np.linalg.qr(A) #проверяем с помощью функции np.linalg.qr\n",
    "\n",
    "print('A =\\n', A)\n",
    "print('Q*R = \\n', q.dot(r))\n",
    "print('Q =\\n', np.around(Q, decimals=2, out=None))\n",
    "print('R =\\n', np.around(R, decimals=2, out=None))\n"
   ]
  },
  {
   "cell_type": "markdown",
   "metadata": {},
   "source": [
    "Задание 3. Решить систему, используя метод простых итераций с точностью до 10^-3, приведя к виду, удобному для итераций\n",
    "$\\left\\{\\begin{matrix}\n",
    "3.2x_{1}-2.5x_{2}+3.7x_{3} = 6.5 & & \\\\\n",
    "0.5x_{1}+0.34x_{2}+1.7x_{3} = -0.24 & & \\\\\n",
    "1.6x_{1}+2.3x_{2}-1.5x_{3} = 4.3 & &\n",
    "\\end{matrix}\\right.$"
   ]
  },
  {
   "cell_type": "code",
   "execution_count": 38,
   "metadata": {},
   "outputs": [
    {
     "name": "stdout",
     "output_type": "stream",
     "text": [
      "\n",
      "New A matrix\n",
      " [[ 0.    -0.328 -0.109  2.359]\n",
      " [-0.795  0.    -0.076  1.538]\n",
      " [-0.294 -0.2   -0.    -0.141]]\n",
      "\n",
      "Vector 0: [[0. 0. 0.]]\n",
      "Vector 1: [[ 2.359  1.538 -0.141]]\n",
      "Delta: 2.359375\n",
      "\n",
      "Vector 2: [[ 1.87  -0.328 -1.143]]\n",
      "Delta: 1.8660803810160427\n",
      "\n",
      "Vector 3: [[ 2.592  0.137 -0.626]]\n",
      "Delta: 0.7218477354542665\n",
      "\n",
      "Vector 4: [[ 2.383 -0.477 -0.931]]\n",
      "Delta: 0.6133706353745622\n",
      "\n",
      "Vector 5: [[ 2.618 -0.287 -0.747]]\n",
      "Delta: 0.23465507127476837\n",
      "\n",
      "Vector 6: [[ 2.535 -0.488 -0.854]]\n",
      "Delta: 0.2006107247094739\n",
      "\n",
      "Vector 7: [[ 2.613 -0.414 -0.789]]\n",
      "Delta: 0.07751899517936645\n",
      "\n",
      "Vector 8: [[ 2.582 -0.481 -0.827]]\n",
      "Delta: 0.0665366040370835\n",
      "\n",
      "Vector 9: [[ 2.608 -0.453 -0.804]]\n",
      "Delta: 0.027644538027698562\n",
      "\n",
      "Vector 10: [[ 2.596 -0.475 -0.817]]\n",
      "Delta: 0.02233348339294977\n",
      "\n",
      "Vector 11: [[ 2.605 -0.465 -0.81 ]]\n",
      "Delta: 0.010167851744457834\n",
      "\n",
      "Vector 12: [[ 2.601 -0.473 -0.814]]\n",
      "Delta: 0.007569208469693667\n",
      "\n",
      "Vector 13: [[ 2.604 -0.469 -0.811]]\n",
      "Delta: 0.0036869441821107962\n",
      "\n",
      "Vector 14: [[ 2.602 -0.472 -0.813]]\n",
      "Delta: 0.002585072875498695\n",
      "\n",
      "Vector 15: [[ 2.603 -0.47  -0.812]]\n",
      "Delta: 0.0013238406318724083\n",
      "\n",
      "Vector 16: [[ 2.603 -0.471 -0.813]]\n",
      "Delta: 0.0008881641105610294\n",
      "\n",
      "[ 2.603 -0.471 -0.813]\n"
     ]
    }
   ],
   "source": [
    "A = np.matrix([[3.2, -2.5, 3.7, 6.5], [0.5, 0.34, 1.7, -0.24], [1.6, 2.3, -1.5, 4.3]])\n",
    "\n",
    "A[1,:]+=A[2,:]\n",
    "A[0,:]+=2*A[2,:]\n",
    "A[2,:]-=A[1,:]\n",
    "# print(\"\\nМатрица, пригодная для метода простых итераций:\\n\",a)\n",
    "#6.4>2.1+0.7\n",
    "#2.64>2.1+0.2\n",
    "#|-1.7|>|-0.5|+|-0.34|\n",
    "\n",
    "A = np.matrix([[0, -2.1, -0.7, 15.1], [-2.1, 0, -0.2, 4.06], [0.5, 0.34, 0, 0.24]])\n",
    "\n",
    "A[0, :] /= 6.4\n",
    "A[1, :] /= 2.64\n",
    "A[2, :] /= -1.7\n",
    "print(f\"\\nNew A matrix\\n {A}\")\n",
    "\n",
    "x_i = np.random.uniform(0, 0, (3, 1))\n",
    "x_i1 = np.random.uniform(0, 0, (3, 1))\n",
    "print(f\"\\nVector 0: {x_i.T}\")\n",
    "\n",
    "e = 0.001 # set accurace\n",
    "\n",
    "n = 1\n",
    "maximum = 1\n",
    "while maximum > e: # while needed accuracy hasn't been reached\n",
    "    x_i1 = x_i.copy()    \n",
    "    \n",
    "    for i in range(0, 3):\n",
    "        x_i[i] = A[i, 3] # fill the vector\n",
    "        for j in range(0, 3): \n",
    "            x_i[i] += x_i1[j] * A[i, j] #Xn=Xn-1*Aij\n",
    "            \n",
    "    for k in range(0, 3): # find max|Xn+1 - Xn| to make sure |Xn+1 - Xn|<e\n",
    "        x_i1[k] = abs((x_i[k] - x_i1[k]))\n",
    "    maximum = np.max(x_i1)\n",
    "    \n",
    "    \n",
    "    print(f\"Vector {n}: {x_i.T}\")\n",
    "    print(f\"Delta: {maximum}\\n\")\n",
    "    \n",
    "    n+=1\n",
    "    \n",
    "print(np.linalg.solve([[3.2, -2.5, 3.7], [0.5, 0.34, 1.7], [1.6, 2.3, -1.5]], [6.5, -0.24, 4.3]))"
   ]
  }
 ],
 "metadata": {
  "interpreter": {
   "hash": "df122b9f9a9d9510327ccd2e8dadfceea3e9547195b79c25eecd2b3cd67ac7c3"
  },
  "kernelspec": {
   "display_name": "Python 3.9.13 64-bit (windows store)",
   "language": "python",
   "name": "python3"
  },
  "language_info": {
   "codemirror_mode": {
    "name": "ipython",
    "version": 3
   },
   "file_extension": ".py",
   "mimetype": "text/x-python",
   "name": "python",
   "nbconvert_exporter": "python",
   "pygments_lexer": "ipython3",
   "version": "3.9.13"
  },
  "orig_nbformat": 4
 },
 "nbformat": 4,
 "nbformat_minor": 2
}
