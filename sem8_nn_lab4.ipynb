{
  "cells": [
    {
      "cell_type": "markdown",
      "metadata": {
        "id": "view-in-github"
      },
      "source": [
        "<a href=\"https://colab.research.google.com/github/L1KASA/DL_Course/blob/main/lab_4/6409_%D0%A2%D0%B0%D1%85%D0%BC%D0%B0%D0%B7%D0%BE%D0%B2%D0%B0%D0%90%D0%A8_%D0%9B%D0%A04.ipynb\" target=\"_parent\"><img src=\"https://colab.research.google.com/assets/colab-badge.svg\" alt=\"Open In Colab\"/></a>"
      ]
    },
    {
      "cell_type": "markdown",
      "metadata": {
        "id": "LIrRxpSl0tIi"
      },
      "source": [
        "# Лабораторная работа 4"
      ]
    },
    {
      "cell_type": "markdown",
      "metadata": {
        "id": "XrjW5CQUC3Cj"
      },
      "source": [
        "6409 Чернышова Дана"
      ]
    },
    {
      "cell_type": "code",
      "execution_count": 1,
      "metadata": {
        "id": "wjoTy3op0tIm"
      },
      "outputs": [],
      "source": [
        "import os\n",
        "import tensorflow as tf\n",
        "import numpy as np\n",
        "import math\n",
        "import timeit\n",
        "import matplotlib.pyplot as plt\n",
        "\n",
        "%matplotlib inline"
      ]
    },
    {
      "cell_type": "markdown",
      "metadata": {
        "id": "LPv1pt8r0tIn"
      },
      "source": [
        "# Подготовка данных\n",
        "Загрузите набор данных из предыдущей лабораторной работы."
      ]
    },
    {
      "cell_type": "code",
      "execution_count": 2,
      "metadata": {
        "colab": {
          "base_uri": "https://localhost:8080/"
        },
        "id": "KjXFTCiv0tIn",
        "outputId": "bf51fba6-72ed-4978-858d-7871c19b7dbe"
      },
      "outputs": [
        {
          "output_type": "stream",
          "name": "stdout",
          "text": [
            "Downloading data from https://storage.googleapis.com/tensorflow/tf-keras-datasets/mnist.npz\n",
            "11490434/11490434 [==============================] - 0s 0us/step\n",
            "Train data shape:  (49000, 28, 28)\n",
            "Train labels shape:  (49000,) int32\n",
            "Validation data shape:  (1000, 28, 28)\n",
            "Validation labels shape:  (1000,)\n",
            "Test data shape:  (10000, 28, 28)\n",
            "Test labels shape:  (10000,)\n"
          ]
        }
      ],
      "source": [
        "def load_data(num_training=49000, num_validation=1000, num_test=10000):\n",
        "    \"\"\"\n",
        "    Fetch the CIFAR-10 dataset from the web and perform preprocessing to prepare\n",
        "    it for the two-layer neural net classifier. These are the same steps as\n",
        "    we used for the SVM, but condensed to a single function.\n",
        "    \"\"\"\n",
        "    # Load the raw CIFAR-10 dataset and use appropriate data types and shapes\n",
        "    data = tf.keras.datasets.mnist.load_data()\n",
        "    (X_train, y_train), (X_test, y_test) = data\n",
        "    X_train = np.asarray(X_train, dtype=np.float32)\n",
        "    y_train = np.asarray(y_train, dtype=np.int32).flatten()\n",
        "    X_test = np.asarray(X_test, dtype=np.float32)\n",
        "    y_test = np.asarray(y_test, dtype=np.int32).flatten()\n",
        "\n",
        "    # Subsample the data\n",
        "    mask = range(num_training, num_training + num_validation)\n",
        "    X_val = X_train[mask]\n",
        "    y_val = y_train[mask]\n",
        "    mask = range(num_training)\n",
        "    X_train = X_train[mask]\n",
        "    y_train = y_train[mask]\n",
        "    mask = range(num_test)\n",
        "    X_test = X_test[mask]\n",
        "    y_test = y_test[mask]\n",
        "\n",
        "    # Normalize the data: subtract the mean pixel and divide by std\n",
        "    mean_pixel = X_train.mean(axis=(0, 1, 2), keepdims=True)\n",
        "    std_pixel = X_train.std(axis=(0, 1, 2), keepdims=True)\n",
        "    X_train = (X_train - mean_pixel) / std_pixel\n",
        "    X_val = (X_val - mean_pixel) / std_pixel\n",
        "    X_test = (X_test - mean_pixel) / std_pixel\n",
        "\n",
        "    return X_train, y_train, X_val, y_val, X_test, y_test\n",
        "\n",
        "# Invoke the above function to get our data.\n",
        "NHW = (0, 1, 2)\n",
        "X_train, y_train, X_val, y_val, X_test, y_test = load_data()\n",
        "print('Train data shape: ', X_train.shape)\n",
        "print('Train labels shape: ', y_train.shape, y_train.dtype)\n",
        "print('Validation data shape: ', X_val.shape)\n",
        "print('Validation labels shape: ', y_val.shape)\n",
        "print('Test data shape: ', X_test.shape)\n",
        "print('Test labels shape: ', y_test.shape)"
      ]
    },
    {
      "cell_type": "code",
      "execution_count": 3,
      "metadata": {
        "id": "FhFARbfF0tIp"
      },
      "outputs": [],
      "source": [
        "class Dataset(object):\n",
        "    def __init__(self, X, y, batch_size, shuffle=False):\n",
        "        \"\"\"\n",
        "        Construct a Dataset object to iterate over data X and labels y\n",
        "\n",
        "        Inputs:\n",
        "        - X: Numpy array of data, of any shape\n",
        "        - y: Numpy array of labels, of any shape but with y.shape[0] == X.shape[0]\n",
        "        - batch_size: Integer giving number of elements per minibatch\n",
        "        - shuffle: (optional) Boolean, whether to shuffle the data on each epoch\n",
        "        \"\"\"\n",
        "        assert X.shape[0] == y.shape[0], 'Got different numbers of data and labels'\n",
        "        self.X, self.y = X, y\n",
        "        self.batch_size, self.shuffle = batch_size, shuffle\n",
        "\n",
        "    def __iter__(self):\n",
        "        N, B = self.X.shape[0], self.batch_size\n",
        "        idxs = np.arange(N)\n",
        "        if self.shuffle:\n",
        "            np.random.shuffle(idxs)\n",
        "        return iter((self.X[i:i+B], self.y[i:i+B]) for i in range(0, N, B))\n",
        "\n",
        "\n",
        "X_train, y_train, X_val, y_val, X_test, y_test = load_data()\n",
        "X_train = X_train.reshape(-1, 28, 28, 1)\n",
        "X_val = X_val.reshape(-1, 28, 28, 1)\n",
        "X_test = X_test.reshape(-1, 28, 28, 1)\n",
        "train_dset = Dataset(X_train, y_train, batch_size=64, shuffle=True)\n",
        "val_dset = Dataset(X_val, y_val, batch_size=64, shuffle=False)\n",
        "test_dset = Dataset(X_test, y_test, batch_size=64)"
      ]
    },
    {
      "cell_type": "markdown",
      "metadata": {
        "id": "wxXs1w6B0tIq"
      },
      "source": [
        "\n"
      ]
    },
    {
      "cell_type": "markdown",
      "metadata": {
        "id": "DRiI6MkP0tIr"
      },
      "source": [
        "#  Keras Model Subclassing API"
      ]
    },
    {
      "cell_type": "markdown",
      "metadata": {
        "id": "v5MBC2Mv0tIr"
      },
      "source": [
        "\n",
        "Для реализации собственной модели с помощью Keras Model Subclassing API необходимо выполнить следующие шаги:\n",
        "\n",
        "1) Определить новый класс, который является наследником tf.keras.Model.\n",
        "\n",
        "2) В методе __init__() определить все необходимые слои из модуля tf.keras.layer\n",
        "\n",
        "3) Реализовать прямой проход в методе call() на основе слоев, объявленных в __init__()\n",
        "\n",
        "Ниже приведен пример использования keras API для определения двухслойной полносвязной сети.\n",
        "\n",
        "https://www.tensorflow.org/versions/r2.0/api_docs/python/tf/keras"
      ]
    },
    {
      "cell_type": "code",
      "execution_count": 5,
      "metadata": {
        "colab": {
          "base_uri": "https://localhost:8080/"
        },
        "id": "4cm8On220tIr",
        "outputId": "c2458b10-c3f5-4e3b-bf96-68b48d2b8a68"
      },
      "outputs": [
        {
          "output_type": "stream",
          "name": "stdout",
          "text": [
            "(64, 10)\n"
          ]
        },
        {
          "output_type": "stream",
          "name": "stderr",
          "text": [
            "/usr/local/lib/python3.10/dist-packages/keras/src/initializers/initializers.py:120: UserWarning: The initializer VarianceScaling is unseeded and being called multiple times, which will return identical values each time (even if the initializer is unseeded). Please update your code to provide a seed to the initializer, or avoid using the same initializer instance more than once.\n",
            "  warnings.warn(\n"
          ]
        }
      ],
      "source": [
        "device = '/device:GPU:0'\n",
        "\n",
        "class TwoLayerFC(tf.keras.Model):\n",
        "    def __init__(self, hidden_size, num_classes):\n",
        "        super(TwoLayerFC, self).__init__()\n",
        "        initializer = tf.initializers.VarianceScaling(scale=2.0)\n",
        "        self.fc1 = tf.keras.layers.Dense(hidden_size, activation='relu',\n",
        "                                   kernel_initializer=initializer)\n",
        "        self.fc2 = tf.keras.layers.Dense(num_classes, activation='softmax',\n",
        "                                   kernel_initializer=initializer)\n",
        "        self.flatten = tf.keras.layers.Flatten()\n",
        "\n",
        "    def call(self, x, training=False):\n",
        "        x = self.flatten(x)\n",
        "        x = self.fc1(x)\n",
        "        x = self.fc2(x)\n",
        "        return x\n",
        "\n",
        "\n",
        "def test_TwoLayerFC():\n",
        "    \"\"\" A small unit test to exercise the TwoLayerFC model above. \"\"\"\n",
        "    input_size, hidden_size, num_classes = 50, 42, 10\n",
        "    x = tf.zeros((64, input_size))\n",
        "    model = TwoLayerFC(hidden_size, num_classes)\n",
        "    with tf.device(device):\n",
        "        scores = model(x)\n",
        "        print(scores.shape)\n",
        "\n",
        "test_TwoLayerFC()"
      ]
    },
    {
      "cell_type": "markdown",
      "metadata": {
        "id": "PX4nj5WU0tIs"
      },
      "source": [
        "Реализуйте трехслойную CNN для вашей задачи классификации.\n",
        "\n",
        "Архитектура сети:\n",
        "    \n",
        "1. Сверточный слой (5 x 5 kernels, zero-padding = 'same')\n",
        "2. Функция активации ReLU\n",
        "3. Сверточный слой (3 x 3 kernels, zero-padding = 'same')\n",
        "4. Функция активации ReLU\n",
        "5. Полносвязный слой\n",
        "6. Функция активации Softmax\n",
        "\n",
        "https://www.tensorflow.org/versions/r2.0/api_docs/python/tf/keras/layers/Conv2D\n",
        "\n",
        "https://www.tensorflow.org/versions/r2.0/api_docs/python/tf/keras/layers/Dense"
      ]
    },
    {
      "cell_type": "code",
      "execution_count": 6,
      "metadata": {
        "id": "OA93NhKP0tIs"
      },
      "outputs": [],
      "source": [
        "class ThreeLayerConvNet(tf.keras.Model):\n",
        "    def __init__(self, channel_1, channel_2, num_classes):\n",
        "        super(ThreeLayerConvNet, self).__init__()\n",
        "        ########################################################################\n",
        "        # TODO: Implement the __init__ method for a three-layer ConvNet. You   #\n",
        "        # should instantiate layer objects to be used in the forward pass.     #\n",
        "        ########################################################################\n",
        "        # *****START OF YOUR CODE (DO NOT DELETE/MODIFY THIS LINE)*****\n",
        "\n",
        "        self.conv1 = tf.keras.layers.Conv2D(channel_1, kernel_size=(5, 5), strides=(1, 1), padding='same', activation='relu')\n",
        "        self.conv2 = tf.keras.layers.Conv2D(channel_2, kernel_size=(3, 3), strides=(1, 1), padding='same', activation='relu')\n",
        "        self.flatten = tf.keras.layers.Flatten()\n",
        "        self.fc = tf.keras.layers.Dense(num_classes, activation='softmax')\n",
        "\n",
        "        # *****END OF YOUR CODE (DO NOT DELETE/MODIFY THIS LINE)*****\n",
        "        ########################################################################\n",
        "        #                           END OF YOUR CODE                           #\n",
        "        ########################################################################\n",
        "\n",
        "    def call(self, x, training=False):\n",
        "        scores = None\n",
        "        ########################################################################\n",
        "        # TODO: Implement the forward pass for a three-layer ConvNet. You      #\n",
        "        # should use the layer objects defined in the __init__ method.         #\n",
        "        ########################################################################\n",
        "        # *****START OF YOUR CODE (DO NOT DELETE/MODIFY THIS LINE)*****\n",
        "\n",
        "        x = self.conv1(x)\n",
        "        x = self.conv2(x)\n",
        "        x = self.flatten(x)\n",
        "        scores = self.fc(x)\n",
        "\n",
        "        # *****END OF YOUR CODE (DO NOT DELETE/MODIFY THIS LINE)*****\n",
        "        ########################################################################\n",
        "        #                           END OF YOUR CODE                           #\n",
        "        ########################################################################\n",
        "        return scores"
      ]
    },
    {
      "cell_type": "code",
      "execution_count": 7,
      "metadata": {
        "colab": {
          "base_uri": "https://localhost:8080/"
        },
        "id": "mSEXxFnU0tIt",
        "outputId": "97ac0f47-1914-4603-a31d-1418cd062f52"
      },
      "outputs": [
        {
          "output_type": "stream",
          "name": "stdout",
          "text": [
            "(64, 10)\n"
          ]
        }
      ],
      "source": [
        "def test_ThreeLayerConvNet():\n",
        "    channel_1, channel_2, num_classes = 12, 8, 10\n",
        "    model = ThreeLayerConvNet(channel_1, channel_2, num_classes)\n",
        "    with tf.device(device):\n",
        "        x = tf.zeros((64, 3, 32, 32))\n",
        "        scores = model(x)\n",
        "        print(scores.shape)\n",
        "\n",
        "test_ThreeLayerConvNet()"
      ]
    },
    {
      "cell_type": "markdown",
      "metadata": {
        "id": "jhCJ5Wg-0tIt"
      },
      "source": [
        "Пример реализации процесса обучения:"
      ]
    },
    {
      "cell_type": "code",
      "execution_count": 8,
      "metadata": {
        "id": "5W109djm0tIt"
      },
      "outputs": [],
      "source": [
        "print_every = 200\n",
        "\n",
        "def train_part34(model_init_fn, optimizer_init_fn, num_epochs=1, is_training=False):\n",
        "    \"\"\"\n",
        "    Simple training loop for use with models defined using tf.keras. It trains\n",
        "    a model for one epoch on the CIFAR-10 training set and periodically checks\n",
        "    accuracy on the CIFAR-10 validation set.\n",
        "\n",
        "    Inputs:\n",
        "    - model_init_fn: A function that takes no parameters; when called it\n",
        "      constructs the model we want to train: model = model_init_fn()\n",
        "    - optimizer_init_fn: A function which takes no parameters; when called it\n",
        "      constructs the Optimizer object we will use to optimize the model:\n",
        "      optimizer = optimizer_init_fn()\n",
        "    - num_epochs: The number of epochs to train for\n",
        "\n",
        "    Returns: Nothing, but prints progress during trainingn\n",
        "    \"\"\"\n",
        "    with tf.device(device):\n",
        "\n",
        "\n",
        "        loss_fn = tf.keras.losses.SparseCategoricalCrossentropy()\n",
        "\n",
        "        model = model_init_fn()\n",
        "        optimizer = optimizer_init_fn()\n",
        "\n",
        "        train_loss = tf.keras.metrics.Mean(name='train_loss')\n",
        "        train_accuracy = tf.keras.metrics.SparseCategoricalAccuracy(name='train_accuracy')\n",
        "\n",
        "        val_loss = tf.keras.metrics.Mean(name='val_loss')\n",
        "        val_accuracy = tf.keras.metrics.SparseCategoricalAccuracy(name='val_accuracy')\n",
        "\n",
        "        t = 0\n",
        "        for epoch in range(num_epochs):\n",
        "\n",
        "            # Reset the metrics - https://www.tensorflow.org/alpha/guide/migration_guide#new-style_metrics\n",
        "            train_loss.reset_states()\n",
        "            train_accuracy.reset_states()\n",
        "\n",
        "            for x_np, y_np in train_dset:\n",
        "                with tf.GradientTape() as tape:\n",
        "\n",
        "                    # Use the model function to build the forward pass.\n",
        "                    scores = model(x_np, training=is_training)\n",
        "                    loss = loss_fn(y_np, scores)\n",
        "\n",
        "                    gradients = tape.gradient(loss, model.trainable_variables)\n",
        "                    optimizer.apply_gradients(zip(gradients, model.trainable_variables))\n",
        "\n",
        "                    # Update the metrics\n",
        "                    train_loss.update_state(loss)\n",
        "                    train_accuracy.update_state(y_np, scores)\n",
        "\n",
        "                    if t % print_every == 0:\n",
        "                        val_loss.reset_states()\n",
        "                        val_accuracy.reset_states()\n",
        "                        for test_x, test_y in val_dset:\n",
        "                            # During validation at end of epoch, training set to False\n",
        "                            prediction = model(test_x, training=False)\n",
        "                            t_loss = loss_fn(test_y, prediction)\n",
        "\n",
        "                            val_loss.update_state(t_loss)\n",
        "                            val_accuracy.update_state(test_y, prediction)\n",
        "\n",
        "                        template = 'Iteration {}, Epoch {}, Loss: {}, Accuracy: {}, Val Loss: {}, Val Accuracy: {}'\n",
        "                        print (template.format(t, epoch+1,\n",
        "                                             train_loss.result(),\n",
        "                                             train_accuracy.result()*100,\n",
        "                                             val_loss.result(),\n",
        "                                             val_accuracy.result()*100))\n",
        "                    t += 1"
      ]
    },
    {
      "cell_type": "code",
      "execution_count": 9,
      "metadata": {
        "colab": {
          "base_uri": "https://localhost:8080/"
        },
        "id": "d_8T_7M50tIu",
        "outputId": "baca8c53-7279-4c73-8346-22f9b1a38897"
      },
      "outputs": [
        {
          "output_type": "stream",
          "name": "stdout",
          "text": [
            "Iteration 0, Epoch 1, Loss: 2.648425579071045, Accuracy: 14.0625, Val Loss: 2.4256842136383057, Val Accuracy: 23.100000381469727\n",
            "Iteration 200, Epoch 1, Loss: 0.5067327618598938, Accuracy: 85.26119232177734, Val Loss: 0.4295625686645508, Val Accuracy: 86.5999984741211\n",
            "Iteration 400, Epoch 1, Loss: 0.4059617519378662, Accuracy: 88.1935806274414, Val Loss: 0.3539341390132904, Val Accuracy: 89.5\n",
            "Iteration 600, Epoch 1, Loss: 0.361200213432312, Accuracy: 89.45767211914062, Val Loss: 0.33000025153160095, Val Accuracy: 90.5\n"
          ]
        }
      ],
      "source": [
        "hidden_size, num_classes = 4000, 10\n",
        "learning_rate = 1e-2\n",
        "\n",
        "def model_init_fn():\n",
        "    return TwoLayerFC(hidden_size, num_classes)\n",
        "\n",
        "def optimizer_init_fn():\n",
        "    return tf.keras.optimizers.SGD(learning_rate=learning_rate)\n",
        "\n",
        "train_part34(model_init_fn, optimizer_init_fn)"
      ]
    },
    {
      "cell_type": "markdown",
      "metadata": {
        "id": "7CYDJSqn0tIu"
      },
      "source": [
        "Обучите трехслойную CNN. В tf.keras.optimizers.SGD укажите Nesterov momentum = 0.9 .\n",
        "\n",
        "https://www.tensorflow.org/versions/r2.0/api_docs/python/tf/optimizers/SGD\n",
        "\n",
        "Значение accuracy на валидационной выборке после 1 эпохи обучения должно быть > 50% ."
      ]
    },
    {
      "cell_type": "code",
      "execution_count": 10,
      "metadata": {
        "colab": {
          "base_uri": "https://localhost:8080/"
        },
        "id": "IDhzj02a0tIv",
        "outputId": "7db77ce6-0af4-44d4-81b6-d60ba762ef37"
      },
      "outputs": [
        {
          "output_type": "stream",
          "name": "stdout",
          "text": [
            "Iteration 0, Epoch 1, Loss: 2.2932896614074707, Accuracy: 14.0625, Val Loss: 2.2945306301116943, Val Accuracy: 10.300000190734863\n",
            "Iteration 200, Epoch 1, Loss: 0.5406829118728638, Accuracy: 84.375, Val Loss: 0.3682888150215149, Val Accuracy: 88.5\n",
            "Iteration 400, Epoch 1, Loss: 0.3615179657936096, Accuracy: 89.42877197265625, Val Loss: 0.20971842110157013, Val Accuracy: 93.0999984741211\n",
            "Iteration 600, Epoch 1, Loss: 0.2863776981830597, Accuracy: 91.63373565673828, Val Loss: 0.18891380727291107, Val Accuracy: 93.4000015258789\n"
          ]
        }
      ],
      "source": [
        "learning_rate = 3e-3\n",
        "channel_1, channel_2, num_classes = 32, 16, 10\n",
        "\n",
        "def model_init_fn():\n",
        "    model = None\n",
        "    ############################################################################\n",
        "    # TODO: Complete the implementation of model_fn.                           #\n",
        "    ############################################################################\n",
        "    # *****START OF YOUR CODE (DO NOT DELETE/MODIFY THIS LINE)*****\n",
        "\n",
        "    model = ThreeLayerConvNet(channel_1, channel_2, num_classes)\n",
        "\n",
        "    # *****END OF YOUR CODE (DO NOT DELETE/MODIFY THIS LINE)*****\n",
        "    ############################################################################\n",
        "    #                           END OF YOUR CODE                               #\n",
        "    ############################################################################\n",
        "    return model\n",
        "\n",
        "def optimizer_init_fn():\n",
        "    optimizer = None\n",
        "    ############################################################################\n",
        "    # TODO: Complete the implementation of model_fn.                           #\n",
        "    ############################################################################\n",
        "    # *****START OF YOUR CODE (DO NOT DELETE/MODIFY THIS LINE)*****\n",
        "\n",
        "    optimizer = tf.keras.optimizers.SGD(learning_rate, 0.9, nesterov=True)\n",
        "\n",
        "    # *****END OF YOUR CODE (DO NOT DELETE/MODIFY THIS LINE)*****\n",
        "    ############################################################################\n",
        "    #                           END OF YOUR CODE                               #\n",
        "    ############################################################################\n",
        "    return optimizer\n",
        "\n",
        "train_part34(model_init_fn, optimizer_init_fn)"
      ]
    },
    {
      "cell_type": "markdown",
      "metadata": {
        "id": "ZvmUPF9C0tIv"
      },
      "source": [
        "# Использование Keras Sequential API для реализации последовательных моделей.\n",
        "\n",
        "Пример для полносвязной сети:"
      ]
    },
    {
      "cell_type": "code",
      "execution_count": 11,
      "metadata": {
        "colab": {
          "base_uri": "https://localhost:8080/"
        },
        "id": "NlVpOXwC0tIv",
        "outputId": "25ad3f43-fee9-4661-e35e-755e32b93f27"
      },
      "outputs": [
        {
          "output_type": "stream",
          "name": "stdout",
          "text": [
            "Iteration 0, Epoch 1, Loss: 3.2397053241729736, Accuracy: 7.8125, Val Loss: 2.634352445602417, Val Accuracy: 20.80000114440918\n",
            "Iteration 200, Epoch 1, Loss: 0.5109735131263733, Accuracy: 84.82587432861328, Val Loss: 0.4397605061531067, Val Accuracy: 86.4000015258789\n",
            "Iteration 400, Epoch 1, Loss: 0.41054168343544006, Accuracy: 87.87406921386719, Val Loss: 0.3604540228843689, Val Accuracy: 89.80000305175781\n",
            "Iteration 600, Epoch 1, Loss: 0.36423879861831665, Accuracy: 89.24188232421875, Val Loss: 0.3280705511569977, Val Accuracy: 90.80000305175781\n"
          ]
        }
      ],
      "source": [
        "learning_rate = 1e-2\n",
        "\n",
        "def model_init_fn():\n",
        "    input_shape = (28, 28, 1)\n",
        "    hidden_layer_size, num_classes = 4000, 10\n",
        "    initializer = tf.initializers.VarianceScaling(scale=2.0)\n",
        "    layers = [\n",
        "        tf.keras.layers.Flatten(input_shape=input_shape),\n",
        "        tf.keras.layers.Dense(hidden_layer_size, activation='relu',\n",
        "                              kernel_initializer=initializer),\n",
        "        tf.keras.layers.Dense(num_classes, activation='softmax',\n",
        "                              kernel_initializer=initializer),\n",
        "    ]\n",
        "    model = tf.keras.Sequential(layers)\n",
        "    return model\n",
        "\n",
        "def optimizer_init_fn():\n",
        "    return tf.keras.optimizers.SGD(learning_rate=learning_rate)\n",
        "\n",
        "train_part34(model_init_fn, optimizer_init_fn)"
      ]
    },
    {
      "cell_type": "markdown",
      "metadata": {
        "id": "UfV9ITHg0tIw"
      },
      "source": [
        "Альтернативный менее гибкий способ обучения:"
      ]
    },
    {
      "cell_type": "code",
      "execution_count": 12,
      "metadata": {
        "colab": {
          "base_uri": "https://localhost:8080/"
        },
        "id": "ND4ycIHn0tIw",
        "outputId": "74a91cbd-de95-49f6-b4d8-bf8ede44c1cb"
      },
      "outputs": [
        {
          "output_type": "stream",
          "name": "stdout",
          "text": [
            "766/766 [==============================] - 26s 33ms/step - loss: 0.3391 - sparse_categorical_accuracy: 0.8995 - val_loss: 0.2874 - val_sparse_categorical_accuracy: 0.9200\n",
            "313/313 [==============================] - 3s 9ms/step - loss: 0.2155 - sparse_categorical_accuracy: 0.9375\n"
          ]
        },
        {
          "output_type": "execute_result",
          "data": {
            "text/plain": [
              "[0.21547406911849976, 0.9375]"
            ]
          },
          "metadata": {},
          "execution_count": 12
        }
      ],
      "source": [
        "model = model_init_fn()\n",
        "model.compile(optimizer=tf.keras.optimizers.SGD(learning_rate=learning_rate),\n",
        "              loss='sparse_categorical_crossentropy',\n",
        "              metrics=[tf.keras.metrics.sparse_categorical_accuracy])\n",
        "model.fit(X_train, y_train, batch_size=64, epochs=1, validation_data=(X_val, y_val))\n",
        "model.evaluate(X_test, y_test)"
      ]
    },
    {
      "cell_type": "markdown",
      "metadata": {
        "id": "n_MjbY270tIw"
      },
      "source": [
        "Перепишите реализацию трехслойной CNN с помощью tf.keras.Sequential API . Обучите модель двумя способами."
      ]
    },
    {
      "cell_type": "code",
      "execution_count": 13,
      "metadata": {
        "colab": {
          "base_uri": "https://localhost:8080/"
        },
        "id": "nbv3TzSz0tIx",
        "outputId": "c48f21f8-8957-4961-d6bc-bc83131534e6"
      },
      "outputs": [
        {
          "output_type": "stream",
          "name": "stdout",
          "text": [
            "Iteration 0, Epoch 1, Loss: 2.723869562149048, Accuracy: 17.1875, Val Loss: 2.7944717407226562, Val Accuracy: 8.399999618530273\n",
            "Iteration 200, Epoch 1, Loss: 0.5216559171676636, Accuracy: 84.09515380859375, Val Loss: 0.47859349846839905, Val Accuracy: 84.5\n",
            "Iteration 400, Epoch 1, Loss: 0.40278005599975586, Accuracy: 87.83120727539062, Val Loss: 0.3334046006202698, Val Accuracy: 89.4000015258789\n",
            "Iteration 600, Epoch 1, Loss: 0.3461413085460663, Accuracy: 89.6370620727539, Val Loss: 0.2627509832382202, Val Accuracy: 91.0999984741211\n"
          ]
        }
      ],
      "source": [
        "def model_init_fn():\n",
        "    model = None\n",
        "    ############################################################################\n",
        "    # TODO: Construct a three-layer ConvNet using tf.keras.Sequential.         #\n",
        "    ############################################################################\n",
        "    # *****START OF YOUR CODE (DO NOT DELETE/MODIFY THIS LINE)*****\n",
        "\n",
        "    model = tf.keras.Sequential([\n",
        "        tf.keras.layers.Conv2D(28, (5, 5), padding='same', activation='relu', kernel_initializer=tf.initializers.VarianceScaling(scale=2.0)),\n",
        "        tf.keras.layers.Conv2D(14, (3, 3), padding='same', activation='relu', kernel_initializer=tf.initializers.VarianceScaling(scale=2.0)),\n",
        "        tf.keras.layers.Flatten(),\n",
        "        tf.keras.layers.Dense(10, activation='softmax', kernel_initializer=tf.initializers.VarianceScaling(scale=2.0))\n",
        "    ])\n",
        "\n",
        "    # *****END OF YOUR CODE (DO NOT DELETE/MODIFY THIS LINE)*****\n",
        "    ############################################################################\n",
        "    #                            END OF YOUR CODE                              #\n",
        "    ############################################################################\n",
        "    return model\n",
        "\n",
        "learning_rate = 5e-4\n",
        "def optimizer_init_fn():\n",
        "    optimizer = None\n",
        "    ############################################################################\n",
        "    # TODO: Complete the implementation of model_fn.                           #\n",
        "    ############################################################################\n",
        "    # *****START OF YOUR CODE (DO NOT DELETE/MODIFY THIS LINE)*****\n",
        "\n",
        "    optimizer = tf.keras.optimizers.SGD(learning_rate, momentum=0.9, nesterov=True)\n",
        "\n",
        "    # *****END OF YOUR CODE (DO NOT DELETE/MODIFY THIS LINE)*****\n",
        "    ############################################################################\n",
        "    #                           END OF YOUR CODE                               #\n",
        "    ############################################################################\n",
        "    return optimizer\n",
        "\n",
        "train_part34(model_init_fn, optimizer_init_fn)"
      ]
    },
    {
      "cell_type": "code",
      "execution_count": 14,
      "metadata": {
        "colab": {
          "base_uri": "https://localhost:8080/"
        },
        "id": "1qcC7dCF0tIx",
        "outputId": "7331f50d-cc2c-4363-a39e-cc5e1140c0b8"
      },
      "outputs": [
        {
          "output_type": "stream",
          "name": "stdout",
          "text": [
            "766/766 [==============================] - 76s 98ms/step - loss: 0.2436 - sparse_categorical_accuracy: 0.9289 - val_loss: 0.1637 - val_sparse_categorical_accuracy: 0.9520\n",
            "313/313 [==============================] - 6s 18ms/step - loss: 0.1002 - sparse_categorical_accuracy: 0.9711\n"
          ]
        },
        {
          "output_type": "execute_result",
          "data": {
            "text/plain": [
              "[0.10023532062768936, 0.9710999727249146]"
            ]
          },
          "metadata": {},
          "execution_count": 14
        }
      ],
      "source": [
        "model = model_init_fn()\n",
        "model.compile(optimizer='sgd',\n",
        "              loss='sparse_categorical_crossentropy',\n",
        "              metrics=[tf.keras.metrics.sparse_categorical_accuracy])\n",
        "model.fit(X_train, y_train, batch_size=64, epochs=1, validation_data=(X_val, y_val))\n",
        "model.evaluate(X_test, y_test)"
      ]
    },
    {
      "cell_type": "markdown",
      "metadata": {
        "id": "OigWPi4l0tIx"
      },
      "source": [
        "# Использование Keras Functional API\n",
        "\n",
        "Для реализации более сложных архитектур сети с несколькими входами/выходами, повторным использованием слоев, \"остаточными\" связями (residual connections) необходимо явно указать входные и выходные тензоры.\n",
        "\n",
        "Ниже представлен пример для полносвязной сети."
      ]
    },
    {
      "cell_type": "code",
      "execution_count": 15,
      "metadata": {
        "colab": {
          "base_uri": "https://localhost:8080/"
        },
        "id": "ueP0Z79u0tIy",
        "outputId": "f1872005-3b02-4d62-bbb2-053d6d806f37"
      },
      "outputs": [
        {
          "output_type": "stream",
          "name": "stdout",
          "text": [
            "(64, 10)\n"
          ]
        }
      ],
      "source": [
        "def two_layer_fc_functional(input_shape, hidden_size, num_classes):\n",
        "    initializer = tf.initializers.VarianceScaling(scale=2.0)\n",
        "    inputs = tf.keras.Input(shape=input_shape)\n",
        "    flattened_inputs = tf.keras.layers.Flatten()(inputs)\n",
        "    fc1_output = tf.keras.layers.Dense(hidden_size, activation='relu',\n",
        "                                 kernel_initializer=initializer)(flattened_inputs)\n",
        "    scores = tf.keras.layers.Dense(num_classes, activation='softmax',\n",
        "                             kernel_initializer=initializer)(fc1_output)\n",
        "\n",
        "    # Instantiate the model given inputs and outputs.\n",
        "    model = tf.keras.Model(inputs=inputs, outputs=scores)\n",
        "    return model\n",
        "\n",
        "def test_two_layer_fc_functional():\n",
        "    \"\"\" A small unit test to exercise the TwoLayerFC model above. \"\"\"\n",
        "    input_size, hidden_size, num_classes = 50, 42, 10\n",
        "    input_shape = (50,)\n",
        "\n",
        "    x = tf.zeros((64, input_size))\n",
        "    model = two_layer_fc_functional(input_shape, hidden_size, num_classes)\n",
        "\n",
        "    with tf.device(device):\n",
        "        scores = model(x)\n",
        "        print(scores.shape)\n",
        "\n",
        "test_two_layer_fc_functional()"
      ]
    },
    {
      "cell_type": "code",
      "execution_count": 16,
      "metadata": {
        "colab": {
          "base_uri": "https://localhost:8080/"
        },
        "id": "3CBcd9Mk0tIy",
        "outputId": "1569f20d-6967-4235-d7e7-484d50edde1e"
      },
      "outputs": [
        {
          "output_type": "stream",
          "name": "stdout",
          "text": [
            "Iteration 0, Epoch 1, Loss: 2.8709096908569336, Accuracy: 7.8125, Val Loss: 2.3923752307891846, Val Accuracy: 23.299999237060547\n",
            "Iteration 200, Epoch 1, Loss: 0.5085484981536865, Accuracy: 84.9657974243164, Val Loss: 0.4503844976425171, Val Accuracy: 86.0\n",
            "Iteration 400, Epoch 1, Loss: 0.40910598635673523, Accuracy: 88.01824188232422, Val Loss: 0.3686492443084717, Val Accuracy: 89.0999984741211\n",
            "Iteration 600, Epoch 1, Loss: 0.3620755076408386, Accuracy: 89.43167877197266, Val Loss: 0.3304932713508606, Val Accuracy: 90.9000015258789\n"
          ]
        }
      ],
      "source": [
        "input_shape = (28, 28, 1)\n",
        "hidden_size, num_classes = 4000, 10\n",
        "learning_rate = 1e-2\n",
        "\n",
        "def model_init_fn():\n",
        "    return two_layer_fc_functional(input_shape, hidden_size, num_classes)\n",
        "\n",
        "def optimizer_init_fn():\n",
        "    return tf.keras.optimizers.SGD(learning_rate=learning_rate)\n",
        "\n",
        "train_part34(model_init_fn, optimizer_init_fn)"
      ]
    },
    {
      "cell_type": "markdown",
      "metadata": {
        "id": "QHUokgX20tIz"
      },
      "source": [
        "Поэкспериментируйте с архитектурой сверточной сети. Для вашего набора данных вам необходимо получить как минимум 70% accuracy на валидационной выборке за 10 эпох обучения. Опишите все эксперименты и сделайте выводы (без выполнения данного пункта работы приниматься не будут).\n",
        "\n",
        "Эспериментируйте с архитектурой, гиперпараметрами, функцией потерь, регуляризацией, методом оптимизации.  \n",
        "\n",
        "https://www.tensorflow.org/versions/r2.0/api_docs/python/tf/keras/layers/BatchNormalization#methods https://www.tensorflow.org/versions/r2.0/api_docs/python/tf/keras/layers/Dropout#methods"
      ]
    },
    {
      "cell_type": "code",
      "execution_count": 17,
      "metadata": {
        "colab": {
          "base_uri": "https://localhost:8080/"
        },
        "id": "aRRm9AJ70tIz",
        "outputId": "b393c052-ca4a-4274-a41e-1a594c3df6d9"
      },
      "outputs": [
        {
          "output_type": "stream",
          "name": "stdout",
          "text": [
            "Iteration 0, Epoch 1, Loss: 2.316258430480957, Accuracy: 15.625, Val Loss: 2.795074939727783, Val Accuracy: 16.0\n",
            "Iteration 700, Epoch 1, Loss: 0.13723257184028625, Accuracy: 95.92546081542969, Val Loss: 0.07823485136032104, Val Accuracy: 97.89999389648438\n",
            "Iteration 1400, Epoch 2, Loss: 0.037943799048662186, Accuracy: 98.7844467163086, Val Loss: 0.05978196859359741, Val Accuracy: 98.29999542236328\n",
            "Iteration 2100, Epoch 3, Loss: 0.019766999408602715, Accuracy: 99.3739013671875, Val Loss: 0.06128118187189102, Val Accuracy: 98.0999984741211\n",
            "Iteration 2800, Epoch 4, Loss: 0.012801360338926315, Accuracy: 99.54336547851562, Val Loss: 0.06432227045297623, Val Accuracy: 97.69999694824219\n",
            "Iteration 3500, Epoch 5, Loss: 0.009357052855193615, Accuracy: 99.6925048828125, Val Loss: 0.0683261826634407, Val Accuracy: 98.5\n",
            "Iteration 4200, Epoch 6, Loss: 0.009005882777273655, Accuracy: 99.70939636230469, Val Loss: 0.07362035661935806, Val Accuracy: 98.0999984741211\n",
            "Iteration 4900, Epoch 7, Loss: 0.010389085859060287, Accuracy: 99.67213439941406, Val Loss: 0.07813789695501328, Val Accuracy: 97.89999389648438\n",
            "Iteration 5600, Epoch 8, Loss: 0.005904794204980135, Accuracy: 99.7646484375, Val Loss: 0.07792800664901733, Val Accuracy: 98.5\n",
            "Iteration 6300, Epoch 9, Loss: 0.008486568927764893, Accuracy: 99.78323364257812, Val Loss: 0.0973292887210846, Val Accuracy: 98.29999542236328\n",
            "Iteration 7000, Epoch 10, Loss: 0.0021835968364030123, Accuracy: 99.92698669433594, Val Loss: 0.058719296008348465, Val Accuracy: 99.29999542236328\n"
          ]
        }
      ],
      "source": [
        "class CustomConvNet(tf.keras.Model):\n",
        "    def __init__(self):\n",
        "        super(CustomConvNet, self).__init__()\n",
        "        ############################################################################\n",
        "        # TODO: Construct a model that performs well on CIFAR-10                   #\n",
        "        ############################################################################\n",
        "        # *****START OF YOUR CODE (DO NOT DELETE/MODIFY THIS LINE)*****\n",
        "\n",
        "        # Определение сверточных слоев с активацией ReLU\n",
        "        self.conv1 = tf.keras.layers.Conv2D(32, (3, 3), padding='same', activation='relu')\n",
        "        self.conv2 = tf.keras.layers.Conv2D(64, (3, 3), padding='same', activation='relu')\n",
        "        self.max_pool = tf.keras.layers.MaxPooling2D(pool_size=(2, 2))\n",
        "\n",
        "        # Определение слоев полносвязной части сети\n",
        "        self.flatten = tf.keras.layers.Flatten()\n",
        "        self.fc1 = tf.keras.layers.Dense(256, activation='relu')\n",
        "        self.fc2 = tf.keras.layers.Dense(10, activation='softmax')\n",
        "\n",
        "        # *****END OF YOUR CODE (DO NOT DELETE/MODIFY THIS LINE)*****\n",
        "        ############################################################################\n",
        "        #                            END OF YOUR CODE                              #\n",
        "        ############################################################################\n",
        "\n",
        "    def call(self, input_tensor, training=False):\n",
        "        ############################################################################\n",
        "        # TODO: Construct a model that performs well on CIFAR-10                   #\n",
        "        ############################################################################\n",
        "        # *****START OF YOUR CODE (DO NOT DELETE/MODIFY THIS LINE)*****\n",
        "\n",
        "        # Применение сверточных слоев\n",
        "        x = self.conv1(input_tensor)\n",
        "        x = self.conv2(x)\n",
        "        x = self.max_pool(x)\n",
        "\n",
        "        # Применение полносвязных слоев\n",
        "        x = self.flatten(x)\n",
        "        x = self.fc1(x)\n",
        "        x = self.fc2(x)\n",
        "\n",
        "        # *****END OF YOUR CODE (DO NOT DELETE/MODIFY THIS LINE)*****\n",
        "        ############################################################################\n",
        "        #                            END OF YOUR CODE                              #\n",
        "        ############################################################################\n",
        "        return x\n",
        "\n",
        "\n",
        "\n",
        "print_every = 700\n",
        "num_epochs = 10\n",
        "\n",
        "model = CustomConvNet()\n",
        "\n",
        "def model_init_fn():\n",
        "    return CustomConvNet()\n",
        "\n",
        "def optimizer_init_fn():\n",
        "    learning_rate = 1e-3\n",
        "    return tf.keras.optimizers.Adam(learning_rate)\n",
        "\n",
        "train_part34(model_init_fn, optimizer_init_fn, num_epochs=num_epochs, is_training=True)"
      ]
    },
    {
      "cell_type": "code",
      "execution_count": 18,
      "metadata": {
        "colab": {
          "base_uri": "https://localhost:8080/"
        },
        "id": "9lDFEpG70tIz",
        "outputId": "d02b2d4c-f161-4447-d8d5-2329a6938ae9"
      },
      "outputs": [
        {
          "output_type": "stream",
          "name": "stdout",
          "text": [
            "Iteration 0, Epoch 1, Loss: 2.3291828632354736, Accuracy: 1.5625, Val Loss: 2.328279733657837, Val Accuracy: 6.5\n",
            "Iteration 700, Epoch 1, Loss: 1.234477162361145, Accuracy: 69.9246597290039, Val Loss: 0.5403664708137512, Val Accuracy: 84.69999694824219\n",
            "Iteration 1400, Epoch 2, Loss: 0.36387741565704346, Accuracy: 89.781005859375, Val Loss: 0.3965161144733429, Val Accuracy: 88.20000457763672\n",
            "Iteration 2100, Epoch 3, Loss: 0.2915494441986084, Accuracy: 91.65751647949219, Val Loss: 0.3530992865562439, Val Accuracy: 89.4000015258789\n",
            "Iteration 2800, Epoch 4, Loss: 0.25652801990509033, Accuracy: 92.59132385253906, Val Loss: 0.31251928210258484, Val Accuracy: 90.4000015258789\n",
            "Iteration 3500, Epoch 5, Loss: 0.22536197304725647, Accuracy: 93.64273834228516, Val Loss: 0.2882891297340393, Val Accuracy: 91.5\n",
            "Iteration 4200, Epoch 6, Loss: 0.20305775105953217, Accuracy: 94.24696350097656, Val Loss: 0.26293718814849854, Val Accuracy: 91.69999694824219\n",
            "Iteration 4900, Epoch 7, Loss: 0.1853310912847519, Accuracy: 94.6618881225586, Val Loss: 0.25154909491539, Val Accuracy: 91.9000015258789\n",
            "Iteration 5600, Epoch 8, Loss: 0.17222285270690918, Accuracy: 94.97254180908203, Val Loss: 0.23459917306900024, Val Accuracy: 92.29999542236328\n",
            "Iteration 6300, Epoch 9, Loss: 0.15387791395187378, Accuracy: 95.4660415649414, Val Loss: 0.22830280661582947, Val Accuracy: 92.5999984741211\n",
            "Iteration 7000, Epoch 10, Loss: 0.13365492224693298, Accuracy: 96.11565399169922, Val Loss: 0.2126220464706421, Val Accuracy: 93.30000305175781\n"
          ]
        }
      ],
      "source": [
        "def model_init_fn():\n",
        "    return CustomConvNet()\n",
        "\n",
        "# Let's try SGD optimizer\n",
        "def optimizer_init_fn():\n",
        "    learning_rate = 1e-3\n",
        "    return tf.keras.optimizers.SGD(learning_rate)\n",
        "\n",
        "train_part34(model_init_fn, optimizer_init_fn, num_epochs=num_epochs, is_training=True)"
      ]
    },
    {
      "cell_type": "code",
      "execution_count": 19,
      "metadata": {
        "id": "HtyTN7qz0tI0"
      },
      "outputs": [],
      "source": [
        "class CustomConvNet_drp(tf.keras.Model):\n",
        "    def __init__(self):\n",
        "        super(CustomConvNet_drp, self).__init__()\n",
        "        ############################################################################\n",
        "        # TODO: Construct a model that performs well on CIFAR-10                   #\n",
        "        ############################################################################\n",
        "        # *****START OF YOUR CODE (DO NOT DELETE/MODIFY THIS LINE)*****\n",
        "\n",
        "        # Определение сверточных слоев\n",
        "        self.conv1 = tf.keras.layers.Conv2D(32, (3, 3), padding='same')\n",
        "        self.conv2 = tf.keras.layers.Conv2D(16, (3, 3), padding='same')\n",
        "\n",
        "        # Определение функций активации и слоев dropout\n",
        "        self.relu1 = tf.keras.layers.ReLU()\n",
        "        self.dropout1 = tf.keras.layers.Dropout(0.5)\n",
        "        self.relu2 = tf.keras.layers.ReLU()\n",
        "        self.dropout2 = tf.keras.layers.Dropout(0.5)\n",
        "\n",
        "        # Определение слоев полносвязной части сети\n",
        "        self.flatten = tf.keras.layers.Flatten()\n",
        "        self.dense = tf.keras.layers.Dense(10, activation='softmax')\n",
        "\n",
        "        # *****END OF YOUR CODE (DO NOT DELETE/MODIFY THIS LINE)*****\n",
        "        ############################################################################\n",
        "        #                            END OF YOUR CODE                              #\n",
        "        ############################################################################\n",
        "\n",
        "    def call(self, input_tensor, training=False):\n",
        "        ############################################################################\n",
        "        # TODO: Construct a model that performs well on CIFAR-10                   #\n",
        "        ############################################################################\n",
        "        # *****START OF YOUR CODE (DO NOT DELETE/MODIFY THIS LINE)*****\n",
        "\n",
        "        # Применение сверточных слоев\n",
        "        x = self.conv1(input_tensor)\n",
        "        x = self.relu1(x)\n",
        "        x = self.dropout1(x, training=training)\n",
        "        x = self.conv2(x)\n",
        "        x = self.relu2(x)\n",
        "        x = self.dropout2(x, training=training)\n",
        "\n",
        "        # Применение полносвязных слоев\n",
        "        x = self.flatten(x)\n",
        "        x = self.dense(x)\n",
        "\n",
        "        # *****END OF YOUR CODE (DO NOT DELETE/MODIFY THIS LINE)*****\n",
        "        ############################################################################\n",
        "        #                            END OF YOUR CODE                              #\n",
        "        ############################################################################\n",
        "        return x\n"
      ]
    },
    {
      "cell_type": "code",
      "execution_count": 20,
      "metadata": {
        "colab": {
          "base_uri": "https://localhost:8080/"
        },
        "id": "tAiG7HIQ0tI0",
        "outputId": "0f7e627e-0850-42d6-98a9-6a0af5590c0d"
      },
      "outputs": [
        {
          "output_type": "stream",
          "name": "stdout",
          "text": [
            "Iteration 0, Epoch 1, Loss: 2.370997905731201, Accuracy: 10.9375, Val Loss: 2.271935224533081, Val Accuracy: 15.000000953674316\n",
            "Iteration 700, Epoch 1, Loss: 0.25752124190330505, Accuracy: 92.1875, Val Loss: 0.15156270563602448, Val Accuracy: 94.5\n",
            "Iteration 1400, Epoch 2, Loss: 0.09926659613847733, Accuracy: 96.96849822998047, Val Loss: 0.09858410805463791, Val Accuracy: 96.80000305175781\n",
            "Iteration 2100, Epoch 3, Loss: 0.07536294311285019, Accuracy: 97.60820007324219, Val Loss: 0.09660657495260239, Val Accuracy: 96.9000015258789\n",
            "Iteration 2800, Epoch 4, Loss: 0.0649985522031784, Accuracy: 97.9373779296875, Val Loss: 0.0729275494813919, Val Accuracy: 97.69999694824219\n",
            "Iteration 3500, Epoch 5, Loss: 0.056527961045503616, Accuracy: 98.2015151977539, Val Loss: 0.09612524509429932, Val Accuracy: 97.29999542236328\n",
            "Iteration 4200, Epoch 6, Loss: 0.049447447061538696, Accuracy: 98.43328857421875, Val Loss: 0.07374364882707596, Val Accuracy: 97.79999542236328\n",
            "Iteration 4900, Epoch 7, Loss: 0.04686471447348595, Accuracy: 98.45799255371094, Val Loss: 0.08965586870908737, Val Accuracy: 97.29999542236328\n",
            "Iteration 5600, Epoch 8, Loss: 0.04477047175168991, Accuracy: 98.52249145507812, Val Loss: 0.05595472827553749, Val Accuracy: 98.0999984741211\n",
            "Iteration 6300, Epoch 9, Loss: 0.04822428897023201, Accuracy: 98.39234161376953, Val Loss: 0.07696998864412308, Val Accuracy: 97.5999984741211\n",
            "Iteration 7000, Epoch 10, Loss: 0.040812041610479355, Accuracy: 98.62733459472656, Val Loss: 0.06590268760919571, Val Accuracy: 97.69999694824219\n"
          ]
        }
      ],
      "source": [
        "def model_init_fn():\n",
        "    return CustomConvNet_drp()\n",
        "\n",
        "def optimizer_init_fn():\n",
        "    learning_rate = 1e-3\n",
        "    return tf.keras.optimizers.Adam(learning_rate)\n",
        "\n",
        "train_part34(model_init_fn, optimizer_init_fn, num_epochs=num_epochs, is_training=True)"
      ]
    },
    {
      "cell_type": "code",
      "execution_count": 21,
      "metadata": {
        "colab": {
          "base_uri": "https://localhost:8080/"
        },
        "id": "YJ6GElRY0tI1",
        "outputId": "82235ed1-ed1e-4be3-aa23-710345fac302"
      },
      "outputs": [
        {
          "output_type": "stream",
          "name": "stdout",
          "text": [
            "Iteration 0, Epoch 1, Loss: 2.3291735649108887, Accuracy: 10.9375, Val Loss: 2.3251702785491943, Val Accuracy: 10.199999809265137\n",
            "Iteration 700, Epoch 1, Loss: 1.2164877653121948, Accuracy: 60.485023498535156, Val Loss: 0.561538815498352, Val Accuracy: 82.9000015258789\n",
            "Iteration 1400, Epoch 2, Loss: 0.5384864211082458, Accuracy: 83.75984191894531, Val Loss: 0.4854775369167328, Val Accuracy: 86.0\n",
            "Iteration 2100, Epoch 3, Loss: 0.47686639428138733, Accuracy: 85.68486785888672, Val Loss: 0.46093156933784485, Val Accuracy: 86.5999984741211\n",
            "Iteration 2800, Epoch 4, Loss: 0.4537081718444824, Accuracy: 86.5432357788086, Val Loss: 0.4372051954269409, Val Accuracy: 87.5999984741211\n",
            "Iteration 3500, Epoch 5, Loss: 0.42267048358917236, Accuracy: 87.57865905761719, Val Loss: 0.4211602210998535, Val Accuracy: 89.20000457763672\n",
            "Iteration 4200, Epoch 6, Loss: 0.4020264446735382, Accuracy: 88.22017669677734, Val Loss: 0.4122369587421417, Val Accuracy: 88.70000457763672\n",
            "Iteration 4900, Epoch 7, Loss: 0.392726868391037, Accuracy: 88.41700744628906, Val Loss: 0.40562936663627625, Val Accuracy: 88.9000015258789\n",
            "Iteration 5600, Epoch 8, Loss: 0.3823830783367157, Accuracy: 89.09518432617188, Val Loss: 0.3996618986129761, Val Accuracy: 88.5999984741211\n",
            "Iteration 6300, Epoch 9, Loss: 0.35420534014701843, Accuracy: 89.79407501220703, Val Loss: 0.3929996192455292, Val Accuracy: 88.9000015258789\n",
            "Iteration 7000, Epoch 10, Loss: 0.3313728868961334, Accuracy: 90.91705322265625, Val Loss: 0.38513660430908203, Val Accuracy: 89.70000457763672\n"
          ]
        }
      ],
      "source": [
        "def model_init_fn():\n",
        "    return CustomConvNet_drp()\n",
        "\n",
        "def optimizer_init_fn():\n",
        "    learning_rate = 1e-3\n",
        "    return tf.keras.optimizers.SGD(learning_rate)\n",
        "\n",
        "train_part34(model_init_fn, optimizer_init_fn, num_epochs=num_epochs, is_training=True)"
      ]
    },
    {
      "cell_type": "markdown",
      "metadata": {
        "id": "gUfTqJmr0tI2"
      },
      "source": [
        "Опишите все эксперименты, результаты. Сделайте выводы."
      ]
    },
    {
      "cell_type": "markdown",
      "metadata": {
        "id": "HKt7KXMn0tI2"
      },
      "source": [
        "Основные выводы по проделанной работе:\n",
        "1. Лучше всего данные работают с моделью без Dropout слоев как с Adam, так и с SGD. Но даже так все эксперименты показали отличные результаты.\n",
        "2. В нашем случае наиболее эффективным оптимизатором оказался Adam."
      ]
    }
  ],
  "metadata": {
    "colab": {
      "provenance": []
    },
    "kernelspec": {
      "display_name": "Python 3 (ipykernel)",
      "language": "python",
      "name": "python3"
    },
    "language_info": {
      "codemirror_mode": {
        "name": "ipython",
        "version": 3
      },
      "file_extension": ".py",
      "mimetype": "text/x-python",
      "name": "python",
      "nbconvert_exporter": "python",
      "pygments_lexer": "ipython3",
      "version": "3.10.12"
    }
  },
  "nbformat": 4,
  "nbformat_minor": 0
}